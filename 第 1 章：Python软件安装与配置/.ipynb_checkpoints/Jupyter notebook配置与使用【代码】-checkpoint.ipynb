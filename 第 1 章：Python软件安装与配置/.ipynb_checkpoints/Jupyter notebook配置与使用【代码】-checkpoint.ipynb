{
 "cells": [
  {
   "cell_type": "code",
   "execution_count": 1,
   "metadata": {},
   "outputs": [
    {
     "data": {
      "text/plain": [
       "'Python科学计量'"
      ]
     },
     "execution_count": 1,
     "metadata": {},
     "output_type": "execute_result"
    }
   ],
   "source": [
    "'Python'+'科学计量'"
   ]
  },
  {
   "cell_type": "code",
   "execution_count": 2,
   "metadata": {},
   "outputs": [
    {
     "data": {
      "image/png": "[encoded data removed]",
      "text/plain": [
       "<Figure size 432x288 with 1 Axes>"
      ]
     },
     "metadata": {
      "needs_background": "light"
     },
     "output_type": "display_data"
    }
   ],
   "source": [
    "import matplotlib.pyplot as plt #导入模块，为了方便调用，另起一个简单的别名\n",
    "\n",
    "x = [1,2,3,4]                   #设置x数据\n",
    "y = [5,6,7,8]                   #设置y数据\n",
    "\n",
    "plt.plot(x,y)                   #绘制图形\n",
    "plt.show()                      #显示图形"
   ]
  },
  {
   "cell_type": "code",
   "execution_count": 3,
   "metadata": {},
   "outputs": [
    {
     "name": "stdout",
     "output_type": "stream",
     "text": [
      "matplotlib的版本号： 3.4.1\n",
      "matplotlib的路径位于 ['C:\\\\Users\\\\86177\\\\AppData\\\\Roaming\\\\Python\\\\Python38\\\\site-packages\\\\matplotlib']\n"
     ]
    }
   ],
   "source": [
    "import matplotlib\n",
    "print('matplotlib的版本号：',matplotlib.__version__)\n",
    "print('matplotlib的路径位于',matplotlib.__path__)"
   ]
  },
  {
   "cell_type": "markdown",
   "metadata": {},
   "source": [
    "## 第三方模块的安装"
   ]
  },
  {
   "cell_type": "markdown",
   "metadata": {},
   "source": [
    "    安装指令： pip install <model_name>\n",
    "    检验指令： import <model_name>"
   ]
  },
  {
   "cell_type": "markdown",
   "metadata": {},
   "source": [
    "比如安装metaknowledge模块：\n",
    "    \n",
    "    pip install metaknowledge"
   ]
  },
  {
   "cell_type": "markdown",
   "metadata": {},
   "source": [
    "如果下载网络不稳定，或者下载的第三方模块体积较大，可以添加镜像进行安装，比如使用清华大学的镜像安装\n",
    "    \n",
    "    pip install <model_name> -i https://pypi.tuna.tsinghua.edu.cn/simple/"
   ]
  },
  {
   "cell_type": "code",
   "execution_count": null,
   "metadata": {},
   "outputs": [],
   "source": []
  }
 ],
 "metadata": {
  "kernelspec": {
   "display_name": "Python 3",
   "language": "python",
   "name": "python3"
  },
  "language_info": {
   "codemirror_mode": {
    "name": "ipython",
    "version": 3
   },
   "file_extension": ".py",
   "mimetype": "text/x-python",
   "name": "python",
   "nbconvert_exporter": "python",
   "pygments_lexer": "ipython3",
   "version": "3.8.3"
  }
 },
 "nbformat": 4,
 "nbformat_minor": 4
}
