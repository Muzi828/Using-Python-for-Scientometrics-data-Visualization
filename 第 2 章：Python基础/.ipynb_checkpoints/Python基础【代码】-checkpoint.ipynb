{
 "cells": [
  {
   "cell_type": "markdown",
   "metadata": {},
   "source": [
    "## 2.1 从数字开始"
   ]
  },
  {
   "cell_type": "markdown",
   "metadata": {},
   "source": [
    "### 2.1.1  整数、浮点数、复数"
   ]
  },
  {
   "cell_type": "code",
   "execution_count": 1,
   "metadata": {},
   "outputs": [
    {
     "name": "stdout",
     "output_type": "stream",
     "text": [
      "5 <class 'int'>\n",
      "5.0 <class 'float'>\n",
      "(1+3j) <class 'complex'>\n"
     ]
    }
   ],
   "source": [
    "#int整数类型\n",
    "print(5,type(5))\n",
    "#float浮点数类型\n",
    "print(5.0,type(5.0))\n",
    "#complex复数类型\n",
    "print(complex(1+3j),type(complex(1+3j)))"
   ]
  },
  {
   "cell_type": "markdown",
   "metadata": {},
   "source": [
    "### 2.1.2 数值运算及其相关的常用函数"
   ]
  },
  {
   "cell_type": "code",
   "execution_count": 2,
   "metadata": {},
   "outputs": [
    {
     "name": "stdout",
     "output_type": "stream",
     "text": [
      "8\n",
      "4\n",
      "12\n",
      "3.0\n"
     ]
    }
   ],
   "source": [
    "#加法操作\n",
    "print(6+2)\n",
    "#减法操作\n",
    "print(6-2)\n",
    "#乘法操作\n",
    "print(6*2)\n",
    "#除法操作\n",
    "print(6/2)"
   ]
  },
  {
   "cell_type": "code",
   "execution_count": 3,
   "metadata": {},
   "outputs": [
    {
     "name": "stdout",
     "output_type": "stream",
     "text": [
      "15\n",
      "15.0\n"
     ]
    }
   ],
   "source": [
    "#数值+变量\n",
    "a = 6 * 2\n",
    "print(3 + a)\n",
    "\n",
    "#变量+变量\n",
    "b = 6/2\n",
    "print(a+b)"
   ]
  },
  {
   "cell_type": "code",
   "execution_count": 4,
   "metadata": {},
   "outputs": [
    {
     "name": "stdout",
     "output_type": "stream",
     "text": [
      "1\n",
      "3\n",
      "15\n",
      "5\n",
      "8\n",
      "8\n"
     ]
    }
   ],
   "source": [
    "#取余操作\n",
    "print(10%3)\n",
    "\n",
    "#取整操作\n",
    "print(10//3)\n",
    "\n",
    "#自增操作\n",
    "a = 10\n",
    "a += 5\n",
    "print(a)\n",
    "\n",
    "#自减操作\n",
    "a = 10\n",
    "a -= 5\n",
    "print(a)\n",
    "\n",
    "#3次方计算\n",
    "a = 2\n",
    "b = 3\n",
    "print(2**3)\n",
    "print(a**b)"
   ]
  },
  {
   "cell_type": "code",
   "execution_count": 5,
   "metadata": {},
   "outputs": [
    {
     "name": "stdout",
     "output_type": "stream",
     "text": [
      "-14.5\n"
     ]
    }
   ],
   "source": [
    "#运行优先级\n",
    "print((-4)*2 + (5/(-2)) - 4)"
   ]
  },
  {
   "cell_type": "code",
   "execution_count": 6,
   "metadata": {},
   "outputs": [
    {
     "name": "stdout",
     "output_type": "stream",
     "text": [
      "3.141592653589793\n",
      "1.0\n",
      "0.5000000000000001\n",
      "4.0\n"
     ]
    }
   ],
   "source": [
    "#复杂数值运算符号\n",
    "\n",
    "import math\n",
    "#计算π值\n",
    "print(math.pi)\n",
    "\n",
    "#计算正弦90度\n",
    "print(math.sin(math.pi/2))\n",
    "\n",
    "#计算余弦60度\n",
    "print(math.cos(math.pi/3))\n",
    "\n",
    "#计算log函数\n",
    "print(math.log10(10000))"
   ]
  },
  {
   "cell_type": "code",
   "execution_count": 7,
   "metadata": {},
   "outputs": [
    {
     "name": "stdout",
     "output_type": "stream",
     "text": [
      "['__doc__', '__loader__', '__name__', '__package__', '__spec__', 'acos', 'acosh', 'asin', 'asinh', 'atan', 'atan2', 'atanh', 'ceil', 'comb', 'copysign', 'cos', 'cosh', 'degrees', 'dist', 'e', 'erf', 'erfc', 'exp', 'expm1', 'fabs', 'factorial', 'floor', 'fmod', 'frexp', 'fsum', 'gamma', 'gcd', 'hypot', 'inf', 'isclose', 'isfinite', 'isinf', 'isnan', 'isqrt', 'ldexp', 'lgamma', 'log', 'log10', 'log1p', 'log2', 'modf', 'nan', 'perm', 'pi', 'pow', 'prod', 'radians', 'remainder', 'sin', 'sinh', 'sqrt', 'tan', 'tanh', 'tau', 'trunc']\n"
     ]
    }
   ],
   "source": [
    "#查看模块中的内置方法\n",
    "import math\n",
    "print(dir(math))"
   ]
  },
  {
   "cell_type": "code",
   "execution_count": 8,
   "metadata": {},
   "outputs": [
    {
     "name": "stdout",
     "output_type": "stream",
     "text": [
      "2.718281828459045\n",
      "300000.0\n"
     ]
    }
   ],
   "source": [
    "#自然对数与科学计数法\n",
    "import math\n",
    "print(math.e)\n",
    "print(3e5)"
   ]
  },
  {
   "cell_type": "markdown",
   "metadata": {},
   "source": [
    "## 2.2 变量、语句和表达式"
   ]
  },
  {
   "cell_type": "markdown",
   "metadata": {},
   "source": [
    "### 2.2.1 变量作用及定义的方法"
   ]
  },
  {
   "cell_type": "markdown",
   "metadata": {},
   "source": [
    "“随用随定义”"
   ]
  },
  {
   "cell_type": "code",
   "execution_count": 9,
   "metadata": {},
   "outputs": [
    {
     "name": "stdout",
     "output_type": "stream",
     "text": [
      "5 10.0 hello world\n",
      "<class 'int'> <class 'float'> <class 'str'>\n"
     ]
    }
   ],
   "source": [
    "a = 5\n",
    "b = 10.0\n",
    "c = 'hello world'\n",
    "print(a,b,c)\n",
    "print(type(a),type(b),type(c))"
   ]
  },
  {
   "cell_type": "code",
   "execution_count": 10,
   "metadata": {},
   "outputs": [
    {
     "name": "stdout",
     "output_type": "stream",
     "text": [
      "20 li lei\n",
      "<class 'int'> <class 'str'>\n"
     ]
    }
   ],
   "source": [
    "b = 20\n",
    "c = 'li lei'\n",
    "print(b,c)\n",
    "print(type(b),type(c))"
   ]
  },
  {
   "cell_type": "markdown",
   "metadata": {},
   "source": [
    "### 2.2.2 变量命名规则和习惯"
   ]
  },
  {
   "cell_type": "markdown",
   "metadata": {},
   "source": [
    "   * 非数字开头\n",
    "   * 使用小写字母，用下划线连接不同单词\n",
    "   * 大小写敏感，apple和Apple不是同一个变量\n",
    "   * 望文生义\n",
    "   * 避免与内置函数、类型、关键词等重名"
   ]
  },
  {
   "cell_type": "code",
   "execution_count": 11,
   "metadata": {},
   "outputs": [
    {
     "ename": "TypeError",
     "evalue": "'str' object is not callable",
     "output_type": "error",
     "traceback": [
      "\u001b[1;31m---------------------------------------------------------------------------\u001b[0m",
      "\u001b[1;31mTypeError\u001b[0m                                 Traceback (most recent call last)",
      "\u001b[1;32m<ipython-input-11-2ec4db22e2b8>\u001b[0m in \u001b[0;36m<module>\u001b[1;34m\u001b[0m\n\u001b[0;32m      1\u001b[0m \u001b[0mprint\u001b[0m \u001b[1;33m=\u001b[0m \u001b[1;34m'hello'\u001b[0m\u001b[1;33m\u001b[0m\u001b[1;33m\u001b[0m\u001b[0m\n\u001b[1;32m----> 2\u001b[1;33m \u001b[0mprint\u001b[0m\u001b[1;33m(\u001b[0m\u001b[0mprint\u001b[0m\u001b[1;33m)\u001b[0m\u001b[1;33m\u001b[0m\u001b[1;33m\u001b[0m\u001b[0m\n\u001b[0m",
      "\u001b[1;31mTypeError\u001b[0m: 'str' object is not callable"
     ]
    }
   ],
   "source": [
    "print = 'hello'\n",
    "print(print)"
   ]
  },
  {
   "cell_type": "markdown",
   "metadata": {},
   "source": [
    "### 2.2.3 语句与表达式"
   ]
  },
  {
   "cell_type": "markdown",
   "metadata": {},
   "source": [
    "语句英文单词为：Expression，是由数字，算数符号等构成使求得的数值有意义的组合\n",
    "\n",
    "$$x^{2}-2x+1$$"
   ]
  },
  {
   "cell_type": "markdown",
   "metadata": {},
   "source": [
    "表达式英文单词为：Statement，表示要执行的动作\n",
    "\n",
    "$$a = a + 4$$"
   ]
  },
  {
   "cell_type": "markdown",
   "metadata": {},
   "source": [
    "## 2.3 常用数据类型"
   ]
  },
  {
   "cell_type": "markdown",
   "metadata": {},
   "source": [
    "### 2.3.1 字符串"
   ]
  },
  {
   "cell_type": "markdown",
   "metadata": {},
   "source": [
    "由于前面已经对print函数进行赋值，此时要再次使用print内置函数，需要重启\n",
    "\n",
    "    点击 此页面菜单栏中的【kernel】，然后选择【Restart】，再运行后面的代码"
   ]
  },
  {
   "cell_type": "code",
   "execution_count": 1,
   "metadata": {},
   "outputs": [
    {
     "name": "stdout",
     "output_type": "stream",
     "text": [
      "li lei <class 'str'>\n",
      "li lei <class 'str'>\n",
      "li lei <class 'str'>\n"
     ]
    }
   ],
   "source": [
    "name = 'li lei'\n",
    "print(name,type(name))\n",
    "\n",
    "name = \"li lei\"\n",
    "print(name,type(name))\n",
    "\n",
    "name = '''li lei'''\n",
    "print(name,type(name))"
   ]
  },
  {
   "cell_type": "markdown",
   "metadata": {},
   "source": [
    "（1）字符串切片与索引"
   ]
  },
  {
   "cell_type": "code",
   "execution_count": 2,
   "metadata": {},
   "outputs": [],
   "source": [
    "s = 'hello world'"
   ]
  },
  {
   "cell_type": "code",
   "execution_count": 3,
   "metadata": {},
   "outputs": [
    {
     "name": "stdout",
     "output_type": "stream",
     "text": [
      "o\n",
      "o\n"
     ]
    }
   ],
   "source": [
    "#单取一个元素o\n",
    "print(s[4])\n",
    "print(s[-7])"
   ]
  },
  {
   "cell_type": "code",
   "execution_count": 4,
   "metadata": {},
   "outputs": [
    {
     "name": "stdout",
     "output_type": "stream",
     "text": [
      "llo wo\n",
      "llo wo\n"
     ]
    }
   ],
   "source": [
    "#取中间多个元素llo wo\n",
    "print(s[2:8])\n",
    "print(s[-9:-3])"
   ]
  },
  {
   "cell_type": "code",
   "execution_count": 5,
   "metadata": {},
   "outputs": [
    {
     "name": "stdout",
     "output_type": "stream",
     "text": [
      "llo wo\n",
      "llo wo\n",
      "low\n",
      "low\n",
      "l \n",
      "l \n"
     ]
    }
   ],
   "source": [
    "#数据切片,最后一个冒号后的数值指定切片的跨度\n",
    "print(s[2:8:1])\n",
    "print(s[-9:-3:1])\n",
    "\n",
    "print(s[2:8:2])\n",
    "print(s[-9:-3:2])\n",
    "\n",
    "print(s[2:8:3])\n",
    "print(s[-9:-3:3])"
   ]
  },
  {
   "cell_type": "code",
   "execution_count": 6,
   "metadata": {},
   "outputs": [
    {
     "name": "stdout",
     "output_type": "stream",
     "text": [
      "hello world\n",
      "dlrow olleh\n",
      "hlowrd\n"
     ]
    }
   ],
   "source": [
    "#从头开始切和一直切到尾\n",
    "print(s[::])      #获取全部\n",
    "print(s[::-1])    #获取全部，但是按照反向\n",
    "print(s[::2])     #获取全部，但是每两个元素"
   ]
  },
  {
   "cell_type": "code",
   "execution_count": 7,
   "metadata": {},
   "outputs": [
    {
     "name": "stdout",
     "output_type": "stream",
     "text": [
      "0\n",
      "0\n"
     ]
    }
   ],
   "source": [
    "#元素位置查找\n",
    "print(s.find('hello'))\n",
    "print(s.index('hello'))"
   ]
  },
  {
   "cell_type": "code",
   "execution_count": 8,
   "metadata": {},
   "outputs": [
    {
     "name": "stdout",
     "output_type": "stream",
     "text": [
      "-1\n"
     ]
    },
    {
     "ename": "ValueError",
     "evalue": "substring not found",
     "output_type": "error",
     "traceback": [
      "\u001b[1;31m---------------------------------------------------------------------------\u001b[0m",
      "\u001b[1;31mValueError\u001b[0m                                Traceback (most recent call last)",
      "\u001b[1;32m<ipython-input-8-de9115d58efb>\u001b[0m in \u001b[0;36m<module>\u001b[1;34m\u001b[0m\n\u001b[0;32m      1\u001b[0m \u001b[1;31m#两种方法的区别\u001b[0m\u001b[1;33m\u001b[0m\u001b[1;33m\u001b[0m\u001b[1;33m\u001b[0m\u001b[0m\n\u001b[0;32m      2\u001b[0m \u001b[0mprint\u001b[0m\u001b[1;33m(\u001b[0m\u001b[0ms\u001b[0m\u001b[1;33m.\u001b[0m\u001b[0mfind\u001b[0m\u001b[1;33m(\u001b[0m\u001b[1;34m'Hello'\u001b[0m\u001b[1;33m)\u001b[0m\u001b[1;33m)\u001b[0m\u001b[1;33m\u001b[0m\u001b[1;33m\u001b[0m\u001b[0m\n\u001b[1;32m----> 3\u001b[1;33m \u001b[0mprint\u001b[0m\u001b[1;33m(\u001b[0m\u001b[0ms\u001b[0m\u001b[1;33m.\u001b[0m\u001b[0mindex\u001b[0m\u001b[1;33m(\u001b[0m\u001b[1;34m'Hello'\u001b[0m\u001b[1;33m)\u001b[0m\u001b[1;33m)\u001b[0m\u001b[1;33m\u001b[0m\u001b[1;33m\u001b[0m\u001b[0m\n\u001b[0m",
      "\u001b[1;31mValueError\u001b[0m: substring not found"
     ]
    }
   ],
   "source": [
    "#两种方法的区别\n",
    "print(s.find('Hello'))\n",
    "print(s.index('Hello'))"
   ]
  },
  {
   "cell_type": "markdown",
   "metadata": {},
   "source": [
    "（2）字符串的格式化"
   ]
  },
  {
   "cell_type": "code",
   "execution_count": 9,
   "metadata": {},
   "outputs": [
    {
     "name": "stdout",
     "output_type": "stream",
     "text": [
      "hello + world\n",
      "π保留两位小数：3.14\n"
     ]
    }
   ],
   "source": [
    "a,b =  \"hello\",\"world\"\n",
    "print(\"{} + {}\".format(a,b))\n",
    "\n",
    "import math\n",
    "pi = math.pi\n",
    "print(\"π保留两位小数：{:.2f}\".format(pi))"
   ]
  },
  {
   "cell_type": "code",
   "execution_count": 10,
   "metadata": {},
   "outputs": [
    {
     "name": "stdout",
     "output_type": "stream",
     "text": [
      "hello + world\n",
      "π保留两位小数：3.14\n"
     ]
    }
   ],
   "source": [
    "a,b =  \"hello\",\"world\"\n",
    "print(f\"{a} + {b}\")\n",
    "\n",
    "import math\n",
    "pi = math.pi\n",
    "print(f\"π保留两位小数：{pi:.2f}\")"
   ]
  },
  {
   "cell_type": "markdown",
   "metadata": {},
   "source": [
    "(3)字符串分割与合并"
   ]
  },
  {
   "cell_type": "code",
   "execution_count": 11,
   "metadata": {},
   "outputs": [
    {
     "name": "stdout",
     "output_type": "stream",
     "text": [
      "['hello', 'world', '!!!']\n",
      "hello,world,!!!\n"
     ]
    }
   ],
   "source": [
    "str1='hello world !!!'\n",
    "print (str1.split())  #字符串默认按照空格分割，也可指定其它分割符号\n",
    "print (\",\".join(str1.split()))  #将拆分后的内容重新合并为字符串"
   ]
  },
  {
   "cell_type": "markdown",
   "metadata": {},
   "source": [
    "（4）字符串的替换"
   ]
  },
  {
   "cell_type": "code",
   "execution_count": 12,
   "metadata": {},
   "outputs": [
    {
     "name": "stdout",
     "output_type": "stream",
     "text": [
      "hexxo\n",
      "hexlo\n"
     ]
    }
   ],
   "source": [
    "#第一个参数是替换前的内容，第二个参数是替换后的内容，第三个参数是替换的次数\n",
    "s = 'hello'\n",
    "print(s.replace('l','x'))\n",
    "print(s.replace('l','x',1))"
   ]
  },
  {
   "cell_type": "markdown",
   "metadata": {},
   "source": [
    "（5）字符串的大小写"
   ]
  },
  {
   "cell_type": "code",
   "execution_count": 13,
   "metadata": {},
   "outputs": [
    {
     "name": "stdout",
     "output_type": "stream",
     "text": [
      "SHANGHAI MARITIME UNIVERSITY\n",
      "shanghai maritime university\n",
      "Shanghai maritime university\n"
     ]
    }
   ],
   "source": [
    "s = 'Shanghai Maritime University'\n",
    "print(s.upper())       #全大小\n",
    "print(s.lower())       #全小写\n",
    "print(s.capitalize())  #首字母大写"
   ]
  },
  {
   "cell_type": "markdown",
   "metadata": {},
   "source": [
    "（6）字符串的判断"
   ]
  },
  {
   "cell_type": "code",
   "execution_count": 14,
   "metadata": {},
   "outputs": [
    {
     "name": "stdout",
     "output_type": "stream",
     "text": [
      "该字符串中包含大学\n",
      "True\n",
      "True\n",
      "False\n",
      "False\n"
     ]
    }
   ],
   "source": [
    "s = 'Shanghai Maritime University'\n",
    "if 'uni' in s.lower():                #存在判断in\n",
    "    print('该字符串中包含大学')\n",
    "\n",
    "print(s.startswith('Shanghai'))       #开头存在匹配\n",
    "print(s.endswith('sity'))             #结尾存在匹配\n",
    "print(s.isdigit())                    #是否全为数值\n",
    "print(s.isalpha())                    #是否全为字母"
   ]
  },
  {
   "cell_type": "markdown",
   "metadata": {},
   "source": [
    "(7)用户输入"
   ]
  },
  {
   "cell_type": "markdown",
   "metadata": {},
   "source": [
    "input()实现用户与程序的交互，返回的内容始终是字符串数据类型"
   ]
  },
  {
   "cell_type": "code",
   "execution_count": 15,
   "metadata": {},
   "outputs": [
    {
     "name": "stdout",
     "output_type": "stream",
     "text": [
      "请输入要输出的内容：1\n",
      "1 <class 'str'>\n"
     ]
    }
   ],
   "source": [
    "content = input('请输入要输出的内容：')\n",
    "print(content,type(content))"
   ]
  },
  {
   "cell_type": "code",
   "execution_count": 16,
   "metadata": {},
   "outputs": [
    {
     "name": "stdout",
     "output_type": "stream",
     "text": [
      "请输入要输出的内容：2.5\n",
      "2.5 <class 'str'>\n"
     ]
    }
   ],
   "source": [
    "content = input('请输入要输出的内容：')\n",
    "print(content,type(content))"
   ]
  },
  {
   "cell_type": "code",
   "execution_count": 17,
   "metadata": {},
   "outputs": [
    {
     "name": "stdout",
     "output_type": "stream",
     "text": [
      "请输入要输出的内容：[1,2,3,4]\n",
      "[1,2,3,4] <class 'str'>\n"
     ]
    }
   ],
   "source": [
    "content = input('请输入要输出的内容：')\n",
    "print(content,type(content))"
   ]
  },
  {
   "cell_type": "markdown",
   "metadata": {},
   "source": [
    "### 2.3.2 列表"
   ]
  },
  {
   "cell_type": "markdown",
   "metadata": {},
   "source": [
    "列表的创建方式"
   ]
  },
  {
   "cell_type": "code",
   "execution_count": 18,
   "metadata": {},
   "outputs": [
    {
     "name": "stdout",
     "output_type": "stream",
     "text": [
      "[] <class 'list'>\n",
      "[1, 2.4, 'a'] <class 'list'>\n",
      "[] <class 'list'>\n",
      "[1, 2.4, 'a'] <class 'list'>\n"
     ]
    }
   ],
   "source": [
    "ls_1 = []\n",
    "ls_2 = [1,2.4,'a']\n",
    "print(ls_1,type(ls_1))\n",
    "print(ls_2,type(ls_2))\n",
    "\n",
    "ls_3 = list()\n",
    "ls_4 = list((1,2.4,'a'))\n",
    "print(ls_3,type(ls_3))\n",
    "print(ls_4,type(ls_4))"
   ]
  },
  {
   "cell_type": "code",
   "execution_count": 19,
   "metadata": {},
   "outputs": [
    {
     "name": "stdout",
     "output_type": "stream",
     "text": [
      "1\n",
      "[1, 2.4]\n",
      "[1, 'a']\n"
     ]
    }
   ],
   "source": [
    "#列表也属于序列，即可进行索引与切片\n",
    "print(ls_2[0])\n",
    "print(ls_2[:2])\n",
    "print(ls_2[::2])"
   ]
  },
  {
   "cell_type": "code",
   "execution_count": 20,
   "metadata": {},
   "outputs": [
    {
     "name": "stdout",
     "output_type": "stream",
     "text": [
      "目标元素存在\n"
     ]
    }
   ],
   "source": [
    "#也可以进行存在判断\n",
    "if 'a' in ls_2:\n",
    "    print('目标元素存在')"
   ]
  },
  {
   "cell_type": "markdown",
   "metadata": {},
   "source": [
    "（1）列表计数"
   ]
  },
  {
   "cell_type": "code",
   "execution_count": 21,
   "metadata": {},
   "outputs": [
    {
     "name": "stdout",
     "output_type": "stream",
     "text": [
      "3\n",
      "1\n"
     ]
    }
   ],
   "source": [
    "print(len(ls_2))       #计算列表中所有的元素数量\n",
    "\n",
    "print(ls_2.count('a')) #计算列表中某一内容的出现次数"
   ]
  },
  {
   "cell_type": "markdown",
   "metadata": {},
   "source": [
    "（2）列表数据添加与删除"
   ]
  },
  {
   "cell_type": "code",
   "execution_count": 22,
   "metadata": {},
   "outputs": [
    {
     "name": "stdout",
     "output_type": "stream",
     "text": [
      "[1, 2.4, 'a', 'b']\n",
      "[1, 2.4, 'a', 'b', 'c', 'd']\n",
      "[1, 2.4, 'b', 'c', 'd']\n"
     ]
    }
   ],
   "source": [
    "ls_2.append('b')        #添加一个元素\n",
    "print(ls_2)\n",
    "\n",
    "ls_2.extend(['c','d'])  #添加多个元素\n",
    "print(ls_2)\n",
    "\n",
    "ls_2.remove('a')\n",
    "print(ls_2)"
   ]
  },
  {
   "cell_type": "markdown",
   "metadata": {},
   "source": [
    "（3）列表排序"
   ]
  },
  {
   "cell_type": "markdown",
   "metadata": {},
   "source": [
    "列表中的元素尽量同一数据类型，否者执行排序会报错，比如对ls_2进行排序"
   ]
  },
  {
   "cell_type": "code",
   "execution_count": 23,
   "metadata": {},
   "outputs": [
    {
     "name": "stdout",
     "output_type": "stream",
     "text": [
      "[1, 2, 2, 3, 3, 4] ['a', 'a', 'b', 'b', 'c', 'c']\n",
      "[4, 3, 3, 2, 2, 1] ['c', 'c', 'b', 'b', 'a', 'a']\n"
     ]
    }
   ],
   "source": [
    "ls_5 = [2,3,4,1,2,3]\n",
    "ls_6 = ['a','b','c','c','b','a']\n",
    "\n",
    "ls_5.sort()\n",
    "ls_6.sort()\n",
    "print(ls_5,ls_6)\n",
    "\n",
    "ls_5.sort(reverse=True)\n",
    "ls_6.sort(reverse=True)\n",
    "print(ls_5,ls_6)"
   ]
  },
  {
   "cell_type": "markdown",
   "metadata": {},
   "source": [
    "2.3.3 元祖"
   ]
  },
  {
   "cell_type": "code",
   "execution_count": 24,
   "metadata": {},
   "outputs": [
    {
     "name": "stdout",
     "output_type": "stream",
     "text": [
      "True\n",
      "<class 'tuple'> <class 'tuple'>\n"
     ]
    }
   ],
   "source": [
    "t_1 = (1,2.4,'a')\n",
    "t_2 = tuple([1,2.4,'a'])\n",
    "print(t_1 == t_2)\n",
    "print(type(t_1),type(t_2))"
   ]
  },
  {
   "cell_type": "markdown",
   "metadata": {},
   "source": [
    "元祖被赋值定义后就无法被更改，可以起到保护数据的作用"
   ]
  },
  {
   "cell_type": "markdown",
   "metadata": {},
   "source": [
    "### 2.3.4 布尔"
   ]
  },
  {
   "cell_type": "code",
   "execution_count": 25,
   "metadata": {},
   "outputs": [
    {
     "name": "stdout",
     "output_type": "stream",
     "text": [
      "<class 'bool'> <class 'bool'>\n",
      "True True\n"
     ]
    }
   ],
   "source": [
    "print(type(True),type(False))\n",
    "print(1 == True,0 == False)"
   ]
  },
  {
   "cell_type": "markdown",
   "metadata": {},
   "source": [
    "除等于真假判断之外，还有不等于!=，大于等于>=，小于等于<=以及是否存在判断in/not in等操作都返回布尔数据"
   ]
  },
  {
   "cell_type": "markdown",
   "metadata": {},
   "source": [
    "### 2.3.5 字典"
   ]
  },
  {
   "cell_type": "markdown",
   "metadata": {},
   "source": [
    "字典是无序的序列类型"
   ]
  },
  {
   "cell_type": "code",
   "execution_count": 26,
   "metadata": {},
   "outputs": [
    {
     "name": "stdout",
     "output_type": "stream",
     "text": [
      "False\n",
      "False\n",
      "False\n",
      "True\n"
     ]
    }
   ],
   "source": [
    "str_1 = 'abc'\n",
    "str_2 = 'cba'\n",
    "print(str_1 == str_2)\n",
    "\n",
    "ls_1 = ['a','b','c']\n",
    "ls_2 = ['c','b','a']\n",
    "print(ls_1 == ls_2)\n",
    "\n",
    "tup_1 = ('a','b','c')\n",
    "tup_2 = ('c','b','a')\n",
    "print(tup_1 == tup_2)\n",
    "\n",
    "dict_1 = {'a':1,'b':2,'c':3}\n",
    "dict_2 = {'c':3,'b':2,'a':1}\n",
    "print(dict_1 == dict_2)"
   ]
  },
  {
   "cell_type": "code",
   "execution_count": 27,
   "metadata": {},
   "outputs": [
    {
     "name": "stdout",
     "output_type": "stream",
     "text": [
      "dict_items([('key1', 30), ('key2', 20)])\n",
      "dict_keys(['key1', 'key2'])\n",
      "dict_values([30, 20])\n"
     ]
    }
   ],
   "source": [
    "#字典中的项以及键值对\n",
    "dict_1 = {'key1':30,'key2':20}\n",
    "print(dict_1.items())\n",
    "print(dict_1.keys())\n",
    "print(dict_1.values())"
   ]
  },
  {
   "cell_type": "code",
   "execution_count": 28,
   "metadata": {},
   "outputs": [
    {
     "name": "stdout",
     "output_type": "stream",
     "text": [
      "30\n",
      "20\n"
     ]
    }
   ],
   "source": [
    "#字典取值\n",
    "print(dict_1['key1'])\n",
    "print(dict_1['key2'])"
   ]
  },
  {
   "cell_type": "markdown",
   "metadata": {},
   "source": [
    "### 2.3.6 集合"
   ]
  },
  {
   "cell_type": "code",
   "execution_count": 29,
   "metadata": {},
   "outputs": [
    {
     "name": "stdout",
     "output_type": "stream",
     "text": [
      "{1, 2.4, (1, 2), 'a'}\n"
     ]
    }
   ],
   "source": [
    "s = {1,2.4,'a',1,2.4,(1,2)}\n",
    "print(s)"
   ]
  },
  {
   "cell_type": "code",
   "execution_count": 30,
   "metadata": {},
   "outputs": [
    {
     "name": "stdout",
     "output_type": "stream",
     "text": [
      "[1, 2.4, (1, 2), 'a']\n"
     ]
    }
   ],
   "source": [
    "s = list(set({1,2.4,'a',1,2.4,(1,2)}))\n",
    "print(s)"
   ]
  },
  {
   "cell_type": "markdown",
   "metadata": {},
   "source": [
    "## 2.4 条件判断"
   ]
  },
  {
   "cell_type": "markdown",
   "metadata": {},
   "source": [
    "### 2.4.1 单分支判断"
   ]
  },
  {
   "cell_type": "markdown",
   "metadata": {},
   "source": [
    "注意英文冒号，冒号后需换行且有缩进。"
   ]
  },
  {
   "cell_type": "code",
   "execution_count": 31,
   "metadata": {},
   "outputs": [
    {
     "name": "stdout",
     "output_type": "stream",
     "text": [
      "right\n",
      "finish!\n"
     ]
    }
   ],
   "source": [
    "if 1:\n",
    "    print('right')\n",
    "print('finish!')"
   ]
  },
  {
   "cell_type": "markdown",
   "metadata": {},
   "source": [
    "### 2.4.2 二分支判断"
   ]
  },
  {
   "cell_type": "code",
   "execution_count": 32,
   "metadata": {},
   "outputs": [
    {
     "name": "stdout",
     "output_type": "stream",
     "text": [
      "a是奇数\n",
      "finish！\n"
     ]
    }
   ],
   "source": [
    "a = 9\n",
    "r = a % 2\n",
    "if r == 0:\n",
    "    print('a是偶数')\n",
    "else:\n",
    "    print('a是奇数')\n",
    "print('finish！')"
   ]
  },
  {
   "cell_type": "markdown",
   "metadata": {},
   "source": [
    "### 2.4.3 多分支判断"
   ]
  },
  {
   "cell_type": "code",
   "execution_count": 33,
   "metadata": {},
   "outputs": [
    {
     "name": "stdout",
     "output_type": "stream",
     "text": [
      "优秀\n",
      "finish!\n"
     ]
    }
   ],
   "source": [
    "score_num = 90\n",
    "if score_num < 60:\n",
    "    print('成绩不及格！')\n",
    "elif score_num < 80:\n",
    "    print('成绩合格')\n",
    "else:\n",
    "    print('优秀')\n",
    "print('finish!')"
   ]
  },
  {
   "cell_type": "markdown",
   "metadata": {},
   "source": [
    "### 2.4.4 三元判断"
   ]
  },
  {
   "cell_type": "code",
   "execution_count": 34,
   "metadata": {},
   "outputs": [
    {
     "name": "stdout",
     "output_type": "stream",
     "text": [
      "python\n"
     ]
    }
   ],
   "source": [
    "x = 3.14\n",
    "y = 'python' if x > 3 else 'rust'\n",
    "print(y)"
   ]
  },
  {
   "cell_type": "markdown",
   "metadata": {},
   "source": [
    "## 2.5 循环"
   ]
  },
  {
   "cell_type": "markdown",
   "metadata": {},
   "source": [
    "### 2.5.1 for循环与推导式"
   ]
  },
  {
   "cell_type": "code",
   "execution_count": 35,
   "metadata": {},
   "outputs": [
    {
     "name": "stdout",
     "output_type": "stream",
     "text": [
      "1\n",
      "2.4\n",
      "a\n"
     ]
    }
   ],
   "source": [
    "ls = [1,2.4,'a']\n",
    "for i in ls:\n",
    "    print(i)"
   ]
  },
  {
   "cell_type": "code",
   "execution_count": 36,
   "metadata": {},
   "outputs": [
    {
     "name": "stdout",
     "output_type": "stream",
     "text": [
      "0\n",
      "1\n",
      "2\n",
      "3\n",
      "4\n",
      "5\n"
     ]
    }
   ],
   "source": [
    "for i in range(6):\n",
    "    print(i)"
   ]
  },
  {
   "cell_type": "code",
   "execution_count": 37,
   "metadata": {},
   "outputs": [
    {
     "name": "stdout",
     "output_type": "stream",
     "text": [
      "[5, 7, 9] {9, 5, 7}\n"
     ]
    }
   ],
   "source": [
    "ls = list(range(5,10,2))\n",
    "s = set(range(5,10,2))\n",
    "print(ls,s)"
   ]
  },
  {
   "cell_type": "code",
   "execution_count": 38,
   "metadata": {},
   "outputs": [
    {
     "name": "stdout",
     "output_type": "stream",
     "text": [
      "[2, 4, 6, 4, 2, 8]\n"
     ]
    }
   ],
   "source": [
    "ls = [2,1,3,4,6,5,7,4,5,2,9,8]\n",
    "\n",
    "ls_none = []\n",
    "for i in ls:\n",
    "    if i % 2 == 0:\n",
    "        ls_none.append(i)\n",
    "print(ls_none)"
   ]
  },
  {
   "cell_type": "code",
   "execution_count": 39,
   "metadata": {},
   "outputs": [
    {
     "name": "stdout",
     "output_type": "stream",
     "text": [
      "[2, 4, 6, 4, 2, 8]\n"
     ]
    }
   ],
   "source": [
    "ls = [2,1,3,4,6,5,7,4,5,2,9,8]\n",
    "\n",
    "ls_none = [i for i in ls if i % 2 == 0]\n",
    "print(ls_none)"
   ]
  },
  {
   "cell_type": "code",
   "execution_count": 40,
   "metadata": {},
   "outputs": [
    {
     "name": "stdout",
     "output_type": "stream",
     "text": [
      "{8, 2, 4, 6}\n"
     ]
    }
   ],
   "source": [
    "ls = [2,1,3,4,6,5,7,4,5,2,9,8]\n",
    "\n",
    "s = {i for i in ls if i % 2 == 0}\n",
    "print(s)"
   ]
  },
  {
   "cell_type": "code",
   "execution_count": 41,
   "metadata": {},
   "outputs": [
    {
     "name": "stdout",
     "output_type": "stream",
     "text": [
      "{1: 'a', 2: 'b', 3: 'c'}\n"
     ]
    }
   ],
   "source": [
    "d = {'a':1,'b':2,'c':3}\n",
    "d_new = {v:k for k,v in d.items()}\n",
    "print(d_new)"
   ]
  },
  {
   "cell_type": "markdown",
   "metadata": {},
   "source": [
    "### 2.5.2 while循环"
   ]
  },
  {
   "cell_type": "code",
   "execution_count": 42,
   "metadata": {},
   "outputs": [
    {
     "name": "stdout",
     "output_type": "stream",
     "text": [
      "hello world\n",
      "hello world\n",
      "hello world\n",
      "hello world\n",
      "hello world\n"
     ]
    }
   ],
   "source": [
    "for i in range(5):\n",
    "    print('hello world')"
   ]
  },
  {
   "cell_type": "code",
   "execution_count": 43,
   "metadata": {},
   "outputs": [
    {
     "name": "stdout",
     "output_type": "stream",
     "text": [
      "hello world\n",
      "hello world\n",
      "hello world\n",
      "hello world\n",
      "hello world\n"
     ]
    }
   ],
   "source": [
    "c = 0\n",
    "while c < 5:\n",
    "    print('hello world')\n",
    "    c += 1"
   ]
  },
  {
   "cell_type": "markdown",
   "metadata": {},
   "source": [
    "猜字游戏"
   ]
  },
  {
   "cell_type": "code",
   "execution_count": 44,
   "metadata": {},
   "outputs": [
    {
     "name": "stdout",
     "output_type": "stream",
     "text": [
      "84\n"
     ]
    }
   ],
   "source": [
    "#生成随机数\n",
    "import random\n",
    "random_num = random.randint(1,101)\n",
    "print(random_num)"
   ]
  },
  {
   "cell_type": "code",
   "execution_count": 45,
   "metadata": {},
   "outputs": [
    {
     "name": "stdout",
     "output_type": "stream",
     "text": [
      "请输入1-100之间的数值：50\n",
      "猜错了，猜的数字偏大\n",
      "请输入1-100之间的数值：25\n",
      "猜错了，猜的数字偏大\n",
      "请输入1-100之间的数值：12\n",
      "猜错了，猜的数字偏小\n",
      "请输入1-100之间的数值：20\n",
      "猜错了，猜的数字偏大\n",
      "请输入1-100之间的数值：15\n",
      "猜对了\n",
      "恭喜你 ------ 程序结束\n"
     ]
    }
   ],
   "source": [
    "#完整的猜字游戏程序\n",
    "import random\n",
    "random_num = random.randint(1,101)\n",
    "\n",
    "while True:\n",
    "    y = int(input('请输入1-100之间的数值：'))\n",
    "    if y == random_num:\n",
    "        print('猜对了')\n",
    "        break\n",
    "    elif y > random_num:\n",
    "        print('猜错了，猜的数字偏大')\n",
    "    else:\n",
    "        print('猜错了，猜的数字偏小')\n",
    "print('恭喜你 ------ 程序结束')"
   ]
  },
  {
   "cell_type": "markdown",
   "metadata": {},
   "source": [
    "## 2.6 异常处理"
   ]
  },
  {
   "cell_type": "code",
   "execution_count": 46,
   "metadata": {
    "scrolled": true
   },
   "outputs": [
    {
     "ename": "NameError",
     "evalue": "name 'm' is not defined",
     "output_type": "error",
     "traceback": [
      "\u001b[1;31m---------------------------------------------------------------------------\u001b[0m",
      "\u001b[1;31mNameError\u001b[0m                                 Traceback (most recent call last)",
      "\u001b[1;32m<ipython-input-46-008ad893eb7a>\u001b[0m in \u001b[0;36m<module>\u001b[1;34m\u001b[0m\n\u001b[1;32m----> 1\u001b[1;33m \u001b[0mm\u001b[0m \u001b[1;33m=\u001b[0m \u001b[0mm\u001b[0m \u001b[1;33m+\u001b[0m \u001b[1;36m5\u001b[0m\u001b[1;33m\u001b[0m\u001b[1;33m\u001b[0m\u001b[0m\n\u001b[0m\u001b[0;32m      2\u001b[0m \u001b[0mprint\u001b[0m\u001b[1;33m(\u001b[0m\u001b[0mm\u001b[0m\u001b[1;33m)\u001b[0m\u001b[1;33m\u001b[0m\u001b[1;33m\u001b[0m\u001b[0m\n",
      "\u001b[1;31mNameError\u001b[0m: name 'm' is not defined"
     ]
    }
   ],
   "source": [
    "m = m + 5\n",
    "print(m)"
   ]
  },
  {
   "cell_type": "code",
   "execution_count": 47,
   "metadata": {},
   "outputs": [
    {
     "name": "stdout",
     "output_type": "stream",
     "text": [
      "程序出现错误\n"
     ]
    }
   ],
   "source": [
    "try:\n",
    "    m = m + 5\n",
    "except:\n",
    "    print('程序出现错误')"
   ]
  },
  {
   "cell_type": "code",
   "execution_count": 48,
   "metadata": {},
   "outputs": [
    {
     "name": "stdout",
     "output_type": "stream",
     "text": [
      "程序正常执行\n",
      "未报错继续执行\n"
     ]
    }
   ],
   "source": [
    "try:\n",
    "    m = 5\n",
    "    print('程序正常执行')\n",
    "except:\n",
    "    print('程序出现错误')\n",
    "else:\n",
    "    print('未报错继续执行')"
   ]
  },
  {
   "cell_type": "code",
   "execution_count": 49,
   "metadata": {},
   "outputs": [
    {
     "name": "stdout",
     "output_type": "stream",
     "text": [
      "程序正常执行\n",
      "未报错继续执行\n",
      "一定会执行\n"
     ]
    }
   ],
   "source": [
    "try:\n",
    "    m = m + 5\n",
    "    print('程序正常执行')\n",
    "except:\n",
    "    print('程序出现错误')\n",
    "else:\n",
    "    print('未报错继续执行')\n",
    "finally:\n",
    "    print('一定会执行')"
   ]
  },
  {
   "cell_type": "markdown",
   "metadata": {},
   "source": [
    "## 2.7 函数"
   ]
  },
  {
   "cell_type": "markdown",
   "metadata": {},
   "source": [
    "查看内置函数"
   ]
  },
  {
   "cell_type": "code",
   "execution_count": 50,
   "metadata": {},
   "outputs": [
    {
     "name": "stdout",
     "output_type": "stream",
     "text": [
      "['ArithmeticError', 'AssertionError', 'AttributeError', 'BaseException', 'BlockingIOError', 'BrokenPipeError', 'BufferError', 'BytesWarning', 'ChildProcessError', 'ConnectionAbortedError', 'ConnectionError', 'ConnectionRefusedError', 'ConnectionResetError', 'DeprecationWarning', 'EOFError', 'Ellipsis', 'EnvironmentError', 'Exception', 'False', 'FileExistsError', 'FileNotFoundError', 'FloatingPointError', 'FutureWarning', 'GeneratorExit', 'IOError', 'ImportError', 'ImportWarning', 'IndentationError', 'IndexError', 'InterruptedError', 'IsADirectoryError', 'KeyError', 'KeyboardInterrupt', 'LookupError', 'MemoryError', 'ModuleNotFoundError', 'NameError', 'None', 'NotADirectoryError', 'NotImplemented', 'NotImplementedError', 'OSError', 'OverflowError', 'PendingDeprecationWarning', 'PermissionError', 'ProcessLookupError', 'RecursionError', 'ReferenceError', 'ResourceWarning', 'RuntimeError', 'RuntimeWarning', 'StopAsyncIteration', 'StopIteration', 'SyntaxError', 'SyntaxWarning', 'SystemError', 'SystemExit', 'TabError', 'TimeoutError', 'True', 'TypeError', 'UnboundLocalError', 'UnicodeDecodeError', 'UnicodeEncodeError', 'UnicodeError', 'UnicodeTranslateError', 'UnicodeWarning', 'UserWarning', 'ValueError', 'Warning', 'WindowsError', 'ZeroDivisionError', '__IPYTHON__', '__build_class__', '__debug__', '__doc__', '__import__', '__loader__', '__name__', '__package__', '__spec__', 'abs', 'all', 'any', 'ascii', 'bin', 'bool', 'breakpoint', 'bytearray', 'bytes', 'callable', 'chr', 'classmethod', 'compile', 'complex', 'copyright', 'credits', 'delattr', 'dict', 'dir', 'display', 'divmod', 'enumerate', 'eval', 'exec', 'filter', 'float', 'format', 'frozenset', 'get_ipython', 'getattr', 'globals', 'hasattr', 'hash', 'help', 'hex', 'id', 'input', 'int', 'isinstance', 'issubclass', 'iter', 'len', 'license', 'list', 'locals', 'map', 'max', 'memoryview', 'min', 'next', 'object', 'oct', 'open', 'ord', 'pow', 'print', 'property', 'range', 'repr', 'reversed', 'round', 'set', 'setattr', 'slice', 'sorted', 'staticmethod', 'str', 'sum', 'super', 'tuple', 'type', 'vars', 'zip']\n"
     ]
    }
   ],
   "source": [
    "print(dir(__builtins__))"
   ]
  },
  {
   "cell_type": "markdown",
   "metadata": {},
   "source": [
    "进行自定义函数"
   ]
  },
  {
   "cell_type": "code",
   "execution_count": 51,
   "metadata": {},
   "outputs": [],
   "source": [
    "def add_func(x,y):\n",
    "    '''\n",
    "    这是一个加法函数\n",
    "    '''\n",
    "    s = x + y\n",
    "    return s"
   ]
  },
  {
   "cell_type": "code",
   "execution_count": 52,
   "metadata": {},
   "outputs": [
    {
     "name": "stdout",
     "output_type": "stream",
     "text": [
      "\n",
      "    这是一个加法函数\n",
      "    \n",
      "15 <class 'int'>\n"
     ]
    }
   ],
   "source": [
    "print(add_func.__doc__)\n",
    "num = add_func(10,5)\n",
    "print(num,type(num))"
   ]
  },
  {
   "cell_type": "markdown",
   "metadata": {},
   "source": [
    "## 2.8 文件操作"
   ]
  },
  {
   "cell_type": "code",
   "execution_count": 53,
   "metadata": {},
   "outputs": [],
   "source": [
    "ls = [1,2,3]\n",
    "dic = {'a':1,'b':2}\n",
    "with open('demo.txt','w') as f:\n",
    "    f.write(str(ls) + '\\n' + str(dic))"
   ]
  },
  {
   "cell_type": "code",
   "execution_count": 54,
   "metadata": {},
   "outputs": [
    {
     "name": "stdout",
     "output_type": "stream",
     "text": [
      "[1, 2, 3]\n",
      "{'a': 1, 'b': 2}\n"
     ]
    }
   ],
   "source": [
    "with open('demo.txt','r') as f:\n",
    "    content = f.read()\n",
    "    print(content)"
   ]
  },
  {
   "cell_type": "code",
   "execution_count": null,
   "metadata": {},
   "outputs": [],
   "source": []
  },
  {
   "cell_type": "code",
   "execution_count": null,
   "metadata": {},
   "outputs": [],
   "source": []
  }
 ],
 "metadata": {
  "kernelspec": {
   "display_name": "Python 3",
   "language": "python",
   "name": "python3"
  },
  "language_info": {
   "codemirror_mode": {
    "name": "ipython",
    "version": 3
   },
   "file_extension": ".py",
   "mimetype": "text/x-python",
   "name": "python",
   "nbconvert_exporter": "python",
   "pygments_lexer": "ipython3",
   "version": "3.8.3"
  }
 },
 "nbformat": 4,
 "nbformat_minor": 4
}
