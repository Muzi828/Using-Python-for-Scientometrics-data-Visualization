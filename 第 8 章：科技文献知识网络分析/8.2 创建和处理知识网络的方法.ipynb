{
 "cells": [
  {
   "cell_type": "markdown",
   "metadata": {},
   "source": [
    "metaknowledge模块中快速生成网络数据集的方法"
   ]
  },
  {
   "cell_type": "markdown",
   "metadata": {},
   "source": [
    "|数据生成器\t|应用于数据集\t|使用方式|\n",
    "|:-:|:-:|:-:|\n",
    "|Co-author\t|RecordCollection\t|RC.networkCoAuthor()\n",
    "|Co-investigator\t|GrantCollection\t|GC.networkCoInvestigator()\n",
    "|Institutions|\tGrantCollection\t|GC.networkCoInvestigatorInstitution()\n",
    "|Citation\t|RecordCollection\t|RC.networkCitation()\n",
    "|Co-citation\t|RecordCollection\t|RC.networkCoCitation()\n",
    "|Bib coupling\t|RecordCollection\t|RC.networkBibCoupling()\n",
    "|One-node\t|RecordCollection, GrantCollection\t|RC.networkOneMode()\n",
    "|Two-node\t|RecordCollection, GrantCollection\t|RC.networkTwoMode()\n",
    "|Multi-node\t|RecordCollection, GrantCollection\t|RC.networkMultiMode()\n",
    "|Multi-level\t|RecordCollection, GrantCollection\t|RC.networkMultiLevel()"
   ]
  },
  {
   "cell_type": "markdown",
   "metadata": {},
   "source": [
    "进行网络数据集简化的方式:"
   ]
  },
  {
   "cell_type": "code",
   "execution_count": 2,
   "metadata": {},
   "outputs": [],
   "source": [
    "import metaknowledge as mk"
   ]
  },
  {
   "cell_type": "code",
   "execution_count": null,
   "metadata": {},
   "outputs": [],
   "source": [
    "mk.dropEdges()\n",
    "mk.dropNodesByCount()\n",
    "mk.dropNodesByDegree()"
   ]
  }
 ],
 "metadata": {
  "kernelspec": {
   "display_name": "Python 3",
   "language": "python",
   "name": "python3"
  },
  "language_info": {
   "codemirror_mode": {
    "name": "ipython",
    "version": 3
   },
   "file_extension": ".py",
   "mimetype": "text/x-python",
   "name": "python",
   "nbconvert_exporter": "python",
   "pygments_lexer": "ipython3",
   "version": "3.8.3"
  }
 },
 "nbformat": 4,
 "nbformat_minor": 4
}
