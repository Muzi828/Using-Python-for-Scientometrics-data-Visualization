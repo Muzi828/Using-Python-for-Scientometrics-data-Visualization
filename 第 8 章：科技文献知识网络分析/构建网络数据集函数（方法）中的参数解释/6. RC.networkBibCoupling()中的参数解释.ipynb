{
 "cells": [
  {
   "cell_type": "code",
   "execution_count": 1,
   "metadata": {},
   "outputs": [],
   "source": [
    "import metaknowledge as mk\n",
    "\n",
    "import warnings\n",
    "warnings.filterwarnings(\"ignore\")"
   ]
  },
  {
   "cell_type": "code",
   "execution_count": 2,
   "metadata": {},
   "outputs": [],
   "source": [
    "RC = mk.RecordCollection(r'D:\\python科学计量可视化\\数据\\Demo data\\Python-Wos', cached = True)"
   ]
  },
  {
   "cell_type": "code",
   "execution_count": 3,
   "metadata": {},
   "outputs": [
    {
     "data": {
      "text/plain": [
       "<metaknowledge.RecordCollection object files-from-D:\\python科学计量可视化\\数据\\Demo data\\Python-Wos(2020-2021)>"
      ]
     },
     "execution_count": 3,
     "metadata": {},
     "output_type": "execute_result"
    }
   ],
   "source": [
    "RC2021 = RC.yearSplit(2020,2021)\n",
    "RC2021"
   ]
  },
  {
   "cell_type": "markdown",
   "metadata": {},
   "source": [
    "RC.networkBibCoupling()中的参数解释：\n",
    "\n",
    "    * weighted: [bool]数据类型。默认为'True'，是否对连线进行加权。如果为'True'，则连线的权重会被添加到网络中；\n",
    "    * fullInfo: [bool]数据类型。默认为'False'，如果'True'，完整的引文字符串将被添加到网络的每个节点。； \n",
    "    * addCR: [bool]数据类型。默认为'False',如果为'True'，则把citation信息也添加到网络的节点属性中。\n",
    "    \n",
    "    返回的是：为RecordCollection创建一个基于引文的书目耦合网络。（）"
   ]
  },
  {
   "cell_type": "markdown",
   "metadata": {},
   "source": [
    "## 1. 测试weighted参数"
   ]
  },
  {
   "cell_type": "code",
   "execution_count": 4,
   "metadata": {},
   "outputs": [
    {
     "name": "stdout",
     "output_type": "stream",
     "text": [
      "Nodes: 714\n",
      "Edges: 17427\n",
      "Isolates: 22\n",
      "Self loops: 0\n",
      "Density: 0.0684644\n",
      "Transitivity: 0.375307\n"
     ]
    }
   ],
   "source": [
    "bib_coupling = RC2021.networkBibCoupling(weighted=True)\n",
    "print(mk.graphStats(bib_coupling))"
   ]
  },
  {
   "cell_type": "code",
   "execution_count": 5,
   "metadata": {},
   "outputs": [
    {
     "data": {
      "text/plain": [
       "('Wang Xy, 2021, J ASSOC INF SCI TECH',\n",
       " 'Zhang J, 2020, J ASSOC INF SCI TECH',\n",
       " {'weight': 1})"
      ]
     },
     "execution_count": 5,
     "metadata": {},
     "output_type": "execute_result"
    }
   ],
   "source": [
    "list(bib_coupling.edges.data())[0]"
   ]
  },
  {
   "cell_type": "code",
   "execution_count": 6,
   "metadata": {},
   "outputs": [
    {
     "name": "stdout",
     "output_type": "stream",
     "text": [
      "Nodes: 714\n",
      "Edges: 17427\n",
      "Isolates: 22\n",
      "Self loops: 0\n",
      "Density: 0.0684644\n",
      "Transitivity: 0.375307\n"
     ]
    }
   ],
   "source": [
    "bib_coupling = RC2021.networkBibCoupling(weighted=False)\n",
    "print(mk.graphStats(bib_coupling))"
   ]
  },
  {
   "cell_type": "code",
   "execution_count": 7,
   "metadata": {},
   "outputs": [
    {
     "data": {
      "text/plain": [
       "('Wang Xy, 2021, J ASSOC INF SCI TECH',\n",
       " 'Zhang J, 2020, J ASSOC INF SCI TECH',\n",
       " {})"
      ]
     },
     "execution_count": 7,
     "metadata": {},
     "output_type": "execute_result"
    }
   ],
   "source": [
    "list(bib_coupling.edges.data())[0]"
   ]
  },
  {
   "cell_type": "markdown",
   "metadata": {},
   "source": [
    "## 2. 测试fullInfo参数"
   ]
  },
  {
   "cell_type": "code",
   "execution_count": 8,
   "metadata": {},
   "outputs": [
    {
     "name": "stdout",
     "output_type": "stream",
     "text": [
      "Nodes: 714\n",
      "Edges: 17427\n",
      "Isolates: 22\n",
      "Self loops: 0\n",
      "Density: 0.0684644\n",
      "Transitivity: 0.375307\n"
     ]
    }
   ],
   "source": [
    "bib_coupling = RC2021.networkBibCoupling(fullInfo=False)\n",
    "print(mk.graphStats(bib_coupling))"
   ]
  },
  {
   "cell_type": "code",
   "execution_count": 9,
   "metadata": {},
   "outputs": [
    {
     "data": {
      "text/plain": [
       "('Wang Xy, 2021, J ASSOC INF SCI TECH',\n",
       " {'MK-ID': 'WOS:000595333700001',\n",
       "  'info': \"WOS:000595333700001, Wang Xiangyu, Predicting users' continued engagement in online health communities from the quantity and quality of received support, JOURNAL OF THE ASSOCIATION FOR INFORMATION SCIENCE AND TECHNOLOGY, 72, 710\",\n",
       "  'inCore': True})"
      ]
     },
     "execution_count": 9,
     "metadata": {},
     "output_type": "execute_result"
    }
   ],
   "source": [
    "list(bib_coupling.nodes.data())[0]"
   ]
  },
  {
   "cell_type": "code",
   "execution_count": 12,
   "metadata": {},
   "outputs": [
    {
     "name": "stdout",
     "output_type": "stream",
     "text": [
      "Nodes: 714\n",
      "Edges: 17427\n",
      "Isolates: 22\n",
      "Self loops: 0\n",
      "Density: 0.0684644\n",
      "Transitivity: 0.375307\n"
     ]
    }
   ],
   "source": [
    "bib_coupling = RC2021.networkBibCoupling(fullInfo=True)\n",
    "print(mk.graphStats(bib_coupling))"
   ]
  },
  {
   "cell_type": "code",
   "execution_count": 13,
   "metadata": {},
   "outputs": [
    {
     "data": {
      "text/plain": [
       "('Wang Xy, 2021, J ASSOC INF SCI TECH',\n",
       " {'MK-ID': 'WOS:000595333700001',\n",
       "  'info': \"WOS:000595333700001, Wang Xiangyu, Predicting users' continued engagement in online health communities from the quantity and quality of received support, JOURNAL OF THE ASSOCIATION FOR INFORMATION SCIENCE AND TECHNOLOGY, 72, 710\",\n",
       "  'inCore': True,\n",
       "  'fullCite': 'Wang XY, 2021, J ASSOC INF SCI TECH, V72, P710, DOI 10.1002/asi.24436'})"
      ]
     },
     "execution_count": 13,
     "metadata": {},
     "output_type": "execute_result"
    }
   ],
   "source": [
    "list(bib_coupling.nodes.data())[0]\n",
    "#和之前RC.networkCitation()的参数效果一样，都是在节点属性中增加fullCite属性"
   ]
  },
  {
   "cell_type": "markdown",
   "metadata": {},
   "source": [
    "## 3. 测试addCR参数"
   ]
  },
  {
   "cell_type": "code",
   "execution_count": 14,
   "metadata": {},
   "outputs": [
    {
     "name": "stdout",
     "output_type": "stream",
     "text": [
      "Nodes: 714\n",
      "Edges: 17427\n",
      "Isolates: 22\n",
      "Self loops: 0\n",
      "Density: 0.0684644\n",
      "Transitivity: 0.375307\n"
     ]
    }
   ],
   "source": [
    "bib_coupling = RC2021.networkBibCoupling(addCR=False)\n",
    "print(mk.graphStats(bib_coupling))"
   ]
  },
  {
   "cell_type": "code",
   "execution_count": 15,
   "metadata": {},
   "outputs": [
    {
     "data": {
      "text/plain": [
       "('Wang Xy, 2021, J ASSOC INF SCI TECH',\n",
       " {'MK-ID': 'WOS:000595333700001',\n",
       "  'info': \"WOS:000595333700001, Wang Xiangyu, Predicting users' continued engagement in online health communities from the quantity and quality of received support, JOURNAL OF THE ASSOCIATION FOR INFORMATION SCIENCE AND TECHNOLOGY, 72, 710\",\n",
       "  'inCore': True})"
      ]
     },
     "execution_count": 15,
     "metadata": {},
     "output_type": "execute_result"
    }
   ],
   "source": [
    "list(bib_coupling.nodes.data())[0]"
   ]
  },
  {
   "cell_type": "code",
   "execution_count": 16,
   "metadata": {},
   "outputs": [
    {
     "name": "stdout",
     "output_type": "stream",
     "text": [
      "Nodes: 714\n",
      "Edges: 17427\n",
      "Isolates: 22\n",
      "Self loops: 0\n",
      "Density: 0.0684644\n",
      "Transitivity: 0.375307\n"
     ]
    }
   ],
   "source": [
    "bib_coupling = RC2021.networkBibCoupling(addCR=True)\n",
    "print(mk.graphStats(bib_coupling))"
   ]
  },
  {
   "cell_type": "code",
   "execution_count": 17,
   "metadata": {},
   "outputs": [
    {
     "data": {
      "text/plain": [
       "('Wang Xy, 2021, J ASSOC INF SCI TECH',\n",
       " {'MK-ID': 'WOS:000595333700001',\n",
       "  'info': \"WOS:000595333700001, Wang Xiangyu, Predicting users' continued engagement in online health communities from the quantity and quality of received support, JOURNAL OF THE ASSOCIATION FOR INFORMATION SCIENCE AND TECHNOLOGY, 72, 710\",\n",
       "  'inCore': True,\n",
       "  'citations': \"Andalibi N, 2018, ACM T COMPUT-HUM INT, V25, DOI 10.1145/3234942|Arora NK, 2007, PSYCHO-ONCOL, V16, P474, DOI 10.1002/pon.1084|Bambina A., 2007, ONLINE SOCIAL SUPPOR|Barak A, 2008, COMPUT HUM BEHAV, V24, P1867, DOI 10.1016/j.chb.2008.02.004|CAPLAN RD, 1987, J VOCAT BEHAV, V31, P248, DOI 10.1016/0001-8791(87)90042-X|Caplan SE, 2007, COMPUT HUM BEHAV, V23, P985, DOI 10.1016/j.chb.2005.08.003|Chancellor S, 2018, PROCEEDINGS OF THE 2018 CHI CONFERENCE ON HUMAN FACTORS IN COMPUTING SYSTEMS (CHI 2018), DOI 10.1145/3173574.3174240|Chawla NV, 2002, J ARTIF INTELL RES, V16, P321, DOI 10.1613/jair.953|Chou WYS, 2009, J MED INTERNET RES, V11, DOI 10.2196/jmir.1249|Chuang KY, 2014, J ASSOC INF SCI TECH, V65, P37, DOI 10.1002/asi.22960|Cobb NK, 2010, AM J PUBLIC HEALTH, V100, P1282, DOI 10.2105/AJPH.2009.165449|COBB S, 1976, PSYCHOSOM MED, V38, P300, DOI 10.1097/00006842-197609000-00003|Crowley JL, 2020, COMMUN RES, V47, P487, DOI 10.1177/0093650219855906|Cunningham, 1995, COMMUNICATION YB, V18, P381, DOI [DOI 10.1080/23808985.1995.11678921, https://doi.org/10.1080/23808985.1995.11678921]|Cutrona CE, 2007, J FAM PSYCHOL, V21, P754, DOI 10.1037/0893-3200.21.4.754|CUTRONA CE, 1992, COMMUN RES, V19, P154, DOI 10.1177/009365092019002002|Daly J.A., 2011, SAGE HDB INTERPERSON, P317|De Choudhury M., 2014, 8 INT AAAI C WEBL SO, V8|Fox S, 2014, SOCIAL LIFE HLTH INF|Ganz PA, 2002, JNCI-J NATL CANCER I, V94, P39|Goldsmith D.J., 1994, COMMUNICATION SOCIAL, P29|Gopalsamy R, 2017, J MED INTERNET RES, V19, DOI 10.2196/jmir.7249|Graham AL, 2017, PLOS ONE, V12, DOI 10.1371/journal.pone.0183655|Hawn C, 2009, HEALTH AFFAIR, V28, P361, DOI 10.1377/hlthaff.28.2.361|Healey B, 2014, PLOS ONE, V9, DOI 10.1371/journal.pone.0106603|Helgeson VS, 2000, HEALTH PSYCHOL, V19, P107, DOI 10.1037/0278-6133.19.2.107|High A. C., 2015, COMMUNICATION PERSPE, P101|High AC, 2018, COMMUN RES, V45, P319, DOI 10.1177/0093650215626975|High AC, 2014, COMMUN MONOGR, V81, P157, DOI 10.1080/03637751.2013.878868|Hu M., 2004, P 10 ACM SIGKDD INT, P168, DOI DOI 10.1145/1014052.1014073|Hwang KO, 2010, INT J MED INFORM, V79, P5, DOI 10.1016/j.ijmedinf.2009.10.003|Ienca M, 2018, PLOS ONE, V13, DOI 10.1371/journal.pone.0204937|JACOBSON DE, 1986, J HEALTH SOC BEHAV, V27, P250, DOI 10.2307/2136745|Jones R, 2011, J MED INTERNET RES, V13, P212, DOI 10.2196/jmir.1591|Katz JE, 2001, AM BEHAV SCI, V45, P405, DOI 10.1177/0002764201045003004|Khanpour H, 2018, THIRTY-SECOND AAAI CONFERENCE ON ARTIFICIAL INTELLIGENCE / THIRTIETH INNOVATIVE APPLICATIONS OF ARTIFICIAL INTELLIGENCE CONFERENCE / EIGHTH AAAI SYMPOSIUM ON EDUCATIONAL ADVANCES IN ARTIFICIAL INTELLIGENCE, P8099|Kim E, 2012, PSYCHO-ONCOLOGY, V21, P531, DOI 10.1002/pon.1942|Linden W, 2012, SUPPORT CARE CANCER, V20, P1449, DOI 10.1007/s00520-011-1228-3|Lv Y, 2008, IEEE SYS MAN CYBERN, P1470|Ma H, 2017, P ACM HUM COMPUT INT, V1, P1|Martire LM, 2002, HEALTH PSYCHOL, V21, P167, DOI 10.1037//0278-6133.21.2.167|MAUNSELL E, 1995, CANCER, V76, P631, DOI 10.1002/1097-0142(19950815)76:4<631::AID-CNCR2820760414>3.0.CO;2-9|Mikolov T., 2013, ABS13013781 CORR, DOI DOI 10.1109/TNN.2003.820440]|Namkoong K, 2010, PATIENT EDUC COUNS, V81, pS41, DOI 10.1016/j.pec.2010.09.009|Obar JA, 2020, INFORM COMMUN SOC, V23, P128, DOI 10.1080/1369118X.2018.1486870|Obar JA, 2018, SOC MEDIA SOC, V4, DOI 10.1177/2056305118784770|Qiu B., 2011, PRIV SEC RISK TRUST, P274, DOI DOI 10.1109/PASSAT/SOCIALCOM.2011.127|Rains SA, 2015, COMMUN MONOGR, V82, P403, DOI 10.1080/03637751.2015.1019530|Reynolds JS, 2004, HEALTH PSYCHOL, V23, P425, DOI 10.1037/0278-6133.23.4.425|SHUMAKER SA, 1984, J SOC ISSUES, V40, P11, DOI 10.1111/j.1540-4560.1984.tb01105.x|Siewert K, 2011, J HEALTH PSYCHOL, V16, P621, DOI 10.1177/1359105310385366|Sudau F, 2014, J MED INTERNET RES, V16, DOI 10.2196/jmir.2875|Thong MSY, 2007, NEPHROL DIAL TRANSPL, V22, P845, DOI 10.1093/ndt/gfl700|Uchino B. N, 2005, AM J EPIDEMIOL, V161, P297, DOI DOI 10.1093/AJE/KWI036|Vitak J, 2016, ACM CONFERENCE ON COMPUTER-SUPPORTED COOPERATIVE WORK AND SOCIAL COMPUTING (CSCW 2016), P941, DOI 10.1145/2818048.2820078|Vlahovic TA, 2014, P SIGCHI C HUM FACT, P1625, DOI DOI 10.1145/2556288.2557108|Walther J. B., 2002, COMMUNICATION TECHNO, V153188, P50|Wang Xi, 2017, J Med Internet Res, V19, pe130, DOI 10.2196/jmir.6834|Wang X, 2015, 2015 IEEE INTERNATIONAL CONFERENCE ON HEALTHCARE INFORMATICS (ICHI 2015), P48, DOI 10.1109/ICHI.2015.12|Wang X, 2014, LECT NOTES COMPUT SC, V8549, P97, DOI 10.1007/978-3-319-08416-9_10|Wang XY, 2020, ACM TRANS MANAG INF, V11, DOI 10.1145/3383780|Wang Y.-C., 2012, P ACM 2012 C COMP SU, P833, DOI DOI 10.1145/2145204.2145329|Wicks P, 2010, J MED INTERNET RES, V12, DOI 10.2196/jmir.1549|Xu R., 2018, RES ONLINE HLTH COMM, DOI [10.1007/978-1-4939-7131-2, DOI 10.1007/978-1-4939-7131-2]|Yang DY, 2017, PROCEEDINGS OF THE 2017 ACM SIGCHI CONFERENCE ON HUMAN FACTORS IN COMPUTING SYSTEMS (CHI'17), P6363, DOI 10.1145/3025453.3026008|Yoo W, 2014, COMPUT HUM BEHAV, V30, P13, DOI 10.1016/j.chb.2013.07.024|Zhang M, 2017, LECT NOTES SOC NETW, P59, DOI 10.1007/978-3-319-68604-2_4|Zhang SD, 2017, J BIOMED INFORM, V69, P1, DOI 10.1016/j.jbi.2017.03.012|Zhao K, 2016, J MED INTERNET RES, V18, DOI 10.2196/jmir.5985\"})"
      ]
     },
     "execution_count": 17,
     "metadata": {},
     "output_type": "execute_result"
    }
   ],
   "source": [
    "list(bib_coupling.nodes.data())[0]"
   ]
  },
  {
   "cell_type": "code",
   "execution_count": null,
   "metadata": {},
   "outputs": [],
   "source": []
  }
 ],
 "metadata": {
  "kernelspec": {
   "display_name": "Python 3",
   "language": "python",
   "name": "python3"
  },
  "language_info": {
   "codemirror_mode": {
    "name": "ipython",
    "version": 3
   },
   "file_extension": ".py",
   "mimetype": "text/x-python",
   "name": "python",
   "nbconvert_exporter": "python",
   "pygments_lexer": "ipython3",
   "version": "3.8.3"
  }
 },
 "nbformat": 4,
 "nbformat_minor": 4
}
