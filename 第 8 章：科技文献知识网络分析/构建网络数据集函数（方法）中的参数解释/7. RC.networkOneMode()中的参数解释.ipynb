{
 "cells": [
  {
   "cell_type": "code",
   "execution_count": 1,
   "metadata": {},
   "outputs": [],
   "source": [
    "import metaknowledge as mk\n",
    "\n",
    "import warnings\n",
    "warnings.filterwarnings(\"ignore\")"
   ]
  },
  {
   "cell_type": "code",
   "execution_count": 2,
   "metadata": {},
   "outputs": [],
   "source": [
    "RC = mk.RecordCollection(r'D:\\python科学计量可视化\\数据\\Demo data\\Python-Wos', cached = True)"
   ]
  },
  {
   "cell_type": "code",
   "execution_count": 3,
   "metadata": {},
   "outputs": [],
   "source": [
    "RC2021 = RC.yearSplit(2020,2021)"
   ]
  },
  {
   "cell_type": "markdown",
   "metadata": {},
   "source": [
    "RC.networkOneMode()中的参数解释：\n",
    "\n",
    "    创建一个由一个标签对象的网络。这与networkMultiLevel()中指定一个标签功能相同;\n",
    "    一个networkOneMode()看起来就像是在RecordCollection中任意一个标签和提取标签对应的值（内容）。比如作者标签'authorsFull'，如果有多名作者，就会返回为网络图的一个边，所以在指定作者标签'authorsFull'会创建一个作者合作网络;\n",
    "    如果nodeCount为'True'，则计算节点每次出现的次数；如果edgeWeight为'True'，则边计数共出现的次数。默认情况下两者都为'True'；\n",
    "    \n",
    "    注：不要将其用于构建共引网络。请使用RC.networkCoCitation()，它更准确，且有更多选项。\n",
    "    \n",
    "    * mode: [str]数据类型。两个字符的WOS标签或标签的全名\n",
    "    * nodeCount: [bool]数据类型。默认为'True'，如果为'True'，每个节点将有一个名为'count'的属性，其中包含一个整数，给出该对象发生的次数。,\n",
    "    * edgeWeight: [bool]数据类型。默认为'True'，如果为'True'，每条边都会有一个名为'weight'的属性，其中包含了两个对象共同出现的次数，是一个整数。\n",
    "    * stemmer: [fnunction]数据类型。默认为'None'，如果stemmer是一个可调用的对象，基本上是一个函数，也可能是一个类，它将被调用，用于图中每个节点的ID，所有ID都是字符串。\n",
    "        比如说:函数`f = lambda x: x[0],如果作为stemmer给出，将导致所有ID为其stemmer对应ID的第一个字符。\n",
    "            例如，标题'Goos-Hanchen和Imbert-Fedorov shifts for leaky guided mode'将创建节点名为'G'。\n",
    "        简单理解：该参数就是对节点的显示信息进行自定义操作，比如截取指定位数字符显示，或者是按照某一规则处理。\n",
    "    * edgeAttribute: 默认为None即可；\n",
    "    * nodeAttribute: 默认为None即可,可以任意指定一个字符串，会在生成网络数据集中添加该字符串属性，但是该属性没有进行计算。\n"
   ]
  },
  {
   "cell_type": "markdown",
   "metadata": {},
   "source": [
    "## 1. 测试mode参数"
   ]
  },
  {
   "cell_type": "markdown",
   "metadata": {},
   "source": [
    " 比如node指定为关键词keywords，可以指定的标签对象为："
   ]
  },
  {
   "cell_type": "code",
   "execution_count": 4,
   "metadata": {},
   "outputs": [
    {
     "name": "stdout",
     "output_type": "stream",
     "text": [
      "{'SN', 'PM', 'AB', 'AF', 'PD', 'SP', 'SC', 'OA', 'CL', 'NR', 'FX', 'CT', 'PG', 'EA', 'RP', 'LA', 'C1', 'DT', 'PI', 'FU', 'OI', 'UT', 'EM', 'PY', 'HO', 'HP', 'TC', 'DI', 'DA', 'PA', 'EP', 'CR', 'PT', 'U2', 'SO', 'AR', 'J9', 'Z9', 'IS', 'U1', 'JI', 'AU', 'HC', 'BP', 'TI', 'PU', 'CY', 'SI', 'RI', 'VL', 'DE', 'WC', 'ID', 'GA', 'EI'}\n"
     ]
    }
   ],
   "source": [
    "print(RC.tags())"
   ]
  },
  {
   "cell_type": "code",
   "execution_count": 5,
   "metadata": {},
   "outputs": [
    {
     "name": "stdout",
     "output_type": "stream",
     "text": [
      "Nodes: 4907\n",
      "Edges: 57645\n",
      "Isolates: 70\n",
      "Self loops: 0\n",
      "Density: 0.00478904\n",
      "Transitivity: 0.127754\n"
     ]
    }
   ],
   "source": [
    "keywords = RC.networkOneMode('keywords')\n",
    "print(mk.graphStats(keywords))"
   ]
  },
  {
   "cell_type": "code",
   "execution_count": 6,
   "metadata": {},
   "outputs": [
    {
     "name": "stdout",
     "output_type": "stream",
     "text": [
      "Nodes: 0\n",
      "Edges: 0\n",
      "Isolates: 0\n",
      "Self loops: 0\n",
      "Density: 0\n",
      "Transitivity: 0\n"
     ]
    }
   ],
   "source": [
    "keywords = RC.networkOneMode('Keywords')\n",
    "print(mk.graphStats(keywords))\n",
    "#对于标签的大小写敏感，所以在不是很熟悉全拼的情况下建议使用两个字符的简写"
   ]
  },
  {
   "cell_type": "code",
   "execution_count": 7,
   "metadata": {},
   "outputs": [
    {
     "name": "stdout",
     "output_type": "stream",
     "text": [
      "SN ISSN\n",
      "PM pubMedID\n",
      "AB abstract\n",
      "AF authorsFull\n",
      "PD month\n",
      "SP confSponsors\n",
      "SC subjectCategory\n",
      "OA None\n",
      "CL confLocation\n",
      "NR citedRefsCount\n",
      "FX fundingText\n",
      "CT confTitle\n",
      "PG pageCount\n",
      "EA None\n",
      "RP reprintAddress\n",
      "LA language\n",
      "C1 authAddress\n",
      "DT docType\n",
      "PI publisherCity\n",
      "FU funding\n",
      "OI orcID\n",
      "UT wosString\n",
      "EM email\n",
      "PY year\n",
      "HO confHost\n",
      "HP None\n",
      "TC wosTimesCited\n",
      "DI DOI\n",
      "DA None\n",
      "PA publisherAddress\n",
      "EP endingPage\n",
      "CR citations\n",
      "PT pubType\n",
      "U2 None\n",
      "SO journal\n",
      "AR articleNumber\n",
      "J9 j9\n",
      "Z9 totalTimesCited\n",
      "IS issue\n",
      "U1 None\n",
      "JI isoAbbreviation\n",
      "AU authorsShort\n",
      "HC None\n",
      "BP beginningPage\n",
      "TI title\n",
      "PU publisher\n",
      "CY confDate\n",
      "SI specialIssue\n",
      "RI ResearcherIDnumber\n",
      "VL volume\n",
      "DE authKeywords\n",
      "WC subjects\n",
      "ID keywords\n",
      "GA documentDeliveryNumber\n",
      "EI eISSN\n"
     ]
    }
   ],
   "source": [
    "#之前介绍过如何获取两字字符的全称getAltName\n",
    "R = RC.peek()\n",
    "\n",
    "for i in RC.tags():\n",
    "    print(i,R.getAltName(i))"
   ]
  },
  {
   "cell_type": "code",
   "execution_count": 8,
   "metadata": {},
   "outputs": [
    {
     "name": "stdout",
     "output_type": "stream",
     "text": [
      "Nodes: 4907\n",
      "Edges: 57645\n",
      "Isolates: 70\n",
      "Self loops: 0\n",
      "Density: 0.00478904\n",
      "Transitivity: 0.127754\n"
     ]
    }
   ],
   "source": [
    "keywords = RC.networkOneMode('ID')\n",
    "print(mk.graphStats(keywords))\n",
    "#获取到keywords对应的两字符格式就是ID"
   ]
  },
  {
   "cell_type": "markdown",
   "metadata": {},
   "source": [
    "## 2. 测试nodeCount参数"
   ]
  },
  {
   "cell_type": "markdown",
   "metadata": {},
   "source": [
    "mode参数是必需传入的参数，以期刊SO为例，测试nodeCount参数"
   ]
  },
  {
   "cell_type": "code",
   "execution_count": 9,
   "metadata": {},
   "outputs": [
    {
     "name": "stdout",
     "output_type": "stream",
     "text": [
      "Nodes: 4\n",
      "Edges: 0\n",
      "Isolates: 4\n",
      "Self loops: 0\n",
      "Density: 0\n",
      "Transitivity: 0\n"
     ]
    }
   ],
   "source": [
    "journal = RC.networkOneMode('SO',nodeCount=True)\n",
    "print(mk.graphStats(journal))"
   ]
  },
  {
   "cell_type": "code",
   "execution_count": 10,
   "metadata": {},
   "outputs": [
    {
     "data": {
      "text/plain": [
       "NodeDataView({'JOURNAL OF INFORMETRICS': {'count': 891}, 'SCIENTOMETRICS': {'count': 3480}, 'JOURNAL OF THE ASSOCIATION FOR INFORMATION SCIENCE AND TECHNOLOGY': {'count': 1340}, 'JOURNAL OF THE AMERICAN SOCIETY FOR INFORMATION SCIENCE AND TECHNOLOGY': {'count': 647}})"
      ]
     },
     "execution_count": 10,
     "metadata": {},
     "output_type": "execute_result"
    }
   ],
   "source": [
    "journal.nodes.data()\n",
    "#收集的就只有四个期刊，由于该字段只能有一个元素，所以网络数据集中的节点就是4，彼此之间没有连线"
   ]
  },
  {
   "cell_type": "code",
   "execution_count": 11,
   "metadata": {},
   "outputs": [
    {
     "name": "stdout",
     "output_type": "stream",
     "text": [
      "Nodes: 4\n",
      "Edges: 0\n",
      "Isolates: 4\n",
      "Self loops: 0\n",
      "Density: 0\n",
      "Transitivity: 0\n"
     ]
    }
   ],
   "source": [
    "journal = RC.networkOneMode('SO',nodeCount=False)\n",
    "print(mk.graphStats(journal))"
   ]
  },
  {
   "cell_type": "markdown",
   "metadata": {},
   "source": [
    "换一个mode参数进行，比如subjectCategory SC"
   ]
  },
  {
   "cell_type": "code",
   "execution_count": 12,
   "metadata": {},
   "outputs": [
    {
     "name": "stdout",
     "output_type": "stream",
     "text": [
      "Nodes: 2\n",
      "Edges: 1\n",
      "Isolates: 0\n",
      "Self loops: 0\n",
      "Density: 1\n",
      "Transitivity: 0\n"
     ]
    }
   ],
   "source": [
    "subjectCategory = RC.networkOneMode('SC',nodeCount=True)\n",
    "print(mk.graphStats(subjectCategory))"
   ]
  },
  {
   "cell_type": "code",
   "execution_count": 13,
   "metadata": {},
   "outputs": [
    {
     "data": {
      "text/plain": [
       "NodeDataView({'Computer Science': {'count': 6358}, 'Information Science & Library Science': {'count': 6358}})"
      ]
     },
     "execution_count": 13,
     "metadata": {},
     "output_type": "execute_result"
    }
   ],
   "source": [
    "subjectCategory.nodes.data()"
   ]
  },
  {
   "cell_type": "code",
   "execution_count": 14,
   "metadata": {},
   "outputs": [
    {
     "name": "stdout",
     "output_type": "stream",
     "text": [
      "Nodes: 2\n",
      "Edges: 1\n",
      "Isolates: 0\n",
      "Self loops: 0\n",
      "Density: 1\n",
      "Transitivity: 0\n"
     ]
    }
   ],
   "source": [
    "subjectCategory = RC.networkOneMode('SC',nodeCount=False)\n",
    "print(mk.graphStats(subjectCategory))"
   ]
  },
  {
   "cell_type": "code",
   "execution_count": 15,
   "metadata": {},
   "outputs": [
    {
     "data": {
      "text/plain": [
       "NodeDataView({'Computer Science': {}, 'Information Science & Library Science': {}})"
      ]
     },
     "execution_count": 15,
     "metadata": {},
     "output_type": "execute_result"
    }
   ],
   "source": [
    "subjectCategory.nodes.data()"
   ]
  },
  {
   "cell_type": "markdown",
   "metadata": {},
   "source": [
    "## 3. 测试edgeWeight参数"
   ]
  },
  {
   "cell_type": "code",
   "execution_count": 16,
   "metadata": {},
   "outputs": [
    {
     "name": "stdout",
     "output_type": "stream",
     "text": [
      "Nodes: 2\n",
      "Edges: 1\n",
      "Isolates: 0\n",
      "Self loops: 0\n",
      "Density: 1\n",
      "Transitivity: 0\n"
     ]
    }
   ],
   "source": [
    "subjectCategory = RC.networkOneMode('SC',edgeWeight=True)\n",
    "print(mk.graphStats(subjectCategory))"
   ]
  },
  {
   "cell_type": "code",
   "execution_count": 17,
   "metadata": {},
   "outputs": [
    {
     "data": {
      "text/plain": [
       "EdgeDataView([('Computer Science', 'Information Science & Library Science', {'weight': 6358})])"
      ]
     },
     "execution_count": 17,
     "metadata": {},
     "output_type": "execute_result"
    }
   ],
   "source": [
    "subjectCategory.edges.data()"
   ]
  },
  {
   "cell_type": "code",
   "execution_count": 18,
   "metadata": {},
   "outputs": [
    {
     "name": "stdout",
     "output_type": "stream",
     "text": [
      "Nodes: 2\n",
      "Edges: 1\n",
      "Isolates: 0\n",
      "Self loops: 0\n",
      "Density: 1\n",
      "Transitivity: 0\n"
     ]
    }
   ],
   "source": [
    "subjectCategory = RC.networkOneMode('SC',edgeWeight=False)\n",
    "print(mk.graphStats(subjectCategory))"
   ]
  },
  {
   "cell_type": "code",
   "execution_count": 19,
   "metadata": {},
   "outputs": [
    {
     "data": {
      "text/plain": [
       "EdgeDataView([('Computer Science', 'Information Science & Library Science', {})])"
      ]
     },
     "execution_count": 19,
     "metadata": {},
     "output_type": "execute_result"
    }
   ],
   "source": [
    "subjectCategory.edges.data()"
   ]
  },
  {
   "cell_type": "markdown",
   "metadata": {},
   "source": [
    "## 4. 测试stemmer参数"
   ]
  },
  {
   "cell_type": "markdown",
   "metadata": {},
   "source": [
    "还是以SC为例，测试stemmer参数"
   ]
  },
  {
   "cell_type": "code",
   "execution_count": 20,
   "metadata": {},
   "outputs": [
    {
     "name": "stdout",
     "output_type": "stream",
     "text": [
      "Nodes: 2\n",
      "Edges: 1\n",
      "Isolates: 0\n",
      "Self loops: 0\n",
      "Density: 1\n",
      "Transitivity: 0\n"
     ]
    }
   ],
   "source": [
    "subjectCategory = RC.networkOneMode('SC',stemmer=lambda x:x[0])\n",
    "print(mk.graphStats(subjectCategory))"
   ]
  },
  {
   "cell_type": "code",
   "execution_count": 21,
   "metadata": {},
   "outputs": [
    {
     "data": {
      "text/plain": [
       "NodeDataView({'C': {'count': 6358}, 'I': {'count': 6358}})"
      ]
     },
     "execution_count": 21,
     "metadata": {},
     "output_type": "execute_result"
    }
   ],
   "source": [
    "subjectCategory.nodes.data()"
   ]
  },
  {
   "cell_type": "code",
   "execution_count": 22,
   "metadata": {},
   "outputs": [
    {
     "data": {
      "text/plain": [
       "EdgeDataView([('C', 'I', {'weight': 6358})])"
      ]
     },
     "execution_count": 22,
     "metadata": {},
     "output_type": "execute_result"
    }
   ],
   "source": [
    "subjectCategory.edges.data()\n",
    "#不光是节点的显示信息收到影响，而且连线汇总的节点名称也是有影响"
   ]
  },
  {
   "cell_type": "code",
   "execution_count": 23,
   "metadata": {},
   "outputs": [
    {
     "name": "stdout",
     "output_type": "stream",
     "text": [
      "Nodes: 2\n",
      "Edges: 1\n",
      "Isolates: 0\n",
      "Self loops: 0\n",
      "Density: 1\n",
      "Transitivity: 0\n"
     ]
    }
   ],
   "source": [
    "subjectCategory = RC.networkOneMode('SC',stemmer=lambda x:x.split()[0])\n",
    "print(mk.graphStats(subjectCategory))"
   ]
  },
  {
   "cell_type": "code",
   "execution_count": 24,
   "metadata": {},
   "outputs": [
    {
     "data": {
      "text/plain": [
       "NodeDataView({'Computer': {'count': 6358}, 'Information': {'count': 6358}})"
      ]
     },
     "execution_count": 24,
     "metadata": {},
     "output_type": "execute_result"
    }
   ],
   "source": [
    "subjectCategory.nodes.data()\n",
    "#比如按照空格进行分割字符串后索引第一个元素作为节点的显示信息"
   ]
  },
  {
   "cell_type": "markdown",
   "metadata": {},
   "source": [
    "## 5. 测试edgeAttribute参数"
   ]
  },
  {
   "cell_type": "markdown",
   "metadata": {},
   "source": [
    "该参数在使用手册中未进行介绍,源代码中是直接调用networkMultiMode()"
   ]
  },
  {
   "cell_type": "markdown",
   "metadata": {},
   "source": [
    "作为创建有向图、无向图和多维图的判断依据,直接赋值字符串会进行报错,默认设置为None即可"
   ]
  },
  {
   "cell_type": "code",
   "execution_count": 25,
   "metadata": {},
   "outputs": [
    {
     "ename": "NetworkXNotImplemented",
     "evalue": "not implemented for multigraph type",
     "output_type": "error",
     "traceback": [
      "\u001b[1;31m---------------------------------------------------------------------------\u001b[0m",
      "\u001b[1;31mNetworkXNotImplemented\u001b[0m                    Traceback (most recent call last)",
      "\u001b[1;32m<ipython-input-25-3377a972e6e2>\u001b[0m in \u001b[0;36m<module>\u001b[1;34m\u001b[0m\n\u001b[0;32m      1\u001b[0m \u001b[0msubjectCategory\u001b[0m \u001b[1;33m=\u001b[0m \u001b[0mRC\u001b[0m\u001b[1;33m.\u001b[0m\u001b[0mnetworkOneMode\u001b[0m\u001b[1;33m(\u001b[0m\u001b[1;34m'SC'\u001b[0m\u001b[1;33m,\u001b[0m\u001b[0medgeAttribute\u001b[0m\u001b[1;33m=\u001b[0m\u001b[1;34m'a'\u001b[0m\u001b[1;33m)\u001b[0m\u001b[1;33m\u001b[0m\u001b[1;33m\u001b[0m\u001b[0m\n\u001b[1;32m----> 2\u001b[1;33m \u001b[0mprint\u001b[0m\u001b[1;33m(\u001b[0m\u001b[0mmk\u001b[0m\u001b[1;33m.\u001b[0m\u001b[0mgraphStats\u001b[0m\u001b[1;33m(\u001b[0m\u001b[0msubjectCategory\u001b[0m\u001b[1;33m)\u001b[0m\u001b[1;33m)\u001b[0m\u001b[1;33m\u001b[0m\u001b[1;33m\u001b[0m\u001b[0m\n\u001b[0m",
      "\u001b[1;32mD:\\miniconda\\lib\\site-packages\\metaknowledge-3.4.1-py3.8.egg\\metaknowledge\\graphHelpers.py\u001b[0m in \u001b[0;36mgraphStats\u001b[1;34m(G, stats, makeString, sentenceString)\u001b[0m\n\u001b[0;32m    822\u001b[0m                 \u001b[0mstsData\u001b[0m\u001b[1;33m.\u001b[0m\u001b[0mappend\u001b[0m\u001b[1;33m(\u001b[0m\u001b[1;34m\"a transitivity of {:G}\"\u001b[0m\u001b[1;33m.\u001b[0m\u001b[0mformat\u001b[0m\u001b[1;33m(\u001b[0m\u001b[0mnx\u001b[0m\u001b[1;33m.\u001b[0m\u001b[0mtransitivity\u001b[0m\u001b[1;33m(\u001b[0m\u001b[0mG\u001b[0m\u001b[1;33m)\u001b[0m\u001b[1;33m)\u001b[0m\u001b[1;33m)\u001b[0m\u001b[1;33m\u001b[0m\u001b[1;33m\u001b[0m\u001b[0m\n\u001b[0;32m    823\u001b[0m             \u001b[1;32melse\u001b[0m\u001b[1;33m:\u001b[0m\u001b[1;33m\u001b[0m\u001b[1;33m\u001b[0m\u001b[0m\n\u001b[1;32m--> 824\u001b[1;33m                 \u001b[0mstsData\u001b[0m\u001b[1;33m.\u001b[0m\u001b[0mappend\u001b[0m\u001b[1;33m(\u001b[0m\u001b[1;34m\"Transitivity: {:G}\"\u001b[0m\u001b[1;33m.\u001b[0m\u001b[0mformat\u001b[0m\u001b[1;33m(\u001b[0m\u001b[0mnx\u001b[0m\u001b[1;33m.\u001b[0m\u001b[0mtransitivity\u001b[0m\u001b[1;33m(\u001b[0m\u001b[0mG\u001b[0m\u001b[1;33m)\u001b[0m\u001b[1;33m)\u001b[0m\u001b[1;33m)\u001b[0m\u001b[1;33m\u001b[0m\u001b[1;33m\u001b[0m\u001b[0m\n\u001b[0m\u001b[0;32m    825\u001b[0m         \u001b[1;32melse\u001b[0m\u001b[1;33m:\u001b[0m\u001b[1;33m\u001b[0m\u001b[1;33m\u001b[0m\u001b[0m\n\u001b[0;32m    826\u001b[0m             \u001b[0mstsData\u001b[0m\u001b[1;33m[\u001b[0m\u001b[1;34m'transitivity'\u001b[0m\u001b[1;33m]\u001b[0m \u001b[1;33m=\u001b[0m \u001b[0mnx\u001b[0m\u001b[1;33m.\u001b[0m\u001b[0mtransitivity\u001b[0m\u001b[1;33m(\u001b[0m\u001b[0mG\u001b[0m\u001b[1;33m)\u001b[0m\u001b[1;33m\u001b[0m\u001b[1;33m\u001b[0m\u001b[0m\n",
      "\u001b[1;32mD:\\miniconda\\lib\\site-packages\\networkx\\algorithms\\cluster.py\u001b[0m in \u001b[0;36mtransitivity\u001b[1;34m(G)\u001b[0m\n\u001b[0;32m    420\u001b[0m     \"\"\"\n\u001b[0;32m    421\u001b[0m     triangles_contri = [\n\u001b[1;32m--> 422\u001b[1;33m         \u001b[1;33m(\u001b[0m\u001b[0mt\u001b[0m\u001b[1;33m,\u001b[0m \u001b[0md\u001b[0m \u001b[1;33m*\u001b[0m \u001b[1;33m(\u001b[0m\u001b[0md\u001b[0m \u001b[1;33m-\u001b[0m \u001b[1;36m1\u001b[0m\u001b[1;33m)\u001b[0m\u001b[1;33m)\u001b[0m \u001b[1;32mfor\u001b[0m \u001b[0mv\u001b[0m\u001b[1;33m,\u001b[0m \u001b[0md\u001b[0m\u001b[1;33m,\u001b[0m \u001b[0mt\u001b[0m\u001b[1;33m,\u001b[0m \u001b[0m_\u001b[0m \u001b[1;32min\u001b[0m \u001b[0m_triangles_and_degree_iter\u001b[0m\u001b[1;33m(\u001b[0m\u001b[0mG\u001b[0m\u001b[1;33m)\u001b[0m\u001b[1;33m\u001b[0m\u001b[1;33m\u001b[0m\u001b[0m\n\u001b[0m\u001b[0;32m    423\u001b[0m     ]\n\u001b[0;32m    424\u001b[0m     \u001b[1;31m# If the graph is empty\u001b[0m\u001b[1;33m\u001b[0m\u001b[1;33m\u001b[0m\u001b[1;33m\u001b[0m\u001b[0m\n",
      "\u001b[1;32mD:\\miniconda\\lib\\site-packages\\networkx\\utils\\decorators.py\u001b[0m in \u001b[0;36margmap__triangles_and_degree_iter_1\u001b[1;34m(G, nodes)\u001b[0m\n\u001b[0;32m      1\u001b[0m \u001b[1;32mimport\u001b[0m \u001b[0mbz2\u001b[0m\u001b[1;33m\u001b[0m\u001b[1;33m\u001b[0m\u001b[0m\n\u001b[0;32m      2\u001b[0m \u001b[1;32mimport\u001b[0m \u001b[0mcollections\u001b[0m\u001b[1;33m\u001b[0m\u001b[1;33m\u001b[0m\u001b[0m\n\u001b[1;32m----> 3\u001b[1;33m \u001b[1;32mimport\u001b[0m \u001b[0mgzip\u001b[0m\u001b[1;33m\u001b[0m\u001b[1;33m\u001b[0m\u001b[0m\n\u001b[0m\u001b[0;32m      4\u001b[0m \u001b[1;32mimport\u001b[0m \u001b[0minspect\u001b[0m\u001b[1;33m\u001b[0m\u001b[1;33m\u001b[0m\u001b[0m\n\u001b[0;32m      5\u001b[0m \u001b[1;32mimport\u001b[0m \u001b[0mitertools\u001b[0m\u001b[1;33m\u001b[0m\u001b[1;33m\u001b[0m\u001b[0m\n",
      "\u001b[1;32mD:\\miniconda\\lib\\site-packages\\networkx\\utils\\decorators.py\u001b[0m in \u001b[0;36m_not_implemented_for\u001b[1;34m(g)\u001b[0m\n\u001b[0;32m     86\u001b[0m             \u001b[0mdval\u001b[0m \u001b[1;32mis\u001b[0m \u001b[1;32mNone\u001b[0m \u001b[1;32mor\u001b[0m \u001b[0mdval\u001b[0m \u001b[1;33m==\u001b[0m \u001b[0mg\u001b[0m\u001b[1;33m.\u001b[0m\u001b[0mis_directed\u001b[0m\u001b[1;33m(\u001b[0m\u001b[1;33m)\u001b[0m\u001b[1;33m\u001b[0m\u001b[1;33m\u001b[0m\u001b[0m\n\u001b[0;32m     87\u001b[0m         ):\n\u001b[1;32m---> 88\u001b[1;33m             \u001b[1;32mraise\u001b[0m \u001b[0mnx\u001b[0m\u001b[1;33m.\u001b[0m\u001b[0mNetworkXNotImplemented\u001b[0m\u001b[1;33m(\u001b[0m\u001b[0merrmsg\u001b[0m\u001b[1;33m)\u001b[0m\u001b[1;33m\u001b[0m\u001b[1;33m\u001b[0m\u001b[0m\n\u001b[0m\u001b[0;32m     89\u001b[0m \u001b[1;33m\u001b[0m\u001b[0m\n\u001b[0;32m     90\u001b[0m         \u001b[1;32mreturn\u001b[0m \u001b[0mg\u001b[0m\u001b[1;33m\u001b[0m\u001b[1;33m\u001b[0m\u001b[0m\n",
      "\u001b[1;31mNetworkXNotImplemented\u001b[0m: not implemented for multigraph type"
     ]
    }
   ],
   "source": [
    "subjectCategory = RC.networkOneMode('SC',edgeAttribute='a')\n",
    "print(mk.graphStats(subjectCategory))\n",
    "#该参数应该和nodeAttribute参数功能类似，创建一个连线的属性，但是在当前版本的networkx模块中无法运行，所以保持默认None即可"
   ]
  },
  {
   "cell_type": "code",
   "execution_count": 26,
   "metadata": {},
   "outputs": [
    {
     "data": {
      "text/plain": [
       "MultiEdgeDataView([])"
      ]
     },
     "execution_count": 26,
     "metadata": {},
     "output_type": "execute_result"
    }
   ],
   "source": [
    "subjectCategory.edges.data()"
   ]
  },
  {
   "cell_type": "markdown",
   "metadata": {},
   "source": [
    "## 6. 测试nodeAttribute参数"
   ]
  },
  {
   "cell_type": "code",
   "execution_count": 27,
   "metadata": {},
   "outputs": [
    {
     "name": "stdout",
     "output_type": "stream",
     "text": [
      "Nodes: 2\n",
      "Edges: 1\n",
      "Isolates: 0\n",
      "Self loops: 0\n",
      "Density: 1\n",
      "Transitivity: 0\n"
     ]
    }
   ],
   "source": [
    "subjectCategory = RC.networkOneMode('SC',nodeAttribute='c')\n",
    "print(mk.graphStats(subjectCategory))"
   ]
  },
  {
   "cell_type": "code",
   "execution_count": 28,
   "metadata": {},
   "outputs": [
    {
     "data": {
      "text/plain": [
       "NodeDataView({'Computer Science': {'count': 6358, 'c': []}, 'Information Science & Library Science': {'count': 6358, 'c': []}})"
      ]
     },
     "execution_count": 28,
     "metadata": {},
     "output_type": "execute_result"
    }
   ],
   "source": [
    "subjectCategory.nodes.data()\n",
    "#理解就是添加一个属性，但是也没有进行结果运算"
   ]
  },
  {
   "cell_type": "code",
   "execution_count": null,
   "metadata": {},
   "outputs": [],
   "source": []
  }
 ],
 "metadata": {
  "kernelspec": {
   "display_name": "Python 3",
   "language": "python",
   "name": "python3"
  },
  "language_info": {
   "codemirror_mode": {
    "name": "ipython",
    "version": 3
   },
   "file_extension": ".py",
   "mimetype": "text/x-python",
   "name": "python",
   "nbconvert_exporter": "python",
   "pygments_lexer": "ipython3",
   "version": "3.8.3"
  }
 },
 "nbformat": 4,
 "nbformat_minor": 4
}
