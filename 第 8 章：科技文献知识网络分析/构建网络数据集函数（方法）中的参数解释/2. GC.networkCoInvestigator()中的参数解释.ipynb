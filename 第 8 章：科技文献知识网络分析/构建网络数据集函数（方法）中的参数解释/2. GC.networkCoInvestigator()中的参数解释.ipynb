{
 "cells": [
  {
   "cell_type": "code",
   "execution_count": 1,
   "metadata": {},
   "outputs": [],
   "source": [
    "import metaknowledge as mk\n",
    "\n",
    "import warnings\n",
    "warnings.filterwarnings(\"ignore\")"
   ]
  },
  {
   "cell_type": "code",
   "execution_count": 2,
   "metadata": {},
   "outputs": [],
   "source": [
    "nserc_grants = mk.GrantCollection('../raw_data/grants/nserc/')"
   ]
  },
  {
   "cell_type": "markdown",
   "metadata": {},
   "source": [
    "GC.networkCoInvestigator()中的参数解释:\n",
    "\n",
    "    * targetTagsL: [list]数据类型。默认为None,可以指定为Grant中研究者的标签构成的列表，很多基金中作者没有已知的标签，需要自己指定；\n",
    "    * tagSeperator: [str]数据类型。默认为';',如果数据中不是';'分割，应当单独指定；\n",
    "    * count: [bool]数据类型。默认为'True',会对研究者出现的次数进行计数；\n",
    "    * weighted: [bool]数据类型。默认为'True'，将计算连线权重并将其添加到连线上；\n",
    "    * _institutionLevel: [bool]数据类型。默认为'False'，如果修改为'True'，节点的信息由研究人员转变为研究机构。"
   ]
  },
  {
   "cell_type": "markdown",
   "metadata": {},
   "source": [
    "## 1.测试targetTagsL参数"
   ]
  },
  {
   "cell_type": "code",
   "execution_count": 3,
   "metadata": {},
   "outputs": [
    {
     "name": "stdout",
     "output_type": "stream",
     "text": [
      "Nodes: 33655\n",
      "Edges: 130586\n",
      "Isolates: 26284\n",
      "Self loops: 4\n",
      "Density: 0.00023059\n",
      "Transitivity: 0.902158\n"
     ]
    }
   ],
   "source": [
    "ci_nets = nserc_grants.networkCoInvestigator()\n",
    "print(mk.graphStats(ci_nets))"
   ]
  },
  {
   "cell_type": "code",
   "execution_count": 4,
   "metadata": {},
   "outputs": [
    {
     "name": "stdout",
     "output_type": "stream",
     "text": [
      "{'Department-DÃ\\x88partement', ' logical name EN', 'AreaOfApplicationEN', 'installment', 'ResearchSubjectCode', 'ResearchSubjectGroupEN', 'OrganizationID', 'ApplicationTitle', 'AwardAmount', 'Institution-â\\x80¦tablissement', 'CountryEN', 'Partie', 'ProvinceEN', 'PartInstitution-â\\x80¦tablissement', 'Institution-Ã\\x89tablissement', 'ProgramID', 'ProvinceFR', 'CoAppOrganizationID', 'Department-DÃ©partement', 'AreaOfApplicationGroupEN', 'ProgramNameFR', ' logical name FR', 'CoApplicantName-NomCoApplicant', 'CommitteeCode', 'CompetitionYear-AnnÃ©e de concours', 'Keyword', 'AreaOfApplicationGroupFR', 'CountryFR', 'ResearchSubjectEN', 'GroupEN', 'ProgramNaneEN', 'AreaOfApplicationCode', 'ApplicationSummary', 'FiscalYear-Exercice financier', 'Name-Nom', 'CommitteeNameEN', 'PartOrganizationID', 'CompetitionYear-AnnÃ\\x88e de concours', 'ResearchSubjectFR', 'ResearchSubjectGroupFR', 'Nb_Partie', 'CommitteeNameFR', 'CoAppInstitution-â\\x80¦tablissement', 'Cle', 'physical name', 'AreaOfApplicationFR', 'GroupFR'}\n"
     ]
    }
   ],
   "source": [
    "print(nserc_grants.tags())"
   ]
  },
  {
   "cell_type": "markdown",
   "metadata": {},
   "source": [
    "运行时间较久"
   ]
  },
  {
   "cell_type": "code",
   "execution_count": 5,
   "metadata": {},
   "outputs": [
    {
     "name": "stdout",
     "output_type": "stream",
     "text": [
      "Nodes: 33763\n",
      "Edges: 179892\n",
      "Isolates: 8\n",
      "Self loops: 4\n",
      "Density: 0.000315626\n",
      "Transitivity: 0.135653\n"
     ]
    }
   ],
   "source": [
    "ci_nets = nserc_grants.networkCoInvestigator(targetTags=['physical name','ProgramID'])\n",
    "print(mk.graphStats(ci_nets))"
   ]
  },
  {
   "cell_type": "markdown",
   "metadata": {},
   "source": [
    "## 2. 测试tagSeperator参数"
   ]
  },
  {
   "cell_type": "code",
   "execution_count": 6,
   "metadata": {},
   "outputs": [
    {
     "name": "stdout",
     "output_type": "stream",
     "text": [
      "Nodes: 33655\n",
      "Edges: 130586\n",
      "Isolates: 26284\n",
      "Self loops: 4\n",
      "Density: 0.00023059\n",
      "Transitivity: 0.902158\n"
     ]
    }
   ],
   "source": [
    "ci_nets = nserc_grants.networkCoInvestigator(tagSeperator=';')\n",
    "print(mk.graphStats(ci_nets))"
   ]
  },
  {
   "cell_type": "code",
   "execution_count": 7,
   "metadata": {},
   "outputs": [
    {
     "name": "stdout",
     "output_type": "stream",
     "text": [
      "Nodes: 37990\n",
      "Edges: 347747\n",
      "Isolates: 0\n",
      "Self loops: 40\n",
      "Density: 0.00048191\n",
      "Transitivity: 0.752527\n"
     ]
    }
   ],
   "source": [
    "ci_nets = nserc_grants.networkCoInvestigator(tagSeperator=',')\n",
    "print(mk.graphStats(ci_nets))"
   ]
  },
  {
   "cell_type": "markdown",
   "metadata": {},
   "source": [
    "需要按照数据中的分割符来进行指定，如果是逗号，很多研究者名字中都存在逗号，所以导致分割的数据集中节点数量增大，连线数量扩大3倍"
   ]
  },
  {
   "cell_type": "markdown",
   "metadata": {},
   "source": [
    "## 3. 测试count参数"
   ]
  },
  {
   "cell_type": "code",
   "execution_count": 8,
   "metadata": {},
   "outputs": [
    {
     "name": "stdout",
     "output_type": "stream",
     "text": [
      "Nodes: 33655\n",
      "Edges: 130586\n",
      "Isolates: 26284\n",
      "Self loops: 4\n",
      "Density: 0.00023059\n",
      "Transitivity: 0.902158\n"
     ]
    }
   ],
   "source": [
    "ci_nets = nserc_grants.networkCoInvestigator(count=True)\n",
    "print(mk.graphStats(ci_nets))"
   ]
  },
  {
   "cell_type": "code",
   "execution_count": 9,
   "metadata": {},
   "outputs": [
    {
     "data": {
      "text/plain": [
       "('Song, JimmyYuanxi', {'count': 1, 'field': 'Name-Nom'})"
      ]
     },
     "execution_count": 9,
     "metadata": {},
     "output_type": "execute_result"
    }
   ],
   "source": [
    "list(ci_nets.nodes.data())[0]"
   ]
  },
  {
   "cell_type": "code",
   "execution_count": 10,
   "metadata": {},
   "outputs": [
    {
     "name": "stdout",
     "output_type": "stream",
     "text": [
      "Nodes: 33655\n",
      "Edges: 130586\n",
      "Isolates: 26284\n",
      "Self loops: 4\n",
      "Density: 0.00023059\n",
      "Transitivity: 0.902158\n"
     ]
    }
   ],
   "source": [
    "ci_nets = nserc_grants.networkCoInvestigator(count=False)\n",
    "print(mk.graphStats(ci_nets))"
   ]
  },
  {
   "cell_type": "code",
   "execution_count": 11,
   "metadata": {},
   "outputs": [
    {
     "data": {
      "text/plain": [
       "('Song, JimmyYuanxi', {'field': 'Name-Nom'})"
      ]
     },
     "execution_count": 11,
     "metadata": {},
     "output_type": "execute_result"
    }
   ],
   "source": [
    "list(ci_nets.nodes.data())[0]"
   ]
  },
  {
   "cell_type": "markdown",
   "metadata": {},
   "source": [
    "## 4. 测试weighted参数"
   ]
  },
  {
   "cell_type": "code",
   "execution_count": 16,
   "metadata": {},
   "outputs": [
    {
     "name": "stdout",
     "output_type": "stream",
     "text": [
      "Nodes: 33655\n",
      "Edges: 130586\n",
      "Isolates: 26284\n",
      "Self loops: 4\n",
      "Density: 0.00023059\n",
      "Transitivity: 0.902158\n"
     ]
    }
   ],
   "source": [
    "ci_nets = nserc_grants.networkCoInvestigator(weighted=True)\n",
    "print(mk.graphStats(ci_nets))"
   ]
  },
  {
   "cell_type": "code",
   "execution_count": 17,
   "metadata": {},
   "outputs": [
    {
     "data": {
      "text/plain": [
       "('Mulligan, Catherine', 'Paraschivoiu, Marius', {'weight': 1})"
      ]
     },
     "execution_count": 17,
     "metadata": {},
     "output_type": "execute_result"
    }
   ],
   "source": [
    "list(ci_nets.edges.data())[0]"
   ]
  },
  {
   "cell_type": "code",
   "execution_count": 20,
   "metadata": {},
   "outputs": [
    {
     "name": "stdout",
     "output_type": "stream",
     "text": [
      "Nodes: 33655\n",
      "Edges: 130586\n",
      "Isolates: 26284\n",
      "Self loops: 4\n",
      "Density: 0.00023059\n",
      "Transitivity: 0.902158\n"
     ]
    }
   ],
   "source": [
    "ci_nets = nserc_grants.networkCoInvestigator(weighted=False)\n",
    "print(mk.graphStats(ci_nets))"
   ]
  },
  {
   "cell_type": "code",
   "execution_count": 21,
   "metadata": {},
   "outputs": [
    {
     "data": {
      "text/plain": [
       "('Mulligan, Catherine', 'Paraschivoiu, Marius', {})"
      ]
     },
     "execution_count": 21,
     "metadata": {},
     "output_type": "execute_result"
    }
   ],
   "source": [
    "list(ci_nets.edges.data())[0]"
   ]
  },
  {
   "cell_type": "markdown",
   "metadata": {},
   "source": [
    "## 5. 测试_institutionLevel参数"
   ]
  },
  {
   "cell_type": "code",
   "execution_count": 27,
   "metadata": {},
   "outputs": [
    {
     "name": "stdout",
     "output_type": "stream",
     "text": [
      "Nodes: 33655\n",
      "Edges: 130586\n",
      "Isolates: 26284\n",
      "Self loops: 4\n",
      "Density: 0.00023059\n",
      "Transitivity: 0.902158\n"
     ]
    }
   ],
   "source": [
    "ci_nets = nserc_grants.networkCoInvestigator(_institutionLevel=False)\n",
    "print(mk.graphStats(ci_nets))"
   ]
  },
  {
   "cell_type": "code",
   "execution_count": 28,
   "metadata": {},
   "outputs": [
    {
     "data": {
      "text/plain": [
       "('Song, JimmyYuanxi', {'count': 1, 'field': 'Name-Nom'})"
      ]
     },
     "execution_count": 28,
     "metadata": {},
     "output_type": "execute_result"
    }
   ],
   "source": [
    "list(ci_nets.nodes.data())[0]"
   ]
  },
  {
   "cell_type": "code",
   "execution_count": 30,
   "metadata": {},
   "outputs": [
    {
     "name": "stdout",
     "output_type": "stream",
     "text": [
      "Nodes: 5489\n",
      "Edges: 32552\n",
      "Isolates: 823\n",
      "Self loops: 165\n",
      "Density: 0.00216123\n",
      "Transitivity: 0.17326\n"
     ]
    }
   ],
   "source": [
    "ci_nets = nserc_grants.networkCoInvestigator(_institutionLevel=True)\n",
    "print(mk.graphStats(ci_nets))"
   ]
  },
  {
   "cell_type": "code",
   "execution_count": 31,
   "metadata": {},
   "outputs": [
    {
     "data": {
      "text/plain": [
       "('University of Ontario Institute of Technology',\n",
       " {'count': 1521, 'field': 'Institution-Ã\\x89tablissement'})"
      ]
     },
     "execution_count": 31,
     "metadata": {},
     "output_type": "execute_result"
    }
   ],
   "source": [
    "list(ci_nets.nodes.data())[0]"
   ]
  },
  {
   "cell_type": "code",
   "execution_count": 37,
   "metadata": {},
   "outputs": [
    {
     "data": {
      "text/plain": [
       "['University of Ontario Institute of Technology',\n",
       " 'University of Ottawa',\n",
       " 'Concordia University',\n",
       " 'UniversitÃ\\x88 Laval',\n",
       " 'Simon Fraser University',\n",
       " 'University of Manitoba',\n",
       " 'York University',\n",
       " 'Canadian Space Agency',\n",
       " 'COM DEV International Ltd.',\n",
       " 'ABB Bomem Inc.',\n",
       " 'University of British Columbia',\n",
       " 'University of New Brunswick',\n",
       " 'UniversitÃ\\x88 de MontrÃ\\x88al',\n",
       " 'University of Waterloo',\n",
       " 'University of Guelph',\n",
       " 'University of Alberta',\n",
       " 'University of Western Ontario',\n",
       " 'University of Regina',\n",
       " 'McGill University',\n",
       " 'University of Northern British Columbia']"
      ]
     },
     "execution_count": 37,
     "metadata": {},
     "output_type": "execute_result"
    }
   ],
   "source": [
    "list(dict(ci_nets.nodes.data()).keys())[:20]\n",
    "\n",
    "#相当于节点信息由研究人员变成了研究机构"
   ]
  },
  {
   "cell_type": "code",
   "execution_count": null,
   "metadata": {},
   "outputs": [],
   "source": []
  }
 ],
 "metadata": {
  "kernelspec": {
   "display_name": "Python 3",
   "language": "python",
   "name": "python3"
  },
  "language_info": {
   "codemirror_mode": {
    "name": "ipython",
    "version": 3
   },
   "file_extension": ".py",
   "mimetype": "text/x-python",
   "name": "python",
   "nbconvert_exporter": "python",
   "pygments_lexer": "ipython3",
   "version": "3.8.3"
  }
 },
 "nbformat": 4,
 "nbformat_minor": 4
}
