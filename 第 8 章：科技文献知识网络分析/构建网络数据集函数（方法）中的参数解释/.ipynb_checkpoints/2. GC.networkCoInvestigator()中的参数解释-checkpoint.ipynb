{
 "cells": [
  {
   "cell_type": "code",
   "execution_count": 1,
   "metadata": {},
   "outputs": [],
   "source": [
    "import metaknowledge as mk\n",
    "\n",
    "import warnings\n",
    "warnings.filterwarnings(\"ignore\")"
   ]
  },
  {
   "cell_type": "code",
   "execution_count": 2,
   "metadata": {},
   "outputs": [],
   "source": [
    "nserc_grants = mk.GrantCollection('../raw_data/grants/nserc/')"
   ]
  },
  {
   "cell_type": "markdown",
   "metadata": {},
   "source": [
    "GC.networkCoInvestigator()中的参数解释:\n",
    "\n",
    "    * targetTagsL: [list]数据类型。默认为None,可以指定为Grant中研究者的标签构成的列表，很多基金中作者没有已知的标签，需要自己指定；\n",
    "    * tagSeperator: [str]数据类型。默认为';',如果数据中不是';'分割，应当单独指定；\n",
    "    * count: [bool]数据类型。默认为'True',会对研究者出现的次数进行计数；\n",
    "    * weighted: [bool]数据类型。默认为'True'，将计算连线权重并将其添加到连线上；\n",
    "    * _institutionLevel: [bool]数据类型。默认为'False'，如果修改为'True'，节点的信息由研究人员转变为研究机构。"
   ]
  },
  {
   "cell_type": "markdown",
   "metadata": {},
   "source": [
    "## 1.测试targetTagsL参数"
   ]
  },
  {
   "cell_type": "code",
   "execution_count": 38,
   "metadata": {},
   "outputs": [
    {
     "name": "stdout",
     "output_type": "stream",
     "text": [
      "Nodes: 33655\n",
      "Edges: 130586\n",
      "Isolates: 26284\n",
      "Self loops: 4\n",
      "Density: 0.00023059\n",
      "Transitivity: 0.902158\n"
     ]
    }
   ],
   "source": [
    "ci_nets = nserc_grants.networkCoInvestigator()\n",
    "print(mk.graphStats(ci_nets))"
   ]
  },
  {
   "cell_type": "code",
   "execution_count": 39,
   "metadata": {},
   "outputs": [
    {
     "name": "stdout",
     "output_type": "stream",
     "text": [
      "{'installment', 'AreaOfApplicationEN', ' logical name FR', 'Partie', 'ResearchSubjectGroupFR', 'AreaOfApplicationGroupEN', 'physical name', ' logical name EN', 'ResearchSubjectCode', 'Cle', 'Keyword', 'AwardAmount', 'ProgramNaneEN', 'Nb_Partie', 'CoAppInstitution-â\\x80¦tablissement', 'CountryFR', 'ProgramNameFR', 'PartOrganizationID', 'Department-DÃ©partement', 'AreaOfApplicationFR', 'GroupFR', 'CommitteeCode', 'CoApplicantName-NomCoApplicant', 'CoAppOrganizationID', 'AreaOfApplicationGroupFR', 'PartInstitution-â\\x80¦tablissement', 'ResearchSubjectEN', 'CommitteeNameEN', 'Name-Nom', 'ProvinceFR', 'CommitteeNameFR', 'ApplicationTitle', 'AreaOfApplicationCode', 'ProgramID', 'ResearchSubjectFR', 'Institution-â\\x80¦tablissement', 'ApplicationSummary', 'CompetitionYear-AnnÃ©e de concours', 'Department-DÃ\\x88partement', 'ProvinceEN', 'CompetitionYear-AnnÃ\\x88e de concours', 'ResearchSubjectGroupEN', 'OrganizationID', 'Institution-Ã\\x89tablissement', 'FiscalYear-Exercice financier', 'GroupEN', 'CountryEN'}\n"
     ]
    }
   ],
   "source": [
    "print(nserc_grants.tags())"
   ]
  },
  {
   "cell_type": "markdown",
   "metadata": {},
   "source": [
    "运行时间较久"
   ]
  },
  {
   "cell_type": "code",
   "execution_count": 42,
   "metadata": {},
   "outputs": [
    {
     "ename": "KeyboardInterrupt",
     "evalue": "",
     "output_type": "error",
     "traceback": [
      "\u001b[1;31m---------------------------------------------------------------------------\u001b[0m",
      "\u001b[1;31mKeyboardInterrupt\u001b[0m                         Traceback (most recent call last)",
      "\u001b[1;32m<ipython-input-42-69a30d4ab495>\u001b[0m in \u001b[0;36m<module>\u001b[1;34m\u001b[0m\n\u001b[1;32m----> 1\u001b[1;33m \u001b[0mci_nets\u001b[0m \u001b[1;33m=\u001b[0m \u001b[0mnserc_grants\u001b[0m\u001b[1;33m.\u001b[0m\u001b[0mnetworkCoInvestigator\u001b[0m\u001b[1;33m(\u001b[0m\u001b[0mtargetTags\u001b[0m\u001b[1;33m=\u001b[0m\u001b[0mlist\u001b[0m\u001b[1;33m(\u001b[0m\u001b[0mnserc_grants\u001b[0m\u001b[1;33m.\u001b[0m\u001b[0mtags\u001b[0m\u001b[1;33m(\u001b[0m\u001b[1;33m)\u001b[0m\u001b[1;33m)\u001b[0m\u001b[1;33m)\u001b[0m\u001b[1;33m\u001b[0m\u001b[1;33m\u001b[0m\u001b[0m\n\u001b[0m\u001b[0;32m      2\u001b[0m \u001b[0mprint\u001b[0m\u001b[1;33m(\u001b[0m\u001b[0mmk\u001b[0m\u001b[1;33m.\u001b[0m\u001b[0mgraphStats\u001b[0m\u001b[1;33m(\u001b[0m\u001b[0mci_nets\u001b[0m\u001b[1;33m)\u001b[0m\u001b[1;33m)\u001b[0m\u001b[1;33m\u001b[0m\u001b[1;33m\u001b[0m\u001b[0m\n",
      "\u001b[1;32mD:\\miniconda\\lib\\site-packages\\metaknowledge-3.4.1-py3.8.egg\\metaknowledge\\grantCollection.py\u001b[0m in \u001b[0;36mnetworkCoInvestigator\u001b[1;34m(self, targetTags, tagSeperator, count, weighted, _institutionLevel)\u001b[0m\n\u001b[0;32m    190\u001b[0m                     \u001b[0minvestList\u001b[0m \u001b[1;33m=\u001b[0m \u001b[0mG\u001b[0m\u001b[1;33m.\u001b[0m\u001b[0mgetInstitutions\u001b[0m\u001b[1;33m(\u001b[0m\u001b[0mtags\u001b[0m \u001b[1;33m=\u001b[0m \u001b[0mtargetTags\u001b[0m\u001b[1;33m,\u001b[0m \u001b[0mseperator\u001b[0m \u001b[1;33m=\u001b[0m \u001b[0mtagSeperator\u001b[0m\u001b[1;33m,\u001b[0m \u001b[0m_getTag\u001b[0m \u001b[1;33m=\u001b[0m \u001b[1;32mTrue\u001b[0m\u001b[1;33m)\u001b[0m\u001b[1;33m\u001b[0m\u001b[1;33m\u001b[0m\u001b[0m\n\u001b[0;32m    191\u001b[0m                 \u001b[1;32melse\u001b[0m\u001b[1;33m:\u001b[0m\u001b[1;33m\u001b[0m\u001b[1;33m\u001b[0m\u001b[0m\n\u001b[1;32m--> 192\u001b[1;33m                     \u001b[0minvestList\u001b[0m \u001b[1;33m=\u001b[0m \u001b[0mG\u001b[0m\u001b[1;33m.\u001b[0m\u001b[0mgetInvestigators\u001b[0m\u001b[1;33m(\u001b[0m\u001b[0mtags\u001b[0m \u001b[1;33m=\u001b[0m \u001b[0mtargetTags\u001b[0m\u001b[1;33m,\u001b[0m \u001b[0mseperator\u001b[0m \u001b[1;33m=\u001b[0m \u001b[0mtagSeperator\u001b[0m\u001b[1;33m,\u001b[0m \u001b[0m_getTag\u001b[0m \u001b[1;33m=\u001b[0m \u001b[1;32mTrue\u001b[0m\u001b[1;33m)\u001b[0m\u001b[1;33m\u001b[0m\u001b[1;33m\u001b[0m\u001b[0m\n\u001b[0m\u001b[0;32m    193\u001b[0m                 \u001b[1;32mif\u001b[0m \u001b[0mlen\u001b[0m\u001b[1;33m(\u001b[0m\u001b[0minvestList\u001b[0m\u001b[1;33m)\u001b[0m \u001b[1;33m>\u001b[0m \u001b[1;36m1\u001b[0m\u001b[1;33m:\u001b[0m\u001b[1;33m\u001b[0m\u001b[1;33m\u001b[0m\u001b[0m\n\u001b[0;32m    194\u001b[0m                     \u001b[1;32mfor\u001b[0m \u001b[0mi\u001b[0m\u001b[1;33m,\u001b[0m \u001b[0minvest1\u001b[0m \u001b[1;32min\u001b[0m \u001b[0menumerate\u001b[0m\u001b[1;33m(\u001b[0m\u001b[0minvestList\u001b[0m\u001b[1;33m)\u001b[0m\u001b[1;33m:\u001b[0m\u001b[1;33m\u001b[0m\u001b[1;33m\u001b[0m\u001b[0m\n",
      "\u001b[1;32mD:\\miniconda\\lib\\site-packages\\metaknowledge-3.4.1-py3.8.egg\\metaknowledge\\grants\\nsercGrant.py\u001b[0m in \u001b[0;36mgetInvestigators\u001b[1;34m(self, tags, seperator, _getTag)\u001b[0m\n\u001b[0;32m     42\u001b[0m             \u001b[1;32mif\u001b[0m \u001b[1;34m'name-'\u001b[0m \u001b[1;32min\u001b[0m \u001b[0mk\u001b[0m\u001b[1;33m.\u001b[0m\u001b[0mlower\u001b[0m\u001b[1;33m(\u001b[0m\u001b[1;33m)\u001b[0m \u001b[1;32mand\u001b[0m \u001b[0mk\u001b[0m \u001b[1;32mnot\u001b[0m \u001b[1;32min\u001b[0m \u001b[0mtags\u001b[0m\u001b[1;33m:\u001b[0m\u001b[1;33m\u001b[0m\u001b[1;33m\u001b[0m\u001b[0m\n\u001b[0;32m     43\u001b[0m                 \u001b[0mtags\u001b[0m\u001b[1;33m.\u001b[0m\u001b[0mappend\u001b[0m\u001b[1;33m(\u001b[0m\u001b[0mk\u001b[0m\u001b[1;33m)\u001b[0m\u001b[1;33m\u001b[0m\u001b[1;33m\u001b[0m\u001b[0m\n\u001b[1;32m---> 44\u001b[1;33m         \u001b[1;32mreturn\u001b[0m \u001b[0msuper\u001b[0m\u001b[1;33m(\u001b[0m\u001b[1;33m)\u001b[0m\u001b[1;33m.\u001b[0m\u001b[0mgetInvestigators\u001b[0m\u001b[1;33m(\u001b[0m\u001b[0mtags\u001b[0m \u001b[1;33m=\u001b[0m \u001b[0mtags\u001b[0m\u001b[1;33m,\u001b[0m \u001b[0mseperator\u001b[0m \u001b[1;33m=\u001b[0m \u001b[0mseperator\u001b[0m\u001b[1;33m,\u001b[0m \u001b[0m_getTag\u001b[0m \u001b[1;33m=\u001b[0m \u001b[0m_getTag\u001b[0m\u001b[1;33m)\u001b[0m\u001b[1;33m\u001b[0m\u001b[1;33m\u001b[0m\u001b[0m\n\u001b[0m\u001b[0;32m     45\u001b[0m \u001b[1;33m\u001b[0m\u001b[0m\n\u001b[0;32m     46\u001b[0m     \u001b[1;32mdef\u001b[0m \u001b[0mgetInstitutions\u001b[0m\u001b[1;33m(\u001b[0m\u001b[0mself\u001b[0m\u001b[1;33m,\u001b[0m \u001b[0mtags\u001b[0m \u001b[1;33m=\u001b[0m \u001b[1;32mNone\u001b[0m\u001b[1;33m,\u001b[0m \u001b[0mseperator\u001b[0m \u001b[1;33m=\u001b[0m \u001b[1;34m\";\"\u001b[0m\u001b[1;33m,\u001b[0m \u001b[0m_getTag\u001b[0m \u001b[1;33m=\u001b[0m \u001b[1;32mFalse\u001b[0m\u001b[1;33m)\u001b[0m\u001b[1;33m:\u001b[0m\u001b[1;33m\u001b[0m\u001b[1;33m\u001b[0m\u001b[0m\n",
      "\u001b[1;32mD:\\miniconda\\lib\\site-packages\\metaknowledge-3.4.1-py3.8.egg\\metaknowledge\\grants\\baseGrant.py\u001b[0m in \u001b[0;36mgetInvestigators\u001b[1;34m(self, tags, seperator, _getTag)\u001b[0m\n\u001b[0;32m     61\u001b[0m                     \u001b[0mtval\u001b[0m \u001b[1;33m=\u001b[0m \u001b[0mself\u001b[0m\u001b[1;33m[\u001b[0m\u001b[0mtag\u001b[0m\u001b[1;33m]\u001b[0m\u001b[1;33m.\u001b[0m\u001b[0msplit\u001b[0m\u001b[1;33m(\u001b[0m\u001b[0mseperator\u001b[0m\u001b[1;33m)\u001b[0m\u001b[1;33m\u001b[0m\u001b[1;33m\u001b[0m\u001b[0m\n\u001b[0;32m     62\u001b[0m                     \u001b[1;32mif\u001b[0m \u001b[0m_getTag\u001b[0m\u001b[1;33m:\u001b[0m\u001b[1;33m\u001b[0m\u001b[1;33m\u001b[0m\u001b[0m\n\u001b[1;32m---> 63\u001b[1;33m                         \u001b[0minvestVal\u001b[0m \u001b[1;33m+=\u001b[0m \u001b[1;33m[\u001b[0m\u001b[1;33m(\u001b[0m\u001b[0mt\u001b[0m\u001b[1;33m.\u001b[0m\u001b[0mstrip\u001b[0m\u001b[1;33m(\u001b[0m\u001b[1;33m)\u001b[0m\u001b[1;33m,\u001b[0m \u001b[0mtag\u001b[0m\u001b[1;33m)\u001b[0m \u001b[1;32mfor\u001b[0m \u001b[0mt\u001b[0m \u001b[1;32min\u001b[0m \u001b[0mtval\u001b[0m\u001b[1;33m]\u001b[0m\u001b[1;33m\u001b[0m\u001b[1;33m\u001b[0m\u001b[0m\n\u001b[0m\u001b[0;32m     64\u001b[0m                     \u001b[1;32melse\u001b[0m\u001b[1;33m:\u001b[0m\u001b[1;33m\u001b[0m\u001b[1;33m\u001b[0m\u001b[0m\n\u001b[0;32m     65\u001b[0m                         \u001b[0minvestVal\u001b[0m \u001b[1;33m+=\u001b[0m \u001b[1;33m[\u001b[0m\u001b[0mt\u001b[0m\u001b[1;33m.\u001b[0m\u001b[0mstrip\u001b[0m\u001b[1;33m(\u001b[0m\u001b[1;33m)\u001b[0m \u001b[1;32mfor\u001b[0m \u001b[0mt\u001b[0m \u001b[1;32min\u001b[0m \u001b[0mtval\u001b[0m\u001b[1;33m]\u001b[0m\u001b[1;33m\u001b[0m\u001b[1;33m\u001b[0m\u001b[0m\n",
      "\u001b[1;31mKeyboardInterrupt\u001b[0m: "
     ]
    }
   ],
   "source": [
    "ci_nets = nserc_grants.networkCoInvestigator(targetTags=list(nserc_grants.tags()))\n",
    "print(mk.graphStats(ci_nets))"
   ]
  },
  {
   "cell_type": "markdown",
   "metadata": {},
   "source": [
    "## 2. 测试tagSeperator参数"
   ]
  },
  {
   "cell_type": "code",
   "execution_count": 6,
   "metadata": {},
   "outputs": [
    {
     "name": "stdout",
     "output_type": "stream",
     "text": [
      "Nodes: 33655\n",
      "Edges: 130586\n",
      "Isolates: 26284\n",
      "Self loops: 4\n",
      "Density: 0.00023059\n",
      "Transitivity: 0.902158\n"
     ]
    }
   ],
   "source": [
    "ci_nets = nserc_grants.networkCoInvestigator(tagSeperator=';')\n",
    "print(mk.graphStats(ci_nets))"
   ]
  },
  {
   "cell_type": "code",
   "execution_count": 7,
   "metadata": {},
   "outputs": [
    {
     "name": "stdout",
     "output_type": "stream",
     "text": [
      "Nodes: 37990\n",
      "Edges: 347747\n",
      "Isolates: 0\n",
      "Self loops: 40\n",
      "Density: 0.00048191\n",
      "Transitivity: 0.752527\n"
     ]
    }
   ],
   "source": [
    "ci_nets = nserc_grants.networkCoInvestigator(tagSeperator=',')\n",
    "print(mk.graphStats(ci_nets))"
   ]
  },
  {
   "cell_type": "markdown",
   "metadata": {},
   "source": [
    "需要按照数据中的分割符来进行指定，如果是逗号，很多研究者名字中都存在逗号，所以导致分割的数据集中节点数量增大，连线数量扩大3倍"
   ]
  },
  {
   "cell_type": "markdown",
   "metadata": {},
   "source": [
    "## 3. 测试count参数"
   ]
  },
  {
   "cell_type": "code",
   "execution_count": 8,
   "metadata": {},
   "outputs": [
    {
     "name": "stdout",
     "output_type": "stream",
     "text": [
      "Nodes: 33655\n",
      "Edges: 130586\n",
      "Isolates: 26284\n",
      "Self loops: 4\n",
      "Density: 0.00023059\n",
      "Transitivity: 0.902158\n"
     ]
    }
   ],
   "source": [
    "ci_nets = nserc_grants.networkCoInvestigator(count=True)\n",
    "print(mk.graphStats(ci_nets))"
   ]
  },
  {
   "cell_type": "code",
   "execution_count": 9,
   "metadata": {},
   "outputs": [
    {
     "data": {
      "text/plain": [
       "('Song, JimmyYuanxi', {'count': 1, 'field': 'Name-Nom'})"
      ]
     },
     "execution_count": 9,
     "metadata": {},
     "output_type": "execute_result"
    }
   ],
   "source": [
    "list(ci_nets.nodes.data())[0]"
   ]
  },
  {
   "cell_type": "code",
   "execution_count": 10,
   "metadata": {},
   "outputs": [
    {
     "name": "stdout",
     "output_type": "stream",
     "text": [
      "Nodes: 33655\n",
      "Edges: 130586\n",
      "Isolates: 26284\n",
      "Self loops: 4\n",
      "Density: 0.00023059\n",
      "Transitivity: 0.902158\n"
     ]
    }
   ],
   "source": [
    "ci_nets = nserc_grants.networkCoInvestigator(count=False)\n",
    "print(mk.graphStats(ci_nets))"
   ]
  },
  {
   "cell_type": "code",
   "execution_count": 11,
   "metadata": {},
   "outputs": [
    {
     "data": {
      "text/plain": [
       "('Song, JimmyYuanxi', {'field': 'Name-Nom'})"
      ]
     },
     "execution_count": 11,
     "metadata": {},
     "output_type": "execute_result"
    }
   ],
   "source": [
    "list(ci_nets.nodes.data())[0]"
   ]
  },
  {
   "cell_type": "markdown",
   "metadata": {},
   "source": [
    "## 4. 测试weighted参数"
   ]
  },
  {
   "cell_type": "code",
   "execution_count": 16,
   "metadata": {},
   "outputs": [
    {
     "name": "stdout",
     "output_type": "stream",
     "text": [
      "Nodes: 33655\n",
      "Edges: 130586\n",
      "Isolates: 26284\n",
      "Self loops: 4\n",
      "Density: 0.00023059\n",
      "Transitivity: 0.902158\n"
     ]
    }
   ],
   "source": [
    "ci_nets = nserc_grants.networkCoInvestigator(weighted=True)\n",
    "print(mk.graphStats(ci_nets))"
   ]
  },
  {
   "cell_type": "code",
   "execution_count": 17,
   "metadata": {},
   "outputs": [
    {
     "data": {
      "text/plain": [
       "('Mulligan, Catherine', 'Paraschivoiu, Marius', {'weight': 1})"
      ]
     },
     "execution_count": 17,
     "metadata": {},
     "output_type": "execute_result"
    }
   ],
   "source": [
    "list(ci_nets.edges.data())[0]"
   ]
  },
  {
   "cell_type": "code",
   "execution_count": 20,
   "metadata": {},
   "outputs": [
    {
     "name": "stdout",
     "output_type": "stream",
     "text": [
      "Nodes: 33655\n",
      "Edges: 130586\n",
      "Isolates: 26284\n",
      "Self loops: 4\n",
      "Density: 0.00023059\n",
      "Transitivity: 0.902158\n"
     ]
    }
   ],
   "source": [
    "ci_nets = nserc_grants.networkCoInvestigator(weighted=False)\n",
    "print(mk.graphStats(ci_nets))"
   ]
  },
  {
   "cell_type": "code",
   "execution_count": 21,
   "metadata": {},
   "outputs": [
    {
     "data": {
      "text/plain": [
       "('Mulligan, Catherine', 'Paraschivoiu, Marius', {})"
      ]
     },
     "execution_count": 21,
     "metadata": {},
     "output_type": "execute_result"
    }
   ],
   "source": [
    "list(ci_nets.edges.data())[0]"
   ]
  },
  {
   "cell_type": "markdown",
   "metadata": {},
   "source": [
    "## 5. 测试_institutionLevel参数"
   ]
  },
  {
   "cell_type": "code",
   "execution_count": 27,
   "metadata": {},
   "outputs": [
    {
     "name": "stdout",
     "output_type": "stream",
     "text": [
      "Nodes: 33655\n",
      "Edges: 130586\n",
      "Isolates: 26284\n",
      "Self loops: 4\n",
      "Density: 0.00023059\n",
      "Transitivity: 0.902158\n"
     ]
    }
   ],
   "source": [
    "ci_nets = nserc_grants.networkCoInvestigator(_institutionLevel=False)\n",
    "print(mk.graphStats(ci_nets))"
   ]
  },
  {
   "cell_type": "code",
   "execution_count": 28,
   "metadata": {},
   "outputs": [
    {
     "data": {
      "text/plain": [
       "('Song, JimmyYuanxi', {'count': 1, 'field': 'Name-Nom'})"
      ]
     },
     "execution_count": 28,
     "metadata": {},
     "output_type": "execute_result"
    }
   ],
   "source": [
    "list(ci_nets.nodes.data())[0]"
   ]
  },
  {
   "cell_type": "code",
   "execution_count": 30,
   "metadata": {},
   "outputs": [
    {
     "name": "stdout",
     "output_type": "stream",
     "text": [
      "Nodes: 5489\n",
      "Edges: 32552\n",
      "Isolates: 823\n",
      "Self loops: 165\n",
      "Density: 0.00216123\n",
      "Transitivity: 0.17326\n"
     ]
    }
   ],
   "source": [
    "ci_nets = nserc_grants.networkCoInvestigator(_institutionLevel=True)\n",
    "print(mk.graphStats(ci_nets))"
   ]
  },
  {
   "cell_type": "code",
   "execution_count": 31,
   "metadata": {},
   "outputs": [
    {
     "data": {
      "text/plain": [
       "('University of Ontario Institute of Technology',\n",
       " {'count': 1521, 'field': 'Institution-Ã\\x89tablissement'})"
      ]
     },
     "execution_count": 31,
     "metadata": {},
     "output_type": "execute_result"
    }
   ],
   "source": [
    "list(ci_nets.nodes.data())[0]"
   ]
  },
  {
   "cell_type": "code",
   "execution_count": 37,
   "metadata": {},
   "outputs": [
    {
     "data": {
      "text/plain": [
       "['University of Ontario Institute of Technology',\n",
       " 'University of Ottawa',\n",
       " 'Concordia University',\n",
       " 'UniversitÃ\\x88 Laval',\n",
       " 'Simon Fraser University',\n",
       " 'University of Manitoba',\n",
       " 'York University',\n",
       " 'Canadian Space Agency',\n",
       " 'COM DEV International Ltd.',\n",
       " 'ABB Bomem Inc.',\n",
       " 'University of British Columbia',\n",
       " 'University of New Brunswick',\n",
       " 'UniversitÃ\\x88 de MontrÃ\\x88al',\n",
       " 'University of Waterloo',\n",
       " 'University of Guelph',\n",
       " 'University of Alberta',\n",
       " 'University of Western Ontario',\n",
       " 'University of Regina',\n",
       " 'McGill University',\n",
       " 'University of Northern British Columbia']"
      ]
     },
     "execution_count": 37,
     "metadata": {},
     "output_type": "execute_result"
    }
   ],
   "source": [
    "list(dict(ci_nets.nodes.data()).keys())[:20]\n",
    "\n",
    "#相当于节点信息由研究人员变成了研究机构"
   ]
  },
  {
   "cell_type": "code",
   "execution_count": null,
   "metadata": {},
   "outputs": [],
   "source": []
  }
 ],
 "metadata": {
  "kernelspec": {
   "display_name": "Python 3",
   "language": "python",
   "name": "python3"
  },
  "language_info": {
   "codemirror_mode": {
    "name": "ipython",
    "version": 3
   },
   "file_extension": ".py",
   "mimetype": "text/x-python",
   "name": "python",
   "nbconvert_exporter": "python",
   "pygments_lexer": "ipython3",
   "version": "3.8.3"
  }
 },
 "nbformat": 4,
 "nbformat_minor": 4
}
