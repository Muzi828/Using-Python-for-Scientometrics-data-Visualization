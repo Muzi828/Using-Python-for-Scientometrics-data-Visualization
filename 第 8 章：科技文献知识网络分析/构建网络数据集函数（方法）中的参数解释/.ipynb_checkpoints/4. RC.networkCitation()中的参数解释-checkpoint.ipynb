{
 "cells": [
  {
   "cell_type": "code",
   "execution_count": 1,
   "metadata": {},
   "outputs": [],
   "source": [
    "import metaknowledge as mk\n",
    "\n",
    "import warnings\n",
    "warnings.filterwarnings(\"ignore\")"
   ]
  },
  {
   "cell_type": "code",
   "execution_count": 2,
   "metadata": {},
   "outputs": [],
   "source": [
    "RC = mk.RecordCollection(r'D:\\python科学计量可视化\\数据\\Demo data\\Python-Wos', cached = True)"
   ]
  },
  {
   "cell_type": "code",
   "execution_count": 3,
   "metadata": {},
   "outputs": [
    {
     "data": {
      "text/plain": [
       "<metaknowledge.RecordCollection object files-from-D:\\python科学计量可视化\\数据\\Demo data\\Python-Wos(2020-2021)>"
      ]
     },
     "execution_count": 3,
     "metadata": {},
     "output_type": "execute_result"
    }
   ],
   "source": [
    "RC2021 = RC.yearSplit(2020,2021)\n",
    "RC2021"
   ]
  },
  {
   "cell_type": "markdown",
   "metadata": {},
   "source": [
    "RC.networkCitation()中的参数解释：\n",
    "    \n",
    "    * dropAnon：[bool]数据类型。默认为'False'，如果'True'作者标记为匿名（anonymous）的引用将从网络中删除\n",
    "    * nodeType：[str]数据类型。可指定为'full', 'original', 'author', 'journal' or 'year'中的任意一种，表示为节点中显示的值。\n",
    "    默认为'full'，会使用内置的比较运算符对引用进行整体比较；'original'使用引用的原始字符串；'author', 'journal' or 'year'\n",
    "    就是使用作者、期刊和年份。\n",
    "    * nodeInfo：[bool]数据类型。默认为'True'，是否有额外的信息存储在每个节点上。\n",
    "    * fullInfo：[bool]数据类型。默认为'False'，无论原始引用字符串是否作为额外值添加到节点，该属性都被标记为fullCite\n",
    "    * weighted：[bool]数据类型。默认为'True'，是否对连线进行加权。如果为'True'，则根据引用次数对连线进行加权。\n",
    "    * dropNonJournals：[bool]数据类型。默认为'False'，是否删除非期刊的引用\n",
    "    * count：[bool]数据类型。默认为'True'，计算节点的出现次数\n",
    "    * directed：[bool]数据类型。决定输出图形是否有向，默认'True'\n",
    "    * keyWords：[str]或者[list(str)]数据类型。用来检查引用的字符串或字符串列表，如果引用中包含其中的任一字符串，该引用将从网络中删除\n",
    "    * coreOnly：[bool]数据类型。默认为'False'，如果为'True'，则只有来自RecordCollection的引用将包含在网络中\n",
    "    * addCR:[bool]数据类型。默认为'False',如果为'True'，则把citation信息也添加到网络的节点属性中\n",
    "    * detailedCore：[bool]或者可迭代的[WOS标签]数据类型。默认为'True'，此时所有的引文都是来自创建的RecordCollection并且nodeType\n",
    "    是'fill'时，来自RecordCollection的所有节点都将得到由来自Record对象本身的信息组成的信息字符串。这相当于传递列表:['AF'， 'PY'， \n",
    "    'TI'， 'SO'， 'VL'， 'BP']。\n",
    "    注：该参数与RC.networkCoAuthor()方法中的detailedInfo参数使用后返回的结果有所不同，但是实现的功能是类似\n",
    "    * detailedCoreAttributes：[bool]数据类型。默认为'False',如果设置为'True'，则节点信息中以更多详细的属性展示\n",
    "    * expandedCore：[bool]数据类型。默认为'False',如果设置为'True'，则输出图中网络数据集中会出现节点的重复使用。\n",
    "    * _quiet：[bool]数据类型。默认为'False'，与和mk.VERBOSE_MODE配合判断条件，改变的是progKwargs字典中的dummy属性，不会改变网络数据集的大小以及节点和连线的属性"
   ]
  },
  {
   "cell_type": "markdown",
   "metadata": {},
   "source": [
    "## 1. 测试dropAnon参数"
   ]
  },
  {
   "cell_type": "code",
   "execution_count": 4,
   "metadata": {},
   "outputs": [
    {
     "name": "stdout",
     "output_type": "stream",
     "text": [
      "Nodes: 29233\n",
      "Edges: 37255\n",
      "Isolates: 0\n",
      "Self loops: 22\n",
      "Density: 4.35966E-05\n",
      "Transitivity: 0.000253465\n"
     ]
    }
   ],
   "source": [
    "document_cite = RC2021.networkCitation()\n",
    "print(mk.graphStats(document_cite))"
   ]
  },
  {
   "cell_type": "code",
   "execution_count": 5,
   "metadata": {},
   "outputs": [
    {
     "name": "stdout",
     "output_type": "stream",
     "text": [
      "[Anonymous], 2005, SCIENCE\n",
      "[Anonymous], 2014, CROSS BORD OBST INC\n",
      "[Anonymous], 2020, WASH POSTST ETH\n",
      "[Anonymous], 2019, ASS PRESS\n",
      "[Anonymous], 2015, NAT NANOTECHNOL\n",
      "[Anonymous], 2014, BBC\n",
      "[Anonymous], 2018, RES CONDITION DIS CA\n",
      "[Anonymous], 2012, INT C COMP SCI NETW\n",
      "[Anonymous], 2019, LANCET\n",
      "[Anonymous], 2018, NATURE\n",
      "[Anonymous], 2012, NATURE\n",
      "[Anonymous], 2017, NATURE\n",
      "[Anonymous], 2003, 12003 EMEPMSCW NOR 2\n",
      "[Anonymous], 2017, EM MARK TOP 5 DOS DO\n",
      "[Anonymous], 2018, OECD SCI TECHN INN O\n",
      "[Anonymous], 2016, CANC MOONSHOT PATENT\n",
      "[Anonymous], 2014, TECHNOLOGIST INNOVAT\n",
      "[Anonymous], GRAPH MARK VAL US 20\n",
      "[Anonymous], CHINADAILY\n",
      "[Anonymous], 2015, NATURE\n",
      "[Anonymous], 2019, UNIVERSAL CLASS\n",
      "[Anonymous], 2011, WORLD REP DIS\n",
      "[Anonymous], 2020, FIELDS RES\n",
      "[Anonymous], 2009, LANCET\n",
      "[Anonymous], 2018, AUSTR CODE RESPONSIB\n",
      "[Anonymous], 2016, OV PUBL\n",
      "[Anonymous], 2016, GUID COND RES INTR R\n",
      "[Anonymous], GLOSSARY\n",
      "[Anonymous], TEXT REC\n",
      "[Anonymous], 2016, OCDX SPEC\n",
      "[Anonymous], 2017, DEV POLICY\n",
      "[Anonymous], 2018, WEB SCI\n",
      "[Anonymous], 2019, NATURE\n",
      "[Anonymous], 2008, ADV DIS SURVEILLANCE\n",
      "[Anonymous], 2019, J PUBLISHED ARAB RES\n",
      "[Anonymous], 2017, GULF NEWS\n",
      "[Anonymous], 2010, ZHONGGUO TUSHUGUAN F\n",
      "[Anonymous], 2015, DET LANG SPOK HOM AB\n",
      "[Anonymous], 2019, J CITATION REPORTS\n",
      "[Anonymous], 2018, UN COMTRADE DATABASE\n",
      "[Anonymous], 2018, AM PSYCHOL\n",
      "[Anonymous], 2013, MAXQDA\n",
      "[Anonymous], 2018, 304142018 ISO\n",
      "[Anonymous], 2003, 11097 UNI ENT NAZ IT\n",
      "[Anonymous], 2015, SCOP C EXP PROGR\n",
      "[Anonymous], 2008, OECD REV INN POL\n",
      "[Anonymous], 2019, SJR SCIMAGO J COUNTR\n",
      "[Anonymous], 2018, SPRINGER HDB SCI TEC\n",
      "[Anonymous], 2019, EUR FRANC 2006 2016\n",
      "[Anonymous], 2017, UDEM LIB CANC BIG DE\n",
      "[Anonymous], 2012, CBC NEWS\n",
      "[Anonymous], 2006, PLOS MED\n",
      "[Anonymous], 2019, COMPUTERWORLD\n",
      "[Anonymous], 2012, DIABETES CARE\n",
      "[Anonymous], 2018, U21 RANK NAT HIGH ED\n",
      "[Anonymous], 2002, PERFILES EDUCATIVOS\n",
      "[Anonymous], 2013, ATL CIENC MEX\n",
      "[Anonymous], 2017, DIARIO OFICIAL FEDER\n",
      "[Anonymous], 1984, DIARIO OFICIAL FEDER\n",
      "[Anonymous], 2017, BALDR EXC FRAM ED\n",
      "[Anonymous], 2014, SEMANTIC WEB EVALUAT\n",
      "[Anonymous], 2014, P 4 WORKSH SEM PUBL\n",
      "[Anonymous], 2020, COLLABRA PSYCHOL\n",
      "[Anonymous], 1997, EV SCI RES SEL EXP\n",
      "[Anonymous], 2017, ROUTL ADV EVENT RES\n",
      "[Anonymous], 2009, NATURE\n",
      "[Anonymous], 2019, TIMES HIGHER ED SUPP\n",
      "[Anonymous], 2017, CAR TRACK SURV DOCT\n",
      "[Anonymous], 2019, ED GLANCE 2019 OECD\n",
      "[Anonymous], 2015, ED GLANCE 2015 OECD\n",
      "[Anonymous], 2019, ARTICLE INFLUENCE SC\n",
      "[Anonymous], 2020, HIST OED\n",
      "[Anonymous], 2020, READING PROGRAMME\n",
      "[Anonymous], 2019, SCI LINGUISTICS\n",
      "[Anonymous], 2020, CORPUS ANAL LANGUAGE\n",
      "[Anonymous], 2020, OED RES\n",
      "[Anonymous], 2020, ARCHAEOLOGY ANTHR\n",
      "[Anonymous], 2020, OXFORD ENGLISH DICT\n",
      "[Anonymous], 2020, REWRITING OED\n",
      "[Anonymous], 1997, J MED GENET\n",
      "[Anonymous], 2011, STAND SVENSK IND FOR\n",
      "[Anonymous], 2020, SCOPUS\n",
      "[Anonymous], 2020, NATURE\n",
      "[Anonymous], 2019, PEERJ REV HIST REBUT\n",
      "[Anonymous], 2019, PEER J\n",
      "[Anonymous], 2017, BOOST SOL PV MARK RO\n",
      "[Anonymous], 2008, CHEST\n",
      "[Anonymous], 2018, ARCH COP INT ARCH WA\n",
      "[Anonymous], 2018, PUBLICATIONS\n",
      "[Anonymous], 2017, HLTH FATS FISH OILS\n",
      "[Anonymous], 2016, WHAT IS PEER REV\n",
      "[Anonymous], 2019, IRISH EXAMINER\n",
      "[Anonymous], 2013, J STRATEGIC SECURITY\n",
      "[Anonymous], 2017, 21 UN MICT\n",
      "[Anonymous], 2018, SCI ENG IND 2018\n",
      "[Anonymous], 2019, COUNTR RANK\n",
      "[Anonymous], 2016, MICR EXC VERS 16 0\n",
      "[Anonymous], 2008, GROBID\n",
      "[Anonymous], 1983, ELEM SCHOOL J\n",
      "[Anonymous], 2018, BBC NEWS\n",
      "[Anonymous], 2020, QGIS GEOGR INF SYST\n",
      "[Anonymous], 2020, CLARIVATE ANAL\n",
      "[Anonymous], 2020, HLTH CAR POL\n",
      "[Anonymous], 1965, SCIENCE\n",
      "[Anonymous], 2015, CHARM WORKSH\n",
      "[Anonymous], 2016, BEAUT WORKSH\n",
      "[Anonymous], 2014, BEAUT WORKSH\n",
      "[Anonymous], 2016, CHARM WORKSH\n",
      "[Anonymous], 2013, CHARM WORKSH\n",
      "[Anonymous], 2014, CHARM WORKSH\n",
      "[Anonymous], 2019, TIMES HIGHER ED\n",
      "[Anonymous], 2016, GULF NEWS\n",
      "[Anonymous], 2005, NATURE\n",
      "[Anonymous], 2016, IEEE ASME T MECHATRO\n",
      "[Anonymous], CROSSREF ANN REPORT\n",
      "[Anonymous], 2020, TRUD ANN 1 1B COVID\n",
      "[Anonymous], 2020, NATL POST\n",
      "[Anonymous], 2017, EC BEN GEND EQ EUR U\n",
      "[Anonymous], 2018, WORLD INT PROP IND 2\n",
      "[Anonymous], 2013, SCIENCE\n",
      "[Anonymous], 2018, MATLAB\n",
      "[Anonymous], 2013, PREPRINT ARXIV 1308\n",
      "[Anonymous], 1978, JGN\n",
      "[Anonymous], 2019, HIST WHOI SHIPS\n",
      "[Anonymous], 2019, LAMONTS RES VESSELS\n",
      "[Anonymous], 2019, OFFICE NAVAL RES\n",
      "[Anonymous], FREQ ASK QUEST\n",
      "[Anonymous], 2020, COVID 19 SARS COV 2\n",
      "[Anonymous], 2020, WORLD EXPERTS FUNDER\n",
      "[Anonymous], 2020, COVID 19 NOV COR CON\n",
      "[Anonymous], 2020, COVID 19 OPEN RES DA\n",
      "[Anonymous], 2020, SHARING RES DATA FIN\n",
      "[Anonymous], 2010, MEASURING INNOVATION\n",
      "[Anonymous], 1939, KENYON REV\n",
      "[Anonymous], 2016, EUROPEAN INNOVATION\n",
      "[Anonymous], 2015, SCI TECHNOLOGY IND S\n",
      "[Anonymous], 2014, SCI TECHNOLOGY IND O\n",
      "[Anonymous], 2011, NAT MATER\n",
      "[Anonymous], 2019, NAN\n",
      "[Anonymous], 1969, N ENGL J MED\n",
      "[Anonymous], 2010, PLOS ONE\n",
      "[Anonymous], 2015, IMP ADV PHYS MATH SC\n",
      "[Anonymous], 2016, FRONTIERS BLOG\n",
      "[Anonymous], 2009, THE ECONOMIST THE ECONOMIST\n",
      "[Anonymous], 2016, CURR SCI INDIA\n",
      "[Anonymous], 1995, NATURE\n",
      "[Anonymous], 2011, P AM SOC INFORM SCI\n",
      "[Anonymous], 2018, PAT DAT ALTM HIGHL C\n",
      "[Anonymous], 2018, HORIZON REPORT\n",
      "[Anonymous], 2018, CHIN ENGL LANG S T J\n",
      "[Anonymous], 2018, CHIN S T J CIT REP\n",
      "[Anonymous], 2017, TIC DOM 2016 PESQ US\n",
      "[Anonymous], 2017, BUSINESS INSIDER\n",
      "[Anonymous], 2019, OXFORD DICT\n",
      "[Anonymous], 2016, GUARDIAN\n",
      "[Anonymous], 2014, GUARDIAN\n",
      "[Anonymous], 1922, POLIT SCI QUART\n",
      "[Anonymous], 2019, BBC NEWS\n",
      "[Anonymous], 2020, R LANG ENV STAT COMP\n",
      "[Anonymous], 2017, INT COMP PERF UKRESE\n",
      "[Anonymous], 2018, EUROPEAN INNOVATION\n",
      "[Anonymous], 1969, EUTR CAUS CONS CORR\n",
      "[Anonymous], 2011, PRINC DES OP WAST TR\n",
      "[Anonymous], 2018, HYDR SUST GUID\n",
      "[Anonymous], 2019, DAMS CAN\n",
      "[Anonymous], 2010, REPORT JOINT EXPERT\n",
      "[Anonymous], 2000, DAMS DEV NEW FRAM DE\n",
      "[Anonymous], 2018, LECC GIT\n",
      "[Anonymous], 2012, HUM RIGHTS ROM TRAV\n",
      "[Anonymous], 2013, JATS J ARTICLE TAG S\n",
      "[Anonymous], 1904, INT CAT SCI LIT 2 AN\n",
      "[Anonymous], 2018, INT SOC OPTICS PHOTO\n",
      "[Anonymous], 2019, US NEWS\n",
      "[Anonymous], 2020, WEB SCI CORE COLLECT\n",
      "[Anonymous], 2017, GENDER GLOBAL RES LA\n",
      "[Anonymous], 2015, ECONOMIST\n",
      "[Anonymous], 2015, GUIDELINES COLLECTIN\n",
      "[Anonymous], 2020, GLOBAL RES CORONAVIR\n",
      "[Anonymous], 2020, OVERVIEW HLTH INFORM\n",
      "[Anonymous], 2018, INCITES J CITATION R\n",
      "[Anonymous], 2020, ULRICHSWEB GLOBAL SE\n",
      "[Anonymous], 2016, NATURE COMMUNICATION\n",
      "[Anonymous], 2007, LETTERATURA E SPAZIO\n",
      "[Anonymous], 2015, NATURE COMMUNICATION\n",
      "[Anonymous], 1993, RES REP N KOR SCI TE\n",
      "[Anonymous], 1991, RES REP N KOR SCI TE\n",
      "[Anonymous], 1992, RES REP N KOR SCI TE\n",
      "[Anonymous], 2015, SOCIAL SCI CITATION\n",
      "[Anonymous], 2017, ARXIV SUBM RAT STAT\n",
      "[Anonymous], 2004, OXFORD ENGLISH DICT\n",
      "[Anonymous], 2019, MOV CANC GEN THER\n",
      "[Anonymous], 2018, NAT CELL BIOL\n",
      "[Anonymous], 2013, NATURE\n",
      "[Anonymous], 2018, GLOBAL GENDER GAP RE\n",
      "[Anonymous], 2018, ANAL SUPPORT BIBLIOM\n",
      "[Anonymous], 2015, FRASC MAN 2015 GUID\n"
     ]
    }
   ],
   "source": [
    "for key in dict(document_cite.nodes.data()).keys():\n",
    "    if 'Anonymous' in key:\n",
    "        print(key)"
   ]
  },
  {
   "cell_type": "code",
   "execution_count": 6,
   "metadata": {},
   "outputs": [
    {
     "name": "stdout",
     "output_type": "stream",
     "text": [
      "Nodes: 29037\n",
      "Edges: 37051\n",
      "Isolates: 0\n",
      "Self loops: 22\n",
      "Density: 4.39452E-05\n",
      "Transitivity: 0.000255698\n"
     ]
    }
   ],
   "source": [
    "document_cite = RC2021.networkCitation(dropAnon=True)\n",
    "print(mk.graphStats(document_cite))"
   ]
  },
  {
   "cell_type": "code",
   "execution_count": 7,
   "metadata": {},
   "outputs": [],
   "source": [
    "for key in dict(document_cite.nodes.data()).keys():\n",
    "    if 'Anonymous' in key:\n",
    "        print(key)\n",
    "        \n",
    "#无输出结果，说明带有anonymous的引用都被删除，节点数量减少了196个，即原数据集中包含了196条不知道作者的文献"
   ]
  },
  {
   "cell_type": "code",
   "execution_count": 8,
   "metadata": {},
   "outputs": [
    {
     "data": {
      "text/plain": [
       "196"
      ]
     },
     "execution_count": 8,
     "metadata": {},
     "output_type": "execute_result"
    }
   ],
   "source": [
    "29233-29037"
   ]
  },
  {
   "cell_type": "markdown",
   "metadata": {},
   "source": [
    "## 2.测试nodeType参数"
   ]
  },
  {
   "cell_type": "markdown",
   "metadata": {},
   "source": [
    "该参数是针对节点的设置，查看不同可以通过输出网络图信息中的节点数据"
   ]
  },
  {
   "cell_type": "code",
   "execution_count": 9,
   "metadata": {},
   "outputs": [
    {
     "name": "stdout",
     "output_type": "stream",
     "text": [
      "Nodes: 29233\n",
      "Edges: 37255\n",
      "Isolates: 0\n",
      "Self loops: 22\n",
      "Density: 4.35966E-05\n",
      "Transitivity: 0.000253465\n"
     ]
    }
   ],
   "source": [
    "document_cite = RC2021.networkCitation()\n",
    "print(mk.graphStats(document_cite))"
   ]
  },
  {
   "cell_type": "code",
   "execution_count": 10,
   "metadata": {},
   "outputs": [
    {
     "data": {
      "text/plain": [
       "('Nicolaisen J, 2021, SCIENTOMETRICS',\n",
       " {'MK-ID': 'WOS:000584966700001',\n",
       "  'info': 'WOS:000584966700001, Nicolaisen Jeppe, Number of references: a large-scale study of interval ratios, SCIENTOMETRICS, 126, 259',\n",
       "  'inCore': True,\n",
       "  'count': 1})"
      ]
     },
     "execution_count": 10,
     "metadata": {},
     "output_type": "execute_result"
    }
   ],
   "source": [
    "list(document_cite.nodes.data())[0]"
   ]
  },
  {
   "cell_type": "code",
   "execution_count": 11,
   "metadata": {},
   "outputs": [
    {
     "name": "stdout",
     "output_type": "stream",
     "text": [
      "Nodes: 29811\n",
      "Edges: 37727\n",
      "Isolates: 0\n",
      "Self loops: 0\n",
      "Density: 4.24535E-05\n",
      "Transitivity: 0.000292069\n"
     ]
    }
   ],
   "source": [
    "document_cite = RC2021.networkCitation(nodeType='original')\n",
    "print(mk.graphStats(document_cite))"
   ]
  },
  {
   "cell_type": "code",
   "execution_count": 12,
   "metadata": {},
   "outputs": [
    {
     "data": {
      "text/plain": [
       "('Nicolaisen J, 2021, SCIENTOMETRICS, V126, P259, DOI 10.1007/s11192-020-03764-3',\n",
       " {'info': 'Nicolaisen J, 2021, SCIENTOMETRICS, V126, P259, DOI 10.1007/s11192-020-03764-3',\n",
       "  'count': 1})"
      ]
     },
     "execution_count": 12,
     "metadata": {},
     "output_type": "execute_result"
    }
   ],
   "source": [
    "list(document_cite.nodes.data())[0]\n",
    "#对比输出结果，默认的full参数是对引用的数据格式进行了提取，original输出的就是原字符串"
   ]
  },
  {
   "cell_type": "code",
   "execution_count": 13,
   "metadata": {},
   "outputs": [
    {
     "name": "stdout",
     "output_type": "stream",
     "text": [
      "Nodes: 20289\n",
      "Edges: 32425\n",
      "Isolates: 0\n",
      "Self loops: 360\n",
      "Density: 7.87735E-05\n",
      "Transitivity: 0.00204397\n"
     ]
    }
   ],
   "source": [
    "document_cite = RC2021.networkCitation(nodeType='author')\n",
    "print(mk.graphStats(document_cite))"
   ]
  },
  {
   "cell_type": "code",
   "execution_count": 14,
   "metadata": {},
   "outputs": [
    {
     "data": {
      "text/plain": [
       "('Nicolaisen J', {'info': 'Nicolaisen J', 'count': 10})"
      ]
     },
     "execution_count": 14,
     "metadata": {},
     "output_type": "execute_result"
    }
   ],
   "source": [
    "list(document_cite.nodes.data())[0]\n",
    "#此时节点中的键就是只有作者的名称"
   ]
  },
  {
   "cell_type": "code",
   "execution_count": 15,
   "metadata": {},
   "outputs": [
    {
     "name": "stdout",
     "output_type": "stream",
     "text": [
      "Nodes: 12222\n",
      "Edges: 14125\n",
      "Isolates: 0\n",
      "Self loops: 3\n",
      "Density: 9.4567E-05\n",
      "Transitivity: 5.06135E-05\n"
     ]
    }
   ],
   "source": [
    "document_cite = RC2021.networkCitation(nodeType='journal')\n",
    "print(mk.graphStats(document_cite))"
   ]
  },
  {
   "cell_type": "code",
   "execution_count": 16,
   "metadata": {},
   "outputs": [
    {
     "data": {
      "text/plain": [
       "('SCIENTOMETRICS', {'info': 'SCIENTOMETRICS', 'count': 3860})"
      ]
     },
     "execution_count": 16,
     "metadata": {},
     "output_type": "execute_result"
    }
   ],
   "source": [
    "list(document_cite.nodes.data())[0]\n",
    "#此时节点只显示期刊的信息"
   ]
  },
  {
   "cell_type": "code",
   "execution_count": 17,
   "metadata": {},
   "outputs": [
    {
     "name": "stdout",
     "output_type": "stream",
     "text": [
      "Nodes: 135\n",
      "Edges: 224\n",
      "Isolates: 0\n",
      "Self loops: 2\n",
      "Density: 0.0123825\n",
      "Transitivity: 0.00694112\n"
     ]
    }
   ],
   "source": [
    "document_cite = RC2021.networkCitation(nodeType='year')\n",
    "print(mk.graphStats(document_cite))"
   ]
  },
  {
   "cell_type": "code",
   "execution_count": 18,
   "metadata": {},
   "outputs": [
    {
     "data": {
      "text/plain": [
       "(2021, {'info': 2021, 'count': 37})"
      ]
     },
     "execution_count": 18,
     "metadata": {},
     "output_type": "execute_result"
    }
   ],
   "source": [
    "list(document_cite.nodes.data())[0]"
   ]
  },
  {
   "cell_type": "markdown",
   "metadata": {},
   "source": [
    "## 3.测试nodeInfo参数"
   ]
  },
  {
   "cell_type": "code",
   "execution_count": 19,
   "metadata": {},
   "outputs": [
    {
     "name": "stdout",
     "output_type": "stream",
     "text": [
      "Nodes: 29233\n",
      "Edges: 37255\n",
      "Isolates: 0\n",
      "Self loops: 22\n",
      "Density: 4.35966E-05\n",
      "Transitivity: 0.000253465\n"
     ]
    }
   ],
   "source": [
    "document_cite = RC2021.networkCitation(nodeInfo=True)\n",
    "print(mk.graphStats(document_cite))"
   ]
  },
  {
   "cell_type": "code",
   "execution_count": 20,
   "metadata": {},
   "outputs": [
    {
     "data": {
      "text/plain": [
       "('Nicolaisen J, 2021, SCIENTOMETRICS',\n",
       " {'MK-ID': 'WOS:000584966700001',\n",
       "  'info': 'WOS:000584966700001, Nicolaisen Jeppe, Number of references: a large-scale study of interval ratios, SCIENTOMETRICS, 126, 259',\n",
       "  'inCore': True,\n",
       "  'count': 1})"
      ]
     },
     "execution_count": 20,
     "metadata": {},
     "output_type": "execute_result"
    }
   ],
   "source": [
    "list(document_cite.nodes.data())[0]"
   ]
  },
  {
   "cell_type": "code",
   "execution_count": 21,
   "metadata": {},
   "outputs": [
    {
     "name": "stdout",
     "output_type": "stream",
     "text": [
      "Nodes: 29233\n",
      "Edges: 37255\n",
      "Isolates: 0\n",
      "Self loops: 22\n",
      "Density: 4.35966E-05\n",
      "Transitivity: 0.000253465\n"
     ]
    }
   ],
   "source": [
    "document_cite = RC2021.networkCitation(nodeInfo=False)\n",
    "print(mk.graphStats(document_cite))"
   ]
  },
  {
   "cell_type": "code",
   "execution_count": 22,
   "metadata": {},
   "outputs": [
    {
     "data": {
      "text/plain": [
       "('Nicolaisen J, 2021, SCIENTOMETRICS', {'count': 1})"
      ]
     },
     "execution_count": 22,
     "metadata": {},
     "output_type": "execute_result"
    }
   ],
   "source": [
    "list(document_cite.nodes.data())[0]\n",
    "#也就值中不会出现上面的一些额外信息，由于count计数是默认有的，所以这个结果中只有count属性"
   ]
  },
  {
   "cell_type": "markdown",
   "metadata": {},
   "source": [
    "## 4.测试fullInfo参数"
   ]
  },
  {
   "cell_type": "code",
   "execution_count": 23,
   "metadata": {},
   "outputs": [
    {
     "name": "stdout",
     "output_type": "stream",
     "text": [
      "Nodes: 29233\n",
      "Edges: 37255\n",
      "Isolates: 0\n",
      "Self loops: 22\n",
      "Density: 4.35966E-05\n",
      "Transitivity: 0.000253465\n"
     ]
    }
   ],
   "source": [
    "document_cite = RC2021.networkCitation(fullInfo=True)\n",
    "print(mk.graphStats(document_cite))"
   ]
  },
  {
   "cell_type": "code",
   "execution_count": 24,
   "metadata": {},
   "outputs": [
    {
     "data": {
      "text/plain": [
       "('Nicolaisen J, 2021, SCIENTOMETRICS',\n",
       " {'MK-ID': 'WOS:000584966700001',\n",
       "  'info': 'WOS:000584966700001, Nicolaisen Jeppe, Number of references: a large-scale study of interval ratios, SCIENTOMETRICS, 126, 259',\n",
       "  'inCore': True,\n",
       "  'fullCite': 'Nicolaisen J, 2021, SCIENTOMETRICS, V126, P259, DOI 10.1007/s11192-020-03764-3',\n",
       "  'count': 1})"
      ]
     },
     "execution_count": 24,
     "metadata": {},
     "output_type": "execute_result"
    }
   ],
   "source": [
    "list(document_cite.nodes.data())[0]\n",
    "#数据中多了'fullCite'属性，后面跟的是原引文字符串"
   ]
  },
  {
   "cell_type": "markdown",
   "metadata": {},
   "source": [
    "## 5.测试weighted参数"
   ]
  },
  {
   "cell_type": "markdown",
   "metadata": {},
   "source": [
    "该参数是针对连线，所以查看edges的数据对比区别"
   ]
  },
  {
   "cell_type": "code",
   "execution_count": 25,
   "metadata": {},
   "outputs": [
    {
     "name": "stdout",
     "output_type": "stream",
     "text": [
      "Nodes: 29233\n",
      "Edges: 37255\n",
      "Isolates: 0\n",
      "Self loops: 22\n",
      "Density: 4.35966E-05\n",
      "Transitivity: 0.000253465\n"
     ]
    }
   ],
   "source": [
    "document_cite = RC2021.networkCitation(weighted=True)\n",
    "print(mk.graphStats(document_cite))"
   ]
  },
  {
   "cell_type": "code",
   "execution_count": 26,
   "metadata": {},
   "outputs": [
    {
     "data": {
      "text/plain": [
       "('Nicolaisen J, 2021, SCIENTOMETRICS',\n",
       " 'Abt Ha, 2002, J AM SOC INF SCI TEC',\n",
       " {'weight': 1, 'yearDiff': 19})"
      ]
     },
     "execution_count": 26,
     "metadata": {},
     "output_type": "execute_result"
    }
   ],
   "source": [
    "list(document_cite.edges.data())[0]"
   ]
  },
  {
   "cell_type": "code",
   "execution_count": 27,
   "metadata": {},
   "outputs": [
    {
     "name": "stdout",
     "output_type": "stream",
     "text": [
      "Nodes: 29233\n",
      "Edges: 37255\n",
      "Isolates: 0\n",
      "Self loops: 22\n",
      "Density: 4.35966E-05\n",
      "Transitivity: 0.000253465\n"
     ]
    }
   ],
   "source": [
    "document_cite = RC2021.networkCitation(weighted=False)\n",
    "print(mk.graphStats(document_cite))"
   ]
  },
  {
   "cell_type": "code",
   "execution_count": 28,
   "metadata": {},
   "outputs": [
    {
     "data": {
      "text/plain": [
       "('Nicolaisen J, 2021, SCIENTOMETRICS',\n",
       " 'Abt Ha, 2002, J AM SOC INF SCI TEC',\n",
       " {})"
      ]
     },
     "execution_count": 28,
     "metadata": {},
     "output_type": "execute_result"
    }
   ],
   "source": [
    "list(document_cite.edges.data())[0]\n",
    "#取消后没有weight属性，yearDiff属性也没有了"
   ]
  },
  {
   "cell_type": "markdown",
   "metadata": {},
   "source": [
    "## 6.测试dropNonJournals参数"
   ]
  },
  {
   "cell_type": "code",
   "execution_count": 29,
   "metadata": {},
   "outputs": [
    {
     "name": "stdout",
     "output_type": "stream",
     "text": [
      "Nodes: 29233\n",
      "Edges: 37255\n",
      "Isolates: 0\n",
      "Self loops: 22\n",
      "Density: 4.35966E-05\n",
      "Transitivity: 0.000253465\n"
     ]
    }
   ],
   "source": [
    "document_cite = RC2021.networkCitation(dropNonJournals=False)\n",
    "print(mk.graphStats(document_cite))"
   ]
  },
  {
   "cell_type": "code",
   "execution_count": 30,
   "metadata": {},
   "outputs": [
    {
     "data": {
      "text/plain": [
       "('Nicolaisen J, 2021, SCIENTOMETRICS',\n",
       " {'MK-ID': 'WOS:000584966700001',\n",
       "  'info': 'WOS:000584966700001, Nicolaisen Jeppe, Number of references: a large-scale study of interval ratios, SCIENTOMETRICS, 126, 259',\n",
       "  'inCore': True,\n",
       "  'count': 1})"
      ]
     },
     "execution_count": 30,
     "metadata": {},
     "output_type": "execute_result"
    }
   ],
   "source": [
    "list(document_cite.nodes.data())[0]"
   ]
  },
  {
   "cell_type": "markdown",
   "metadata": {},
   "source": [
    "看一下键中最后一位元素是不是大写即可"
   ]
  },
  {
   "cell_type": "code",
   "execution_count": 31,
   "metadata": {},
   "outputs": [
    {
     "name": "stdout",
     "output_type": "stream",
     "text": [
      "Andersson Malte, 1994\n",
      "Levins Richard, 1968\n",
      "Mac Arthur Robert H, 1967\n",
      "Tilman D, 1988\n",
      "[王家卓 Wang Jiazhuo], 2011, [计算机研究与发展\n",
      "[赵星 Zhao Xing], 2009, [中国科学基金\n",
      "[李生珍 Li Shengzhen], 2010, [计算机工程与设计\n",
      "[黄林晟 Huang Linsheng], 2012, [山东大学学报. 理学版\n",
      "[郭洪波 Guo Hongbo], 2014, [航空学报\n",
      "[杨天亮 Yang Tianliang], 2015, [心理科学进展\n",
      "[岳书敬 Yue Shujing], 2008, [科研管理\n",
      "[丁蕾 Ding Lei], 2020, [中国科学. 生命科学\n",
      "[张玉喜 Zhang Yu-Xi], 2009, [大连海事大学学报\n",
      "[刘娜 Liu Na], 2019, [科学学研究\n",
      "[刘娜 Liu Na], 2017, [科研管理\n",
      "National Bureau Of Statistics Of China\n",
      "Dubin R, 1976\n",
      "[陈悦 Chen Yue], 2017, [科学学研究\n",
      "[陈悦 Chen Yue], 2005, [科学学研究\n",
      "[和钰 He Yu], 2017, [科学学研究\n",
      "[刘则渊 Liu Zeyuan], 2017, [科学学研究\n",
      "[方创琳 Fang Chuanglin], 2018, [地理科学\n",
      "[贺灿飞 He Canfei], 2017, [地理学报\n",
      "[李双成 Li Shuangcheng], 2011, [地理学报\n",
      "[龙花楼 Long Hualou], 2003, [地理科学进展\n",
      "[陆大道 Lu Dadao], 2015, [地球科学进展\n",
      "[庄良 Zhuang Liang], 2019, [地理学报\n",
      "[黄颖 Huang Ying], 2019, [科学学研究\n",
      "변상정, 2011, 현대북한연구\n",
      "[邱均平 Qiu Junping], 2003, [科学学研究\n",
      "[常启昕 Chang Qixin], 2016, [水利水电科技进展\n"
     ]
    }
   ],
   "source": [
    "for k in dict(document_cite.nodes.data()).keys():\n",
    "    if k.split(',')[-1].isupper():\n",
    "        pass\n",
    "    else:\n",
    "        print(k)\n",
    "#对比上面的输出结果，查询“刘娜”，可以发现metaknowledge也是按照这个方法进行排除是否有期刊信息\n",
    "#中文的信息会被剔除\n",
    "#National Bureau Of Statistics Of China 在上面的输出结果中存在，在下面的输出结果中找不到"
   ]
  },
  {
   "cell_type": "code",
   "execution_count": 32,
   "metadata": {},
   "outputs": [
    {
     "data": {
      "text/plain": [
       "False"
      ]
     },
     "execution_count": 32,
     "metadata": {},
     "output_type": "execute_result"
    }
   ],
   "source": [
    "'J iNFORMETR'.isupper()"
   ]
  },
  {
   "cell_type": "code",
   "execution_count": 33,
   "metadata": {},
   "outputs": [
    {
     "name": "stdout",
     "output_type": "stream",
     "text": [
      "Nodes: 16963\n",
      "Edges: 23670\n",
      "Isolates: 7\n",
      "Self loops: 22\n",
      "Density: 8.22657E-05\n",
      "Transitivity: 0.000505205\n"
     ]
    }
   ],
   "source": [
    "document_cite = RC2021.networkCitation(dropNonJournals=True)\n",
    "print(mk.graphStats(document_cite))"
   ]
  },
  {
   "cell_type": "code",
   "execution_count": 34,
   "metadata": {},
   "outputs": [
    {
     "data": {
      "text/plain": [
       "('Nicolaisen J, 2021, SCIENTOMETRICS',\n",
       " {'MK-ID': 'WOS:000584966700001',\n",
       "  'info': 'WOS:000584966700001, Nicolaisen Jeppe, Number of references: a large-scale study of interval ratios, SCIENTOMETRICS, 126, 259',\n",
       "  'inCore': True,\n",
       "  'count': 1})"
      ]
     },
     "execution_count": 34,
     "metadata": {},
     "output_type": "execute_result"
    }
   ],
   "source": [
    "list(document_cite.nodes.data())[0]"
   ]
  },
  {
   "cell_type": "markdown",
   "metadata": {},
   "source": [
    "## 7.测试count参数"
   ]
  },
  {
   "cell_type": "code",
   "execution_count": 35,
   "metadata": {},
   "outputs": [
    {
     "data": {
      "text/plain": [
       "('Nicolaisen J, 2021, SCIENTOMETRICS',\n",
       " {'MK-ID': 'WOS:000584966700001',\n",
       "  'info': 'WOS:000584966700001, Nicolaisen Jeppe, Number of references: a large-scale study of interval ratios, SCIENTOMETRICS, 126, 259',\n",
       "  'inCore': True,\n",
       "  'count': 1})"
      ]
     },
     "execution_count": 35,
     "metadata": {},
     "output_type": "execute_result"
    }
   ],
   "source": [
    "document_cite = RC2021.networkCitation(count=True)\n",
    "list(document_cite.nodes.data())[0]"
   ]
  },
  {
   "cell_type": "code",
   "execution_count": 36,
   "metadata": {},
   "outputs": [
    {
     "data": {
      "text/plain": [
       "('Nicolaisen J, 2021, SCIENTOMETRICS',\n",
       " {'MK-ID': 'WOS:000584966700001',\n",
       "  'info': 'WOS:000584966700001, Nicolaisen Jeppe, Number of references: a large-scale study of interval ratios, SCIENTOMETRICS, 126, 259',\n",
       "  'inCore': True})"
      ]
     },
     "execution_count": 36,
     "metadata": {},
     "output_type": "execute_result"
    }
   ],
   "source": [
    "document_cite = RC2021.networkCitation(count=False)\n",
    "list(document_cite.nodes.data())[0]\n",
    "#属性中没有count"
   ]
  },
  {
   "cell_type": "markdown",
   "metadata": {},
   "source": [
    "## 8.测试directed参数"
   ]
  },
  {
   "cell_type": "code",
   "execution_count": 37,
   "metadata": {},
   "outputs": [
    {
     "data": {
      "text/plain": [
       "<networkx.classes.digraph.DiGraph at 0x183430a0340>"
      ]
     },
     "execution_count": 37,
     "metadata": {},
     "output_type": "execute_result"
    }
   ],
   "source": [
    "document_cite = RC2021.networkCitation(directed=True)\n",
    "document_cite"
   ]
  },
  {
   "cell_type": "code",
   "execution_count": 38,
   "metadata": {},
   "outputs": [
    {
     "data": {
      "text/plain": [
       "<networkx.classes.graph.Graph at 0x183430a83a0>"
      ]
     },
     "execution_count": 38,
     "metadata": {},
     "output_type": "execute_result"
    }
   ],
   "source": [
    "document_cite = RC2021.networkCitation(directed=False)\n",
    "document_cite\n",
    "#digraph表示有向图，graph表示无向图"
   ]
  },
  {
   "cell_type": "markdown",
   "metadata": {},
   "source": [
    "## 9.测试keyWords参数"
   ]
  },
  {
   "cell_type": "code",
   "execution_count": 39,
   "metadata": {},
   "outputs": [
    {
     "name": "stdout",
     "output_type": "stream",
     "text": [
      "Nodes: 29233\n",
      "Edges: 37255\n",
      "Isolates: 0\n",
      "Self loops: 22\n",
      "Density: 4.35966E-05\n",
      "Transitivity: 0.000253465\n"
     ]
    }
   ],
   "source": [
    "document_cite = RC2021.networkCitation()\n",
    "print(mk.graphStats(document_cite))"
   ]
  },
  {
   "cell_type": "code",
   "execution_count": 40,
   "metadata": {},
   "outputs": [
    {
     "name": "stdout",
     "output_type": "stream",
     "text": [
      "Abramo G, 2019, J INFORMETR\n",
      "Abramo G, 2011, J INFORMETR\n",
      "Abramo G, 2011, SCIENTOMETRICS\n",
      "Abramo G, 2019, TECHNOVATION\n",
      "Abramo G, 2008, SCIENTOMETRICS\n",
      "Abramo G, 2019, SCIENTOMETRICS\n",
      "Abramo G, 2017, J INFORMETR\n",
      "Abramo G, 2016, SCI PUBL POLICY\n",
      "Abramo G, 2013, J INFORMETR\n",
      "Abramo G, 2012, J AM SOC INF SCI TEC\n",
      "Abramo G, 2009, TECHNOVATION\n",
      "Abramo G, 2015, J ASSOC INF SCI TECH\n",
      "Abramo G, 2013, SCIENTOMETRICS\n",
      "Abramo G, 2013, J AM SOC INF SCI TEC\n",
      "Abramo G, 2015, J INFORMETR\n",
      "Abramo G, 2009, HIGH EDUC\n",
      "Abramo G, 2009, RES POLICY\n",
      "Abramo G, 2014, SCIENTOMETRICS\n",
      "Abramo G, 2020, J INFORMETR\n",
      "Abramo G, 2019, P 17 INT SOC SCI INF\n",
      "Abramo G, 2018, J INFORMETR\n",
      "Abramo G, 2020, SCIENTOMETRICS\n",
      "Abramo G, 2012, R&D MANAGE\n",
      "Abramo G, 2018, SCIENTOMETRICS\n",
      "Abramo G, 2007, CURR SCI INDIA\n",
      "Abramo G, 2016, J INFORMETR\n",
      "Abramo G, 2014, J INFORMETR\n",
      "Abramo G, 2012, SCIENTOMETRICS\n",
      "Abramo G, 2016, SCIENTOMETRICS\n",
      "Abramo G, 2009, SCIENTOMETRICS\n",
      "Abramo G, 2010, SCIENTOMETRICS\n",
      "Abramo G, 2019, HIGH EDUC\n",
      "Abramo G, 2012, J INFORMETR\n",
      "Abramo G, 2015, SCIENTOMETRICS\n",
      "Abramo G, 2014, HIGH EDUC\n",
      "Abramo G, 2012, HIGH EDUC\n",
      "Abramo G, 2015, SCI PUBL POLICY\n",
      "Abramo G, 2015, ECON POLIT-ITALY\n",
      "Abramo G, 2017, SCIENTOMETRICS\n"
     ]
    }
   ],
   "source": [
    "for key in dict(document_cite.nodes.data()).keys():\n",
    "    if 'Abramo G' in key:\n",
    "        print(key)"
   ]
  },
  {
   "cell_type": "code",
   "execution_count": 41,
   "metadata": {},
   "outputs": [
    {
     "name": "stdout",
     "output_type": "stream",
     "text": [
      "Nodes: 29142\n",
      "Edges: 37009\n",
      "Isolates: 0\n",
      "Self loops: 20\n",
      "Density: 4.35796E-05\n",
      "Transitivity: 0.000235004\n"
     ]
    }
   ],
   "source": [
    "document_cite = RC2021.networkCitation(keyWords='Abramo G')\n",
    "print(mk.graphStats(document_cite))"
   ]
  },
  {
   "cell_type": "code",
   "execution_count": 42,
   "metadata": {},
   "outputs": [],
   "source": [
    "for key in dict(document_cite.nodes.data()).keys():\n",
    "    if 'Abramo G' in key:\n",
    "        print(key)\n",
    "#该功能相当于从文献中剔除某些主题或者作者的文献数据"
   ]
  },
  {
   "cell_type": "code",
   "execution_count": 43,
   "metadata": {},
   "outputs": [
    {
     "name": "stdout",
     "output_type": "stream",
     "text": [
      "Moed Hf, 2002, NATURE\n",
      "Tang L, 2018, NATURE\n",
      "Sugimoto Cr, 2013, NATURE\n",
      "Van Noorden R, 2014, NATURE\n",
      "Goodman Sn, 2018, NATURE\n",
      "Sugimoto Cr, 2017, NATURE\n",
      "Naranan S, 1970, NATURE\n",
      "Ball P, 2005, NATURE\n",
      "Van Noorden R, 2012, NATURE\n",
      "Abbott A, 2014, NATURE\n",
      "Lehmann S, 2006, NATURE\n",
      "Jia Hp, 2018, NATURE\n",
      "Urry M, 2015, NATURE\n",
      "Lawrence S, 2001, NATURE\n",
      "Van Noorden R, 2019, NATURE\n",
      "Lih A, 2004, NATURE\n",
      "Rumelhart De, 1986, NATURE\n",
      "Azoulay P, 2019, NATURE\n",
      "Wu Lf, 2019, NATURE\n",
      "Lee Dd, 1999, NATURE\n",
      "Acuna De, 2012, NATURE\n",
      "Bromham L, 2016, NATURE\n",
      "[Anonymous], 2018, NATURE\n",
      "[Anonymous], 2012, NATURE\n",
      "[Anonymous], 2017, NATURE\n",
      "Lerback J, 2017, NATURE\n",
      "Andersson M, 1982, NATURE\n",
      "Gaston Kj, 2000, NATURE\n",
      "May Rm, 1976, NATURE\n",
      "Parmesan C, 2003, NATURE\n",
      "Smith Jm, 1973, NATURE\n",
      "Thomas Cd, 2004, NATURE\n",
      "Vanraan Afj, 1990, NATURE\n",
      "Ginsparg P, 2011, NATURE\n",
      "Van Noorden, 2014, NATURE\n",
      "Novakov T, 1993, NATURE\n",
      "Hicks Diana, 2015, NATURE\n",
      "Hopkins Kd, 2002, NATURE\n",
      "Macilwain C, 2013, NATURE\n",
      "Wilsdon J, 2015, NATURE\n",
      "Butler D, 2009, NATURE\n",
      "Dobrovidova O, 2016, NATURE\n",
      "Maddox J, 1995, NATURE\n",
      "Garfield E, 1970, NATURE\n",
      "Hedding Dw, 2019, NATURE\n",
      "Barabasi Al, 2012, NATURE\n",
      "Garfield E, 2001, NATURE\n",
      "Reardon S, 2007, NATURE NEWS\n",
      "Deacon Terrance, 2012, INCOMPLETE NATURE MI\n",
      "Baldwin M, 2015, MAKING NATURE HIST S\n",
      "Butler D, 2008, NATURE\n",
      "Fraenkel B, 2004, SIGNATURE SCI SOCIOL\n",
      "[Anonymous], 2015, NATURE\n",
      "Hicks D, 2015, NATURE\n",
      "Wendl Mc, 2007, NATURE\n",
      "Baker M, 2016, NATURE\n",
      "Ledford H, 2017, NATURE\n",
      "Pulla P, 2019, NATURE\n",
      "Van Noorden R, 2015, NATURE\n",
      "Vapnik V, 2013, NATURE STAT LEARNING\n",
      "Heaven D, 2018, NATURE\n",
      "Beall J, 2012, NATURE\n",
      "Abbott A, 2010, NATURE\n",
      "Lok C, 2010, NATURE\n",
      "Tijssen R, 2017, NATURE\n",
      "Lariviere V, 2018, NATURE\n",
      "Abbott A, 2017, NATURE\n",
      "Nourbakhsh I, 2006, NATURE\n",
      "King Da, 2004, NATURE\n",
      "Mattmann Ca, 2013, NATURE\n",
      "Piwowar H, 2013, NATURE\n",
      "Piwowar Ha, 2011, NATURE\n",
      "Priem J, 2013, NATURE\n",
      "Dimitrov Jd, 2010, NATURE\n",
      "Stephan P, 2017, NATURE\n",
      "Lecun Y, 2015, NATURE\n",
      "Gates Aj, 2019, NATURE\n",
      "Adams J, 2012, NATURE\n",
      "[Anonymous], 2019, NATURE\n",
      "Macilwain C, 2010, NATURE\n",
      "Watts Dj, 1998, NATURE\n",
      "Baggerly K, 2010, NATURE\n",
      "Alatalo Rv, 1997, NATURE\n",
      "Davidson L, 2011, SERIOUS LEISURE AND NATURE: SUSTAINABLE CONSUMPTION IN THE OUTDOORS\n",
      "Chen Qy, 2020, NATURE\n",
      "Lenzen M, 2012, NATURE\n",
      "Castelvecchi D, 2015, NATURE\n",
      "Mutapi F, 2019, NATURE\n",
      "Kwon Diana, 2020, NATURE\n",
      "Gewin V, 2017, NATURE\n",
      "Van Noorden R, 2017, NATURE\n",
      "Qiu J, 2008, NATURE\n",
      "Tollefson J, 2018, NATURE\n",
      "Phillips N, 2017, NATURE NEWS\n",
      "Phillips N, 2017, NATURE\n",
      "Adams J, 2013, NATURE\n",
      "Dance A, 2017, NATURE\n",
      "Ioannidis Jpa, 2018, NATURE\n",
      "Van Noorden R, 2011, NATURE\n",
      "Schiermeier Q, 2016, NATURE\n",
      "Salisbury Fb, 1969, NATURE\n",
      "Smith Jm, 1970, NATURE\n",
      "Gura Trisha, 2013, NATURE\n",
      "Hand E, 2010, NATURE\n",
      "Else H, 2018, NATURE\n",
      "Pauly D, 2002, NATURE\n",
      "Fuyuno I, 2006, NATURE\n",
      "Monastersky R, 2019, NATURE\n",
      "Reich Es, 2013, NATURE\n",
      "Schekman R, 2013, J NATURE\n",
      "Selye H, 1936, NATURE\n",
      "Waaijer Cjf, 2010, NATURE\n",
      "Lawrence Pa, 2003, NATURE\n",
      "Adam D, 2002, NATURE\n",
      "Abbott A, 2016, NATURE\n",
      "Finkel T, 2000, NATURE\n",
      "Hengartner Mo, 2000, NATURE\n",
      "Marcus A, 2011, NATURE\n",
      "Malmgren Rd, 2010, NATURE\n",
      "Van Noorden R, 2016, NATURE\n",
      "Alonso Wj, 2002, NATURE\n",
      "Lane J, 2010, NATURE\n",
      "Bicchieri C, 2005, GRAMMAR SOC NATURE D\n",
      "Moed Hf, 1996, NATURE\n",
      "Shevlin M, 1997, NATURE\n",
      "[Anonymous], 2009, NATURE\n",
      "Ball P, 2007, NATURE\n",
      "Nature, 1965, NATURE\n",
      "Beall J, 2016, NATURE\n",
      "Ledford H, 2015, NATURE\n",
      "Mallapaty S, 2020, NATURE\n",
      "Rump Ee, 1971, NATURE\n",
      "Angelo C, 2016, NATURE\n",
      "Wenneras C, 1997, NATURE\n",
      "Curry S, 2018, NATURE\n",
      "Powell K, 2012, NATURE\n",
      "Guglielmi G, 2018, NATURE\n",
      "Schiebinger L, 2014, NATURE\n",
      "Ahn Yy, 2010, NATURE\n",
      "Palla G, 2007, NATURE\n",
      "Almeida Jd, 1968, NATURE\n",
      "Volterra V, 1926, NATURE\n",
      "Waddington Ch, 1942, NATURE\n",
      "Moller Ap, 1990, NATURE\n",
      "Simpson Eh, 1949, NATURE\n",
      "Armitage C, 2018, NATURE\n",
      "Phillips N, 2017, NATURE INDEX    1004\n",
      "Powell K, 2016, NATURE\n",
      "[Anonymous], 2020, NATURE\n",
      "Liu Sv, 2007, NATURE\n",
      "Arns M, 2014, NATURE\n",
      "Arthur, 2009, NATURE TECHNOLOGY WH\n",
      "Zeng A, 2019, NATURE COMMUNICATION\n",
      "Lawrence S, 1999, NATURE\n",
      "Shotton D, 2018, NATURE\n",
      "Shotton D, 2013, NATURE\n",
      "Allen L, 2014, NATURE\n",
      "Smith Adam, 1976, INQUIRY NATURE CAUSE\n",
      "Gura T, 2005, NATURE\n",
      "Liu L, 2018, NATURE\n",
      "Mallapaty Smriti, 2019, NATURE\n",
      "Smiraglia Rp, 2001, NATURE WORK IMPLICAT\n",
      "Tshitoyan V, 2019, NATURE\n",
      "Atkinson Pm, 2014, NATURE\n",
      "Dance Amber, 2013, NATURE\n",
      "Lithgow Gj, 2017, NATURE\n",
      "Moher D, 2017, NATURE\n",
      "Angelo C, 2019, NATURE\n",
      "Yang W, 2016, NATURE\n",
      "Bornmann L, 2007, NATURE\n",
      "Boyle P, 2015, NATURE\n",
      "Lunnemann P, 2019, NATURE COMMUNICATION\n",
      "Zhang J, 2014, NATURE\n",
      "Ball P, 2008, NATURE\n",
      "Chawla Ds, 2019, NATURE\n",
      "Else Holly, 2019, NATURE\n",
      "Wouters P, 2017, NATURE\n",
      "Albert R, 1999, NATURE\n",
      "Gaind N, 2019, NATURE\n",
      "Biagioli M, 2016, NATURE\n",
      "Shapira P, 2010, NATURE\n",
      "Pielke R, 2010, NATURE\n",
      "Landhuis E, 2016, NATURE\n",
      "Silberberg Sd, 2017, NATURE\n",
      "Gilbert N, 2009, NATURE\n",
      "Springer & Nature, 2018, NATURE INDEX 2018 TA\n",
      "Giles J, 2005, NATURE\n",
      "[Anonymous], 2005, NATURE\n",
      "Fire A, 1998, NATURE\n",
      "Asai D, 2019, NATURE\n",
      "Hall Kl, 2017, NATURE\n",
      "Gurevitch J, 2018, NATURE\n",
      "Greene M, 2007, NATURE\n",
      "Abbott A, 2020, NATURE\n",
      "Viglione G, 2020, NATURE\n",
      "Van Noorden R, 2013, NATURE\n",
      "Akcakaya P, 2018, NATURE\n",
      "Cyranoski D, 2016, NATURE\n",
      "Li Hj, 2011, NATURE\n",
      "Zhou Y, 2019, NATURE\n",
      "Mckenzie Dp, 1967, NATURE\n",
      "Rusby Jsm, 1969, NATURE\n",
      "Vine Fj, 1963, NATURE\n",
      "Ferguson Mwj, 2016, NATURE\n",
      "Mccann Ks, 2000, NATURE\n",
      "Shevchenko Ev, 2006, NATURE\n",
      "Colquhoun D, 2003, NATURE\n",
      "Tang L, 2019, NATURE\n",
      "Sarewitz D, 2016, NATURE\n",
      "Sorokowski P, 2017, NATURE NEWS\n",
      "Strogatz Sh, 2001, NATURE\n",
      "Butler D, 2013, NATURE\n",
      "Grudniewicz A, 2019, NATURE\n",
      "Patwardhan B, 2019, NATURE\n",
      "Priyadarshini S, 2018, NATURE\n",
      "Prospectus Dated, 2018, SPRINGER NATURE PROS\n",
      "Van Noorden R, 2013, NATURE PUBLISHING GR\n",
      "[Anonymous], 1995, NATURE\n",
      "Brookfield J, 2003, NATURE\n",
      "Fanelli D, 2013, NATURE\n",
      "Jones N, 2015, NATURE\n",
      "Jones N, 2016, NATURE NEWS\n",
      "Lieberman E, 2007, NATURE\n",
      "Pearson H, 2006, NATURE\n",
      "Osumi N, 2018, NATURE INDEX\n",
      "Phillips N, 2017, NATURE INDEX\n",
      "Tsang J, 2019, NATURE\n",
      "Cyranoski D, 2017, NATURE\n",
      "Schiermeier Q, 2018, NATURE\n",
      "Galton F, 1907, NATURE\n",
      "Fortunato S, 2014, NATURE\n",
      "Shen H, 2013, NATURE\n",
      "Schmidt M, 1963, NATURE\n",
      "Freeman Rb, 2014, NATURE\n",
      "Myers N, 2000, NATURE\n",
      "Raymond Pa, 2013, NATURE\n",
      "Gibney E, 2014, NATURE\n",
      "Wagner Cs, 2017, NATURE\n",
      "Morone F, 2015, NATURE\n",
      "Pu G, 1998, J DIALETICS NATURE\n",
      "Kareiva P, 2002, NATURE\n",
      "Kwok Roberta, 2013, NATURE\n",
      "Johns Adrian, 1998, NATURE BOOK PRINT KN\n",
      "Ziman Jm, 1969, NATURE\n",
      "Lariviere Vincent, 2013, NATURE\n",
      "Breimer Lh, 2011, NATURE\n",
      "Breimer Lh, 1991, NATURE\n",
      "Gannon F, 1997, NATURE\n",
      "Van Noorden R, 2014, NATURE NEWS\n",
      "Sorokowski P, 2017, NATURE\n",
      "Strielkowski W, 2017, NATURE\n",
      "[Anonymous], 2016, NATURE COMMUNICATION\n",
      "[Anonymous], 2015, NATURE COMMUNICATION\n",
      "Papadopoulos F, 2012, NATURE\n",
      "Ioannidis Jpa, 2014, NATURE\n",
      "Shih C, 1981, NATURE\n",
      "[Anonymous], 2013, NATURE\n",
      "Conley D, 2012, NATURE\n",
      "Zakaib Gd, 2011, NATURE\n"
     ]
    }
   ],
   "source": [
    "for key in dict(document_cite.nodes.data()).keys():\n",
    "    if 'NATURE' in key:\n",
    "        print(key)"
   ]
  },
  {
   "cell_type": "code",
   "execution_count": 44,
   "metadata": {},
   "outputs": [
    {
     "name": "stdout",
     "output_type": "stream",
     "text": [
      "Nodes: 28966\n",
      "Edges: 36772\n",
      "Isolates: 0\n",
      "Self loops: 22\n",
      "Density: 4.38284E-05\n",
      "Transitivity: 0.000255427\n"
     ]
    }
   ],
   "source": [
    "#尝试剔除nature期刊的文献\n",
    "document_cite = RC2021.networkCitation(keyWords='NATURE')\n",
    "print(mk.graphStats(document_cite))"
   ]
  },
  {
   "cell_type": "code",
   "execution_count": 45,
   "metadata": {},
   "outputs": [],
   "source": [
    "for key in dict(document_cite.nodes.data()).keys():\n",
    "    if 'NATURE' in key:\n",
    "        print(key)"
   ]
  },
  {
   "cell_type": "markdown",
   "metadata": {},
   "source": [
    "## 10.测试coreOnly参数"
   ]
  },
  {
   "cell_type": "code",
   "execution_count": 46,
   "metadata": {},
   "outputs": [
    {
     "name": "stdout",
     "output_type": "stream",
     "text": [
      "Nodes: 29233\n",
      "Edges: 37255\n",
      "Isolates: 0\n",
      "Self loops: 22\n",
      "Density: 4.35966E-05\n",
      "Transitivity: 0.000253465\n"
     ]
    }
   ],
   "source": [
    "document_cite = RC2021.networkCitation(coreOnly=False)\n",
    "print(mk.graphStats(document_cite))"
   ]
  },
  {
   "cell_type": "code",
   "execution_count": 47,
   "metadata": {},
   "outputs": [
    {
     "data": {
      "text/plain": [
       "('Nicolaisen J, 2021, SCIENTOMETRICS',\n",
       " {'MK-ID': 'WOS:000584966700001',\n",
       "  'info': 'WOS:000584966700001, Nicolaisen Jeppe, Number of references: a large-scale study of interval ratios, SCIENTOMETRICS, 126, 259',\n",
       "  'inCore': True,\n",
       "  'count': 1})"
      ]
     },
     "execution_count": 47,
     "metadata": {},
     "output_type": "execute_result"
    }
   ],
   "source": [
    "list(document_cite.nodes.data())[0]"
   ]
  },
  {
   "cell_type": "code",
   "execution_count": 48,
   "metadata": {},
   "outputs": [
    {
     "name": "stdout",
     "output_type": "stream",
     "text": [
      "Nodes: 714\n",
      "Edges: 174\n",
      "Isolates: 517\n",
      "Self loops: 22\n",
      "Density: 0.000341792\n",
      "Transitivity: 0.0735294\n"
     ]
    }
   ],
   "source": [
    "document_cite = RC2021.networkCitation(coreOnly=True)\n",
    "print(mk.graphStats(document_cite))"
   ]
  },
  {
   "cell_type": "code",
   "execution_count": 49,
   "metadata": {},
   "outputs": [
    {
     "data": {
      "text/plain": [
       "('Nicolaisen J, 2021, SCIENTOMETRICS',\n",
       " {'MK-ID': 'WOS:000584966700001',\n",
       "  'info': 'WOS:000584966700001, Nicolaisen Jeppe, Number of references: a large-scale study of interval ratios, SCIENTOMETRICS, 126, 259',\n",
       "  'inCore': True,\n",
       "  'count': 1})"
      ]
     },
     "execution_count": 49,
     "metadata": {},
     "output_type": "execute_result"
    }
   ],
   "source": [
    "list(document_cite.nodes.data())[0]\n",
    "#也就是说所有的生成网络的引用都是在读入的mk.RecordCollection()中数据，具备WOS的ID编号"
   ]
  },
  {
   "cell_type": "markdown",
   "metadata": {},
   "source": [
    "## 11.测试addCR参数"
   ]
  },
  {
   "cell_type": "markdown",
   "metadata": {},
   "source": [
    "该参数官方文档中没有进行介绍，可以通过测试的数据差集对比进行猜测\n",
    "\n",
    "    CR就是citation的缩写"
   ]
  },
  {
   "cell_type": "code",
   "execution_count": 50,
   "metadata": {},
   "outputs": [
    {
     "name": "stdout",
     "output_type": "stream",
     "text": [
      "Nodes: 29233\n",
      "Edges: 37255\n",
      "Isolates: 0\n",
      "Self loops: 22\n",
      "Density: 4.35966E-05\n",
      "Transitivity: 0.000253465\n"
     ]
    }
   ],
   "source": [
    "document_cite = RC2021.networkCitation(addCR=True)\n",
    "print(mk.graphStats(document_cite))"
   ]
  },
  {
   "cell_type": "code",
   "execution_count": 51,
   "metadata": {},
   "outputs": [
    {
     "data": {
      "text/plain": [
       "dict_keys(['MK-ID', 'info', 'inCore', 'citations', 'count'])"
      ]
     },
     "execution_count": 51,
     "metadata": {},
     "output_type": "execute_result"
    }
   ],
   "source": [
    "dict(document_cite.nodes.data())['Du J, 2020, J INFORMETR'].keys()"
   ]
  },
  {
   "cell_type": "code",
   "execution_count": 52,
   "metadata": {},
   "outputs": [
    {
     "name": "stdout",
     "output_type": "stream",
     "text": [
      "Nodes: 29233\n",
      "Edges: 37255\n",
      "Isolates: 0\n",
      "Self loops: 22\n",
      "Density: 4.35966E-05\n",
      "Transitivity: 0.000253465\n"
     ]
    }
   ],
   "source": [
    "document_cite = RC2021.networkCitation(addCR=False)\n",
    "print(mk.graphStats(document_cite))"
   ]
  },
  {
   "cell_type": "code",
   "execution_count": 53,
   "metadata": {},
   "outputs": [
    {
     "data": {
      "text/plain": [
       "dict_keys(['MK-ID', 'info', 'inCore', 'count'])"
      ]
     },
     "execution_count": 53,
     "metadata": {},
     "output_type": "execute_result"
    }
   ],
   "source": [
    "dict(document_cite.nodes.data())['Du J, 2020, J INFORMETR'].keys()"
   ]
  },
  {
   "cell_type": "markdown",
   "metadata": {},
   "source": [
    "## 12.测试recordToCite参数\n",
    "    \n",
    " 该参数也没有在文档中进行介绍"
   ]
  },
  {
   "cell_type": "code",
   "execution_count": 54,
   "metadata": {},
   "outputs": [
    {
     "name": "stdout",
     "output_type": "stream",
     "text": [
      "Nodes: 29233\n",
      "Edges: 37255\n",
      "Isolates: 0\n",
      "Self loops: 22\n",
      "Density: 4.35966E-05\n",
      "Transitivity: 0.000253465\n"
     ]
    }
   ],
   "source": [
    "document_cite_1 = RC2021.networkCitation(recordToCite=True)\n",
    "print(mk.graphStats(document_cite_1))"
   ]
  },
  {
   "cell_type": "code",
   "execution_count": 55,
   "metadata": {},
   "outputs": [
    {
     "name": "stdout",
     "output_type": "stream",
     "text": [
      "Nodes: 29233\n",
      "Edges: 37255\n",
      "Isolates: 0\n",
      "Self loops: 22\n",
      "Density: 4.35966E-05\n",
      "Transitivity: 0.0126769\n"
     ]
    }
   ],
   "source": [
    "document_cite_2 = RC2021.networkCitation(recordToCite=False)\n",
    "print(mk.graphStats(document_cite_2))"
   ]
  },
  {
   "cell_type": "code",
   "execution_count": 56,
   "metadata": {},
   "outputs": [
    {
     "data": {
      "text/plain": [
       "False"
      ]
     },
     "execution_count": 56,
     "metadata": {},
     "output_type": "execute_result"
    }
   ],
   "source": [
    "document_cite_2 == document_cite_1"
   ]
  },
  {
   "cell_type": "code",
   "execution_count": 57,
   "metadata": {},
   "outputs": [
    {
     "data": {
      "text/plain": [
       "True"
      ]
     },
     "execution_count": 57,
     "metadata": {},
     "output_type": "execute_result"
    }
   ],
   "source": [
    "document_cite_2.nodes.data() == document_cite_1.nodes.data()"
   ]
  },
  {
   "cell_type": "code",
   "execution_count": 58,
   "metadata": {},
   "outputs": [
    {
     "data": {
      "text/plain": [
       "False"
      ]
     },
     "execution_count": 58,
     "metadata": {},
     "output_type": "execute_result"
    }
   ],
   "source": [
    "document_cite_2.edges.data() == document_cite_1.edges.data()"
   ]
  },
  {
   "cell_type": "code",
   "execution_count": 59,
   "metadata": {},
   "outputs": [
    {
     "data": {
      "text/plain": [
       "37255"
      ]
     },
     "execution_count": 59,
     "metadata": {},
     "output_type": "execute_result"
    }
   ],
   "source": [
    "len(document_cite_1.edges.data())"
   ]
  },
  {
   "cell_type": "code",
   "execution_count": 60,
   "metadata": {},
   "outputs": [
    {
     "data": {
      "text/plain": [
       "37255"
      ]
     },
     "execution_count": 60,
     "metadata": {},
     "output_type": "execute_result"
    }
   ],
   "source": [
    "len(document_cite_2.edges.data())"
   ]
  },
  {
   "cell_type": "code",
   "execution_count": 61,
   "metadata": {},
   "outputs": [
    {
     "data": {
      "text/plain": [
       "False"
      ]
     },
     "execution_count": 61,
     "metadata": {},
     "output_type": "execute_result"
    }
   ],
   "source": [
    "[1,2] == [2,1]\n",
    "#难道只是顺序不一样"
   ]
  },
  {
   "cell_type": "markdown",
   "metadata": {},
   "source": [
    "查看源代码文件发现，作为连线的权重判断依据"
   ]
  },
  {
   "cell_type": "code",
   "execution_count": 62,
   "metadata": {},
   "outputs": [
    {
     "data": {
      "text/plain": [
       "[('Nicolaisen J, 2021, SCIENTOMETRICS',\n",
       "  'Abt Ha, 2002, J AM SOC INF SCI TEC',\n",
       "  {'weight': 1, 'yearDiff': 19}),\n",
       " ('Nicolaisen J, 2021, SCIENTOMETRICS',\n",
       "  'Anger J, 1999, SAO PAULO MED J',\n",
       "  {'weight': 1, 'yearDiff': 22}),\n",
       " ('Nicolaisen J, 2021, SCIENTOMETRICS',\n",
       "  'Bornmann L, 2019, 17 INT C SCIENT INF',\n",
       "  {'weight': 1, 'yearDiff': 2}),\n",
       " ('Nicolaisen J, 2021, SCIENTOMETRICS',\n",
       "  'Bornmann L, 2018, J INFORMETR',\n",
       "  {'weight': 1, 'yearDiff': 3}),\n",
       " ('Nicolaisen J, 2021, SCIENTOMETRICS',\n",
       "  'Bornmann L, 2015, J ASSOC INF SCI TECH',\n",
       "  {'weight': 1, 'yearDiff': 6}),\n",
       " ('Nicolaisen J, 2021, SCIENTOMETRICS',\n",
       "  'Costas R, 2012, J AM SOC INF SCI TEC',\n",
       "  {'weight': 1, 'yearDiff': 9}),\n",
       " ('Nicolaisen J, 2021, SCIENTOMETRICS',\n",
       "  'Fang H, 2015, MALAYS J LIBR INF SC',\n",
       "  {'weight': 1, 'yearDiff': 6}),\n",
       " ('Nicolaisen J, 2021, SCIENTOMETRICS',\n",
       "  'Frandsen Tf, 2019, INFORM RES',\n",
       "  {'weight': 1, 'yearDiff': 2}),\n",
       " ('Nicolaisen J, 2021, SCIENTOMETRICS',\n",
       "  'Garfield E, 1979, TRENDS BIOCHEM SCI',\n",
       "  {'weight': 1, 'yearDiff': 42}),\n",
       " ('Nicolaisen J, 2021, SCIENTOMETRICS',\n",
       "  'Garfield E, 1980, CURR CONTENTS',\n",
       "  {'weight': 1, 'yearDiff': 41})]"
      ]
     },
     "execution_count": 62,
     "metadata": {},
     "output_type": "execute_result"
    }
   ],
   "source": [
    "list(document_cite_1.edges.data())[:10]"
   ]
  },
  {
   "cell_type": "code",
   "execution_count": 63,
   "metadata": {},
   "outputs": [
    {
     "data": {
      "text/plain": [
       "[('Abt Ha, 2002, J AM SOC INF SCI TEC',\n",
       "  'Nicolaisen J, 2021, SCIENTOMETRICS',\n",
       "  {'weight': 1, 'yearDiff': 19}),\n",
       " ('Anger J, 1999, SAO PAULO MED J',\n",
       "  'Nicolaisen J, 2021, SCIENTOMETRICS',\n",
       "  {'weight': 1, 'yearDiff': 22}),\n",
       " ('Bornmann L, 2019, 17 INT C SCIENT INF',\n",
       "  'Nicolaisen J, 2021, SCIENTOMETRICS',\n",
       "  {'weight': 1, 'yearDiff': 2}),\n",
       " ('Bornmann L, 2018, J INFORMETR',\n",
       "  'Nicolaisen J, 2021, SCIENTOMETRICS',\n",
       "  {'weight': 1, 'yearDiff': 3}),\n",
       " ('Bornmann L, 2018, J INFORMETR',\n",
       "  'Khelfaoui M, 2020, SCIENTOMETRICS',\n",
       "  {'weight': 1, 'yearDiff': 2}),\n",
       " ('Bornmann L, 2018, J INFORMETR',\n",
       "  'Saarela M, 2020, J INFORMETR',\n",
       "  {'weight': 1, 'yearDiff': 2}),\n",
       " ('Bornmann L, 2018, J INFORMETR',\n",
       "  'Lei L, 2020, SCIENTOMETRICS',\n",
       "  {'weight': 1, 'yearDiff': 2}),\n",
       " ('Bornmann L, 2018, J INFORMETR',\n",
       "  'Copiello S, 2020, SCIENTOMETRICS',\n",
       "  {'weight': 2, 'yearDiff': 2}),\n",
       " ('Bornmann L, 2018, J INFORMETR',\n",
       "  'Szomszor M, 2020, SCIENTOMETRICS',\n",
       "  {'weight': 1, 'yearDiff': 2}),\n",
       " ('Bornmann L, 2015, J ASSOC INF SCI TECH',\n",
       "  'Nicolaisen J, 2021, SCIENTOMETRICS',\n",
       "  {'weight': 1, 'yearDiff': 6})]"
      ]
     },
     "execution_count": 63,
     "metadata": {},
     "output_type": "execute_result"
    }
   ],
   "source": [
    "list(document_cite_2.edges.data())[:10]"
   ]
  },
  {
   "cell_type": "code",
   "execution_count": 64,
   "metadata": {},
   "outputs": [
    {
     "data": {
      "text/plain": [
       "[('Abalkina A, 2020, SCIENTOMETRICS',\n",
       "  'Abalkina A, 2016, TROITSKIY VARIANT',\n",
       "  {'weight': 1, 'yearDiff': 4}),\n",
       " ('Abalkina A, 2020, SCIENTOMETRICS',\n",
       "  'Abalkina A, 2018, TROITSKIY VARIANT',\n",
       "  {'weight': 1, 'yearDiff': 2}),\n",
       " ('Abalkina A, 2020, SCIENTOMETRICS',\n",
       "  'Alexandrova L, 2013, TASS            0718',\n",
       "  {'weight': 1, 'yearDiff': 7}),\n",
       " ('Abalkina A, 2020, SCIENTOMETRICS',\n",
       "  'Arce Dg, 2008, B ECON RES',\n",
       "  {'weight': 1, 'yearDiff': 12}),\n",
       " ('Abalkina A, 2020, SCIENTOMETRICS',\n",
       "  'Atella V, 2017, J APPL ECON',\n",
       "  {'weight': 1, 'yearDiff': 3}),\n",
       " ('Abalkina A, 2020, SCIENTOMETRICS',\n",
       "  'Balatskii E, 2008, RUSS POLIT LAW',\n",
       "  {'weight': 1, 'yearDiff': 12}),\n",
       " ('Abalkina A, 2020, SCIENTOMETRICS',\n",
       "  'Baltrunaite A, 2014, J PUBLIC ECON',\n",
       "  {'weight': 1, 'yearDiff': 6}),\n",
       " ('Abalkina A, 2020, SCIENTOMETRICS',\n",
       "  'Balzer Hd, 1982, PROBL COMMUNISM',\n",
       "  {'weight': 1, 'yearDiff': 38}),\n",
       " ('Abalkina A, 2020, SCIENTOMETRICS',\n",
       "  'Barfort S, 2019, AM ECON J-ECON POLIC',\n",
       "  {'weight': 1, 'yearDiff': 1}),\n",
       " ('Abalkina A, 2020, SCIENTOMETRICS',\n",
       "  'Bendahan S, 2015, LEADERSHIP QUART',\n",
       "  {'weight': 1, 'yearDiff': 5})]"
      ]
     },
     "execution_count": 64,
     "metadata": {},
     "output_type": "execute_result"
    }
   ],
   "source": [
    "sorted(document_cite_1.edges.data())[:10]"
   ]
  },
  {
   "cell_type": "code",
   "execution_count": 65,
   "metadata": {},
   "outputs": [
    {
     "data": {
      "text/plain": [
       "[('*Cat Pol Supp Off, 1996, SUBJ CAT MAN SUBJ HE',\n",
       "  'Bodoff D, 2020, J ASSOC INF SCI TECH',\n",
       "  {'weight': 1, 'yearDiff': 24}),\n",
       " ('*Clar An, 2018, WOS',\n",
       "  'Batagelj V, 2020, J INFORMETR',\n",
       "  {'weight': 1, 'yearDiff': 2}),\n",
       " ('*Claster P N, 2013, SOCIOLOGICAL VIEWPOI',\n",
       "  'Kou Mt, 2020, SCIENTOMETRICS',\n",
       "  {'weight': 1, 'yearDiff': 7}),\n",
       " ('*Ifrc, 2005, WORLD DIS REP',\n",
       "  'Pang N, 2020, J ASSOC INF SCI TECH',\n",
       "  {'weight': 1, 'yearDiff': 15}),\n",
       " ('*Nat Res Counc, 1995, PRES SCI DAT OUR PHY',\n",
       "  'Chassanoff A, 2020, J ASSOC INF SCI TECH',\n",
       "  {'weight': 1, 'yearDiff': 25}),\n",
       " ('*Wced, 1987, OUR COMMON FUTURE',\n",
       "  'Djuric M, 2020, SCIENTOMETRICS',\n",
       "  {'weight': 1, 'yearDiff': 33}),\n",
       " ('1992, ACTA CRYSTALLOGR A 6',\n",
       "  'Coccia M, 2020, SCIENTOMETRICS',\n",
       "  {'weight': 1, 'yearDiff': 28}),\n",
       " ('Aad G, 2015, PHYS REV LETT',\n",
       "  'Potter Rwk, 2020, J INFORMETR',\n",
       "  {'weight': 1, 'yearDiff': 5}),\n",
       " ('Aafaque A, 2017, COMM COM INF SC',\n",
       "  'Zou J, 2020, J ASSOC INF SCI TECH',\n",
       "  {'weight': 1, 'yearDiff': 3}),\n",
       " ('Aagaard K, 2015, RES EVALUAT',\n",
       "  'Helmer S, 2020, SCIENTOMETRICS',\n",
       "  {'weight': 1, 'yearDiff': 5})]"
      ]
     },
     "execution_count": 65,
     "metadata": {},
     "output_type": "execute_result"
    }
   ],
   "source": [
    "sorted(document_cite_2.edges.data())[:10]"
   ]
  },
  {
   "cell_type": "markdown",
   "metadata": {},
   "source": [
    "recordToCite这个参数的连线不同，比如Abalkina A作者"
   ]
  },
  {
   "cell_type": "code",
   "execution_count": 66,
   "metadata": {},
   "outputs": [
    {
     "name": "stdout",
     "output_type": "stream",
     "text": [
      "('Abalkina A, 2020, SCIENTOMETRICS', 'Abalkina A, 2016, TROITSKIY VARIANT', {'weight': 1, 'yearDiff': 4})\n",
      "('Abalkina A, 2020, SCIENTOMETRICS', 'Abalkina A, 2018, TROITSKIY VARIANT', {'weight': 1, 'yearDiff': 2})\n",
      "('Abalkina A, 2020, SCIENTOMETRICS', 'Alexandrova L, 2013, TASS            0718', {'weight': 1, 'yearDiff': 7})\n",
      "('Abalkina A, 2020, SCIENTOMETRICS', 'Arce Dg, 2008, B ECON RES', {'weight': 1, 'yearDiff': 12})\n",
      "('Abalkina A, 2020, SCIENTOMETRICS', 'Atella V, 2017, J APPL ECON', {'weight': 1, 'yearDiff': 3})\n",
      "('Abalkina A, 2020, SCIENTOMETRICS', 'Balatskii E, 2008, RUSS POLIT LAW', {'weight': 1, 'yearDiff': 12})\n",
      "('Abalkina A, 2020, SCIENTOMETRICS', 'Baltrunaite A, 2014, J PUBLIC ECON', {'weight': 1, 'yearDiff': 6})\n",
      "('Abalkina A, 2020, SCIENTOMETRICS', 'Balzer Hd, 1982, PROBL COMMUNISM', {'weight': 1, 'yearDiff': 38})\n",
      "('Abalkina A, 2020, SCIENTOMETRICS', 'Barfort S, 2019, AM ECON J-ECON POLIC', {'weight': 1, 'yearDiff': 1})\n",
      "('Abalkina A, 2020, SCIENTOMETRICS', 'Bendahan S, 2015, LEADERSHIP QUART', {'weight': 1, 'yearDiff': 5})\n",
      "('Abalkina A, 2020, SCIENTOMETRICS', 'Besley T, 2011, ECON J', {'weight': 1, 'yearDiff': 9})\n",
      "('Abalkina A, 2020, SCIENTOMETRICS', 'Bonnell Da, 2012, ACS NANO', {'weight': 1, 'yearDiff': 8})\n",
      "('Abalkina A, 2020, SCIENTOMETRICS', 'Braga M, 2017, EUR J POLIT ECON', {'weight': 1, 'yearDiff': 3})\n",
      "('Abalkina A, 2020, SCIENTOMETRICS', 'Bruno Rl, 2013, REV ECON STAT', {'weight': 1, 'yearDiff': 7})\n",
      "('Abalkina A, 2020, SCIENTOMETRICS', 'Bruton Sv, 2020, SCI ENG ETHICS', {'weight': 1, 'yearDiff': 0})\n",
      "('Abalkina A, 2020, SCIENTOMETRICS', 'Buckley M R, 1998, J ED BUSINESS', {'weight': 1, 'yearDiff': 22})\n",
      "('Abalkina A, 2020, SCIENTOMETRICS', 'Buckley Rm, 1997, WORLD BANK RES OBSER', {'weight': 1, 'yearDiff': 23})\n",
      "('Abalkina A, 2020, SCIENTOMETRICS', 'Butler D, 2009, NATURE', {'weight': 1, 'yearDiff': 11})\n",
      "('Abalkina A, 2020, SCIENTOMETRICS', 'Chawla Ds, 2020, SCIENCE', {'weight': 1, 'yearDiff': 0})\n",
      "('Abalkina A, 2020, SCIENTOMETRICS', 'Cox A, 2018, RES POLICY', {'weight': 1, 'yearDiff': 2})\n",
      "('Abalkina A, 2020, SCIENTOMETRICS', 'Demin A, 2019, EURASIAN GEOGR ECON', {'weight': 1, 'yearDiff': 1})\n",
      "('Abalkina A, 2020, SCIENTOMETRICS', 'Denisovaschmidte, 2019, POLICY REV HIGHER ED', {'weight': 1, 'yearDiff': 1})\n",
      "('Abalkina A, 2020, SCIENTOMETRICS', 'Dobrovidova O, 2016, NATURE', {'weight': 1, 'yearDiff': 4})\n",
      "('Abalkina A, 2020, SCIENTOMETRICS', 'Dreher A, 2009, J COMP ECON', {'weight': 1, 'yearDiff': 11})\n",
      "('Abalkina A, 2020, SCIENTOMETRICS', 'Dynes Am, 2019, POLIT BEHAV', {'weight': 1, 'yearDiff': 1})\n",
      "('Abalkina A, 2020, SCIENTOMETRICS', 'Francois A, 2020, J COMP ECON', {'weight': 1, 'yearDiff': 0})\n",
      "('Abalkina A, 2020, SCIENTOMETRICS', 'Freier R, 2016, INT TAX PUBLIC FINAN', {'weight': 1, 'yearDiff': 4})\n",
      "('Abalkina A, 2020, SCIENTOMETRICS', 'Fuchs A, 2018, EUR J POLIT ECON', {'weight': 1, 'yearDiff': 2})\n",
      "('Abalkina A, 2020, SCIENTOMETRICS', 'Garcia-Romero A, 2014, SCIENTOMETRICS', {'weight': 1, 'yearDiff': 6})\n",
      "('Abalkina A, 2020, SCIENTOMETRICS', \"Gel'Man V, 2018, POST-SOV AFF\", {'weight': 1, 'yearDiff': 2})\n",
      "('Abalkina A, 2020, SCIENTOMETRICS', 'Golunov S, 2010, VOPROSY OBRAZOVANIYA', {'weight': 1, 'yearDiff': 10})\n",
      "('Abalkina A, 2020, SCIENTOMETRICS', 'Gorokhov V, 2017, J CONT CENTRAL E EUR', {'weight': 1, 'yearDiff': 3})\n",
      "('Abalkina A, 2020, SCIENTOMETRICS', 'Hayo B, 2014, EUR J POLIT ECON', {'weight': 1, 'yearDiff': 6})\n",
      "('Abalkina A, 2020, SCIENTOMETRICS', 'Hjorth F, 2015, FORMAL MODEL CORRUPT', {'weight': 1, 'yearDiff': 5})\n",
      "('Abalkina A, 2020, SCIENTOMETRICS', 'Hodler R, 2014, Q J ECON', {'weight': 1, 'yearDiff': 6})\n",
      "('Abalkina A, 2020, SCIENTOMETRICS', 'Hoover Ga, 2006, ATLANTIC ECON J', {'weight': 1, 'yearDiff': 14})\n",
      "('Abalkina A, 2020, SCIENTOMETRICS', 'Hussinger K, 2019, RES POLICY', {'weight': 1, 'yearDiff': 1})\n",
      "('Abalkina A, 2020, SCIENTOMETRICS', 'Imbroscio Dl, 1999, POLITY', {'weight': 1, 'yearDiff': 21})\n",
      "('Abalkina A, 2020, SCIENTOMETRICS', 'Jochimsen B, 2014, EUR J POLIT ECON', {'weight': 1, 'yearDiff': 6})\n",
      "('Abalkina A, 2020, SCIENTOMETRICS', 'Joshua Keating, 2013, FOREIGN POLICY', {'weight': 1, 'yearDiff': 7})\n",
      "('Abalkina A, 2020, SCIENTOMETRICS', 'Karim Nsa, 2009, COMPUT EDUC', {'weight': 1, 'yearDiff': 11})\n",
      "('Abalkina A, 2020, SCIENTOMETRICS', 'Karpov A, 2016, 70976 MPRA', {'weight': 1, 'yearDiff': 4})\n",
      "('Abalkina A, 2020, SCIENTOMETRICS', 'Keren M, 2007, STUD ECON TRANSIT', {'weight': 1, 'yearDiff': 13})\n",
      "('Abalkina A, 2020, SCIENTOMETRICS', 'Kobak D, 2016, ANN APPL STAT', {'weight': 1, 'yearDiff': 4})\n",
      "('Abalkina A, 2020, SCIENTOMETRICS', 'Kozlov V, 2018, KYKLOS', {'weight': 1, 'yearDiff': 2})\n",
      "('Abalkina A, 2020, SCIENTOMETRICS', 'Krcmaric D, 2020, ANNU REV POLIT SCI', {'weight': 1, 'yearDiff': 0})\n",
      "('Abalkina A, 2020, SCIENTOMETRICS', 'Lau Gkk, 2013, ETHICS BEHAV', {'weight': 1, 'yearDiff': 7})\n",
      "('Abalkina A, 2020, SCIENTOMETRICS', 'Le Maux B, 2019, RES POLICY', {'weight': 1, 'yearDiff': 1})\n",
      "('Abalkina A, 2020, SCIENTOMETRICS', 'Leff Nh, 1964, AM BEHAV SCI', {'weight': 1, 'yearDiff': 56})\n",
      "('Abalkina A, 2020, SCIENTOMETRICS', 'Leonard Cs, 2016, ECON TRANSIT', {'weight': 1, 'yearDiff': 4})\n",
      "('Abalkina A, 2020, SCIENTOMETRICS', 'Leontyeva E, 2016, EUROPEAN J HIGHER ED', {'weight': 1, 'yearDiff': 4})\n",
      "('Abalkina A, 2020, SCIENTOMETRICS', 'Libman A, 2018, RUSS POLIT', {'weight': 1, 'yearDiff': 2})\n",
      "('Abalkina A, 2020, SCIENTOMETRICS', 'Libman A, 2016, CONSEQUENCES INFORMA', {'weight': 1, 'yearDiff': 4})\n",
      "('Abalkina A, 2020, SCIENTOMETRICS', 'Libman A, 2019, POST-COMMUNIST ECON', {'weight': 1, 'yearDiff': 1})\n",
      "('Abalkina A, 2020, SCIENTOMETRICS', 'Libman A, 2015, POLIT STUD-LONDON', {'weight': 1, 'yearDiff': 5})\n",
      "('Abalkina A, 2020, SCIENTOMETRICS', 'Lovett-Hooper G, 2007, ETHICS BEHAV', {'weight': 1, 'yearDiff': 13})\n",
      "('Abalkina A, 2020, SCIENTOMETRICS', 'Maddox J, 1995, NATURE', {'weight': 1, 'yearDiff': 25})\n",
      "('Abalkina A, 2020, SCIENTOMETRICS', 'Mahoney J, 1999, STUD COMP INT DEV', {'weight': 1, 'yearDiff': 21})\n",
      "('Abalkina A, 2020, SCIENTOMETRICS', 'Markussen T, 2017, J ECON BEHAV ORGAN', {'weight': 1, 'yearDiff': 3})\n",
      "('Abalkina A, 2020, SCIENTOMETRICS', 'Mercier M, 2016, J DEV ECON', {'weight': 1, 'yearDiff': 4})\n",
      "('Abalkina A, 2020, SCIENTOMETRICS', 'Michalek Am, 2010, PLOS MED', {'weight': 1, 'yearDiff': 10})\n",
      "('Abalkina A, 2020, SCIENTOMETRICS', 'Ministry Of Education And Science Of Rf, 2015, STAT SCI ED', {'weight': 1, 'yearDiff': 5})\n",
      "('Abalkina A, 2020, SCIENTOMETRICS', 'Mongeon P, 2016, J ASSOC INF SCI TECH', {'weight': 1, 'yearDiff': 4})\n",
      "('Abalkina A, 2020, SCIENTOMETRICS', 'Morgan Sl, 2015, ANAL METHOD SOC RES', {'weight': 1, 'yearDiff': 5})\n",
      "('Abalkina A, 2020, SCIENTOMETRICS', 'Moss Sa, 2018, ETHICS BEHAV', {'weight': 1, 'yearDiff': 2})\n",
      "('Abalkina A, 2020, SCIENTOMETRICS', 'Nagirnaya A V, 2015, REGIONAL RES RUSSIA', {'weight': 1, 'yearDiff': 5})\n",
      "('Abalkina A, 2020, SCIENTOMETRICS', 'Nair S, 2017, POLICY POLIT', {'weight': 1, 'yearDiff': 3})\n",
      "('Abalkina A, 2020, SCIENTOMETRICS', 'Necker S, 2016, REV SOC ECON', {'weight': 1, 'yearDiff': 4})\n",
      "('Abalkina A, 2020, SCIENTOMETRICS', 'Necker S, 2014, RES POLICY', {'weight': 1, 'yearDiff': 6})\n",
      "('Abalkina A, 2020, SCIENTOMETRICS', 'Neumeier F, 2018, ECON INQ', {'weight': 1, 'yearDiff': 2})\n",
      "('Abalkina A, 2020, SCIENTOMETRICS', 'Neyfakh L, 2016, SLATE', {'weight': 1, 'yearDiff': 4})\n",
      "('Abalkina A, 2020, SCIENTOMETRICS', 'Obydenkova A, 2015, POST-SOV AFF', {'weight': 1, 'yearDiff': 5})\n",
      "('Abalkina A, 2020, SCIENTOMETRICS', 'Olson M, 1993, AM POLIT SCI REV', {'weight': 1, 'yearDiff': 27})\n",
      "('Abalkina A, 2020, SCIENTOMETRICS', 'Orlova Av, 2017, J DEV SOC', {'weight': 1, 'yearDiff': 3})\n",
      "('Abalkina A, 2020, SCIENTOMETRICS', 'Orosz G, 2016, LEARN INDIVID DIFFER', {'weight': 1, 'yearDiff': 4})\n",
      "('Abalkina A, 2020, SCIENTOMETRICS', 'Orosz G, 2013, FRONT PSYCHOL', {'weight': 1, 'yearDiff': 7})\n",
      "('Abalkina A, 2020, SCIENTOMETRICS', 'Osipian A, 2010, DEMOKRATIZATSIYA J P', {'weight': 1, 'yearDiff': 10})\n",
      "('Abalkina A, 2020, SCIENTOMETRICS', 'Osipian Al, 2017, INSIDE HIGHER ED', {'weight': 1, 'yearDiff': 3})\n",
      "('Abalkina A, 2020, SCIENTOMETRICS', 'Osipian Al, 2012, ECON EDUC REV', {'weight': 1, 'yearDiff': 8})\n",
      "('Abalkina A, 2020, SCIENTOMETRICS', 'Oushakine Sa, 2000, THEOR CULT SOC', {'weight': 1, 'yearDiff': 20})\n",
      "('Abalkina A, 2020, SCIENTOMETRICS', 'Paneyakh E, 2014, SOCIAL SCI', {'weight': 1, 'yearDiff': 6})\n",
      "('Abalkina A, 2020, SCIENTOMETRICS', 'Park C, 2003, ASSESS EVAL HIGH EDU', {'weight': 1, 'yearDiff': 17})\n",
      "('Abalkina A, 2020, SCIENTOMETRICS', 'Pavroz A, 2017, COMMUNIS POST-COMMUN', {'weight': 1, 'yearDiff': 3})\n",
      "('Abalkina A, 2020, SCIENTOMETRICS', 'Pickard H, 2021, KYKLOS', {'weight': 1, 'yearDiff': 1})\n",
      "('Abalkina A, 2020, SCIENTOMETRICS', 'Quandt Re, 2012, EUR J LAW ECON', {'weight': 1, 'yearDiff': 8})\n",
      "('Abalkina A, 2020, SCIENTOMETRICS', 'Ravanilla N, 2016, WORKING PAPER', {'weight': 1, 'yearDiff': 4})\n",
      "('Abalkina A, 2020, SCIENTOMETRICS', 'Reuter Oj, 2012, J POLIT', {'weight': 1, 'yearDiff': 8})\n",
      "('Abalkina A, 2020, SCIENTOMETRICS', 'Rochlitz M, 2015, EURASIAN GEOGR ECON', {'weight': 1, 'yearDiff': 5})\n",
      "('Abalkina A, 2020, SCIENTOMETRICS', 'Ruske R, 2015, KYKLOS', {'weight': 1, 'yearDiff': 5})\n",
      "('Abalkina A, 2020, SCIENTOMETRICS', 'Sattler S, 2013, DEVIANT BEHAV', {'weight': 1, 'yearDiff': 7})\n",
      "('Abalkina A, 2020, SCIENTOMETRICS', 'Sharafutdinova G, 2018, RUSSIAN POLITICS', {'weight': 1, 'yearDiff': 2})\n",
      "('Abalkina A, 2020, SCIENTOMETRICS', 'Sharafutdinova G, 2017, ECON TRANSIT', {'weight': 1, 'yearDiff': 3})\n",
      "('Abalkina A, 2020, SCIENTOMETRICS', 'Sheffer L, 2018, AM POLIT SCI REV', {'weight': 1, 'yearDiff': 2})\n",
      "('Abalkina A, 2020, SCIENTOMETRICS', 'Shleifer A, 1993, Q J ECON', {'weight': 1, 'yearDiff': 27})\n",
      "('Abalkina A, 2020, SCIENTOMETRICS', 'Shpilkin S, 2011, TROITSKIY VARIANT', {'weight': 1, 'yearDiff': 9})\n",
      "('Abalkina A, 2020, SCIENTOMETRICS', 'Shpilkin S, 2009, TROITSKIY VARIANT', {'weight': 1, 'yearDiff': 11})\n",
      "('Abalkina A, 2020, SCIENTOMETRICS', 'Sisti Da, 2007, ETHICS BEHAV', {'weight': 1, 'yearDiff': 13})\n",
      "('Abalkina A, 2020, SCIENTOMETRICS', 'Sokolov M, 2009, LABORATORIUM', {'weight': 1, 'yearDiff': 11})\n",
      "('Abalkina A, 2020, SCIENTOMETRICS', 'Stadelmann D, 2015, J ECON BEHAV ORGAN', {'weight': 1, 'yearDiff': 5})\n",
      "('Abalkina A, 2020, SCIENTOMETRICS', 'Teixeira Aac, 2013, J ACAD ETHICS', {'weight': 1, 'yearDiff': 7})\n",
      "('Abalkina A, 2020, SCIENTOMETRICS', 'Tudoroiu T, 2017, EUR REV', {'weight': 1, 'yearDiff': 3})\n",
      "('Abalkina A, 2020, SCIENTOMETRICS', 'Vollan B, 2020, SCI ADV', {'weight': 1, 'yearDiff': 0})\n",
      "('Abalkina A, 2020, SCIENTOMETRICS', 'Walker J, 1998, HIGHER ED RES DEV', {'weight': 1, 'yearDiff': 22})\n",
      "('Abalkina A, 2020, SCIENTOMETRICS', 'Weinberg J, 2021, BRIT J POLIT SCI', {'weight': 1, 'yearDiff': 1})\n",
      "('Abalkina A, 2020, SCIENTOMETRICS', 'Wendt Ae, 1987, INT ORGAN', {'weight': 1, 'yearDiff': 33})\n",
      "('Abalkina A, 2020, SCIENTOMETRICS', 'Williams Km, 2010, J EXP PSYCHOL-APPL', {'weight': 1, 'yearDiff': 10})\n",
      "('Abalkina A, 2020, SCIENTOMETRICS', 'Woessner Mc, 2004, PS-POLIT SCI POLIT', {'weight': 1, 'yearDiff': 16})\n",
      "('Abalkina A, 2020, SCIENTOMETRICS', 'Zayakin A, 2016, NOVAYA GAZETA', {'weight': 1, 'yearDiff': 4})\n",
      "('Abalkina A, 2020, SCIENTOMETRICS', 'Zweynert J, 2017, IDEAS FAIL EC FAILUR', {'weight': 1, 'yearDiff': 3})\n"
     ]
    }
   ],
   "source": [
    "for i in document_cite_1.edges.data():\n",
    "    if 'Abalkina A' in i[0]:\n",
    "        print(i)"
   ]
  },
  {
   "cell_type": "code",
   "execution_count": 67,
   "metadata": {},
   "outputs": [
    {
     "name": "stdout",
     "output_type": "stream",
     "text": [
      "('Abalkina A, 2016, TROITSKIY VARIANT', 'Abalkina A, 2020, SCIENTOMETRICS', {'weight': 1, 'yearDiff': 4})\n",
      "('Abalkina A, 2018, TROITSKIY VARIANT', 'Abalkina A, 2020, SCIENTOMETRICS', {'weight': 1, 'yearDiff': 2})\n"
     ]
    }
   ],
   "source": [
    "for i in document_cite_2.edges.data():\n",
    "    if 'Abalkina A' in i[0]:\n",
    "        print(i)\n",
    "#只有上面的两个内容"
   ]
  },
  {
   "cell_type": "markdown",
   "metadata": {},
   "source": [
    "故在使用参数时该参数默认recordToCite=True不动"
   ]
  },
  {
   "cell_type": "markdown",
   "metadata": {},
   "source": [
    "## 13.测试  detailedCore参数"
   ]
  },
  {
   "cell_type": "code",
   "execution_count": 68,
   "metadata": {},
   "outputs": [
    {
     "name": "stdout",
     "output_type": "stream",
     "text": [
      "Nodes: 29233\n",
      "Edges: 37255\n",
      "Isolates: 0\n",
      "Self loops: 22\n",
      "Density: 4.35966E-05\n",
      "Transitivity: 0.000253465\n"
     ]
    }
   ],
   "source": [
    "document_cite = RC2021.networkCitation(detailedCore=False)\n",
    "print(mk.graphStats(document_cite))"
   ]
  },
  {
   "cell_type": "code",
   "execution_count": 69,
   "metadata": {},
   "outputs": [
    {
     "data": {
      "text/plain": [
       "('Nicolaisen J, 2021, SCIENTOMETRICS',\n",
       " {'info': 'Nicolaisen J, 2021, SCIENTOMETRICS, V126, P259', 'count': 1})"
      ]
     },
     "execution_count": 69,
     "metadata": {},
     "output_type": "execute_result"
    }
   ],
   "source": [
    "list(document_cite.nodes.data())[0]"
   ]
  },
  {
   "cell_type": "code",
   "execution_count": 70,
   "metadata": {},
   "outputs": [
    {
     "name": "stdout",
     "output_type": "stream",
     "text": [
      "Nodes: 29233\n",
      "Edges: 37255\n",
      "Isolates: 0\n",
      "Self loops: 22\n",
      "Density: 4.35966E-05\n",
      "Transitivity: 0.000253465\n"
     ]
    }
   ],
   "source": [
    "document_cite = RC2021.networkCitation(detailedCore=True)\n",
    "print(mk.graphStats(document_cite))"
   ]
  },
  {
   "cell_type": "code",
   "execution_count": 71,
   "metadata": {},
   "outputs": [
    {
     "data": {
      "text/plain": [
       "('Nicolaisen J, 2021, SCIENTOMETRICS',\n",
       " {'MK-ID': 'WOS:000584966700001',\n",
       "  'info': 'WOS:000584966700001, Nicolaisen Jeppe, Number of references: a large-scale study of interval ratios, SCIENTOMETRICS, 126, 259',\n",
       "  'inCore': True,\n",
       "  'count': 1})"
      ]
     },
     "execution_count": 71,
     "metadata": {},
     "output_type": "execute_result"
    }
   ],
   "source": [
    "list(document_cite.nodes.data())[0]"
   ]
  },
  {
   "cell_type": "code",
   "execution_count": 72,
   "metadata": {},
   "outputs": [
    {
     "name": "stdout",
     "output_type": "stream",
     "text": [
      "Nodes: 29233\n",
      "Edges: 37255\n",
      "Isolates: 0\n",
      "Self loops: 22\n",
      "Density: 4.35966E-05\n",
      "Transitivity: 0.000253465\n"
     ]
    }
   ],
   "source": [
    "document_cite = RC2021.networkCitation(detailedCore=['AF', 'PY', 'TI', 'SO', 'VL', 'BP'])\n",
    "print(mk.graphStats(document_cite))"
   ]
  },
  {
   "cell_type": "code",
   "execution_count": 73,
   "metadata": {},
   "outputs": [
    {
     "data": {
      "text/plain": [
       "('Nicolaisen J, 2021, SCIENTOMETRICS',\n",
       " {'MK-ID': 'WOS:000584966700001',\n",
       "  'info': 'Nicolaisen Jeppe, Number of references: a large-scale study of interval ratios, SCIENTOMETRICS, 126, 259',\n",
       "  'inCore': True,\n",
       "  'count': 1})"
      ]
     },
     "execution_count": 73,
     "metadata": {},
     "output_type": "execute_result"
    }
   ],
   "source": [
    "list(document_cite.nodes.data())[0]"
   ]
  },
  {
   "cell_type": "code",
   "execution_count": 74,
   "metadata": {},
   "outputs": [
    {
     "name": "stdout",
     "output_type": "stream",
     "text": [
      "Nodes: 29233\n",
      "Edges: 37255\n",
      "Isolates: 0\n",
      "Self loops: 22\n",
      "Density: 4.35966E-05\n",
      "Transitivity: 0.000253465\n"
     ]
    }
   ],
   "source": [
    "document_cite = RC2021.networkCitation(detailedCore=[ 'TI', 'SO', 'VL', 'BP'])\n",
    "print(mk.graphStats(document_cite))"
   ]
  },
  {
   "cell_type": "code",
   "execution_count": 75,
   "metadata": {},
   "outputs": [
    {
     "data": {
      "text/plain": [
       "('Nicolaisen J, 2021, SCIENTOMETRICS',\n",
       " {'MK-ID': 'WOS:000584966700001',\n",
       "  'info': 'Number of references: a large-scale study of interval ratios, SCIENTOMETRICS, 126, 259',\n",
       "  'inCore': True,\n",
       "  'count': 1})"
      ]
     },
     "execution_count": 75,
     "metadata": {},
     "output_type": "execute_result"
    }
   ],
   "source": [
    "list(document_cite.nodes.data())[0]\n",
    "#可以控制info属性中的内容输出"
   ]
  },
  {
   "cell_type": "markdown",
   "metadata": {},
   "source": [
    "## 14. 测试detailedCoreAttributes参数"
   ]
  },
  {
   "cell_type": "code",
   "execution_count": 76,
   "metadata": {},
   "outputs": [
    {
     "name": "stdout",
     "output_type": "stream",
     "text": [
      "Nodes: 29233\n",
      "Edges: 37255\n",
      "Isolates: 0\n",
      "Self loops: 22\n",
      "Density: 4.35966E-05\n",
      "Transitivity: 0.000253465\n"
     ]
    }
   ],
   "source": [
    "document_cite = RC2021.networkCitation(detailedCoreAttributes=True)\n",
    "print(mk.graphStats(document_cite))"
   ]
  },
  {
   "cell_type": "code",
   "execution_count": 77,
   "metadata": {},
   "outputs": [
    {
     "data": {
      "text/plain": [
       "('Nicolaisen J, 2021, SCIENTOMETRICS',\n",
       " {'MK-ID': 'WOS:000584966700001',\n",
       "  'id': 'WOS:000584966700001',\n",
       "  'authorsFull': 'Frandsen, Tove Faber|Nicolaisen, Jeppe',\n",
       "  'year': 2021,\n",
       "  'title': 'Number of references: a large-scale study of interval ratios',\n",
       "  'journal': 'SCIENTOMETRICS',\n",
       "  'volume': '126',\n",
       "  'beginningPage': '259',\n",
       "  'inCore': True,\n",
       "  'count': 1})"
      ]
     },
     "execution_count": 77,
     "metadata": {},
     "output_type": "execute_result"
    }
   ],
   "source": [
    "list(document_cite.nodes.data())[0]\n",
    "#使用True，生成的节点属性内容更加丰富"
   ]
  },
  {
   "cell_type": "code",
   "execution_count": 78,
   "metadata": {},
   "outputs": [
    {
     "name": "stdout",
     "output_type": "stream",
     "text": [
      "Nodes: 29233\n",
      "Edges: 37255\n",
      "Isolates: 0\n",
      "Self loops: 22\n",
      "Density: 4.35966E-05\n",
      "Transitivity: 0.000253465\n"
     ]
    }
   ],
   "source": [
    "document_cite = RC2021.networkCitation(detailedCoreAttributes=False)\n",
    "print(mk.graphStats(document_cite))"
   ]
  },
  {
   "cell_type": "code",
   "execution_count": 79,
   "metadata": {},
   "outputs": [
    {
     "data": {
      "text/plain": [
       "('Nicolaisen J, 2021, SCIENTOMETRICS',\n",
       " {'MK-ID': 'WOS:000584966700001',\n",
       "  'info': 'WOS:000584966700001, Nicolaisen Jeppe, Number of references: a large-scale study of interval ratios, SCIENTOMETRICS, 126, 259',\n",
       "  'inCore': True,\n",
       "  'count': 1})"
      ]
     },
     "execution_count": 79,
     "metadata": {},
     "output_type": "execute_result"
    }
   ],
   "source": [
    "list(document_cite.nodes.data())[0]"
   ]
  },
  {
   "cell_type": "markdown",
   "metadata": {},
   "source": [
    "## 15.测试expandedCore参数"
   ]
  },
  {
   "cell_type": "code",
   "execution_count": 80,
   "metadata": {},
   "outputs": [
    {
     "name": "stdout",
     "output_type": "stream",
     "text": [
      "Nodes: 29233\n",
      "Edges: 37255\n",
      "Isolates: 0\n",
      "Self loops: 22\n",
      "Density: 4.35966E-05\n",
      "Transitivity: 0.000253465\n"
     ]
    }
   ],
   "source": [
    "document_cite = RC2021.networkCitation(expandedCore=False)\n",
    "print(mk.graphStats(document_cite))"
   ]
  },
  {
   "cell_type": "code",
   "execution_count": 81,
   "metadata": {},
   "outputs": [
    {
     "name": "stdout",
     "output_type": "stream",
     "text": [
      "Nodes: 30538\n",
      "Edges: 135333\n",
      "Isolates: 0\n",
      "Self loops: 1385\n",
      "Density: 0.000145123\n",
      "Transitivity: 0.0280385\n"
     ]
    }
   ],
   "source": [
    "document_cite = RC2021.networkCitation(expandedCore=True)\n",
    "print(mk.graphStats(document_cite))\n",
    "#当指定为True，其它参数默认或者NodeType参数设置为：\"full\", \"original\"or \"author\"时，在网络数据集中的节点会进行重复"
   ]
  },
  {
   "cell_type": "markdown",
   "metadata": {},
   "source": [
    "## 16._quiet参数\n",
    "\n",
    "该参数在使用手册中也没有进行介绍"
   ]
  },
  {
   "cell_type": "code",
   "execution_count": 82,
   "metadata": {},
   "outputs": [
    {
     "name": "stdout",
     "output_type": "stream",
     "text": [
      "Nodes: 29233\n",
      "Edges: 37255\n",
      "Isolates: 0\n",
      "Self loops: 22\n",
      "Density: 4.35966E-05\n",
      "Transitivity: 0.000253465\n"
     ]
    }
   ],
   "source": [
    "document_cite = RC2021.networkCitation(_quiet=False)\n",
    "print(mk.graphStats(document_cite))"
   ]
  },
  {
   "cell_type": "code",
   "execution_count": 83,
   "metadata": {},
   "outputs": [
    {
     "data": {
      "text/plain": [
       "('Nicolaisen J, 2021, SCIENTOMETRICS',\n",
       " {'MK-ID': 'WOS:000584966700001',\n",
       "  'info': 'WOS:000584966700001, Nicolaisen Jeppe, Number of references: a large-scale study of interval ratios, SCIENTOMETRICS, 126, 259',\n",
       "  'inCore': True,\n",
       "  'count': 1})"
      ]
     },
     "execution_count": 83,
     "metadata": {},
     "output_type": "execute_result"
    }
   ],
   "source": [
    "list(document_cite.nodes.data())[0]"
   ]
  },
  {
   "cell_type": "code",
   "execution_count": 84,
   "metadata": {},
   "outputs": [
    {
     "data": {
      "text/plain": [
       "('Nicolaisen J, 2021, SCIENTOMETRICS',\n",
       " 'Abt Ha, 2002, J AM SOC INF SCI TEC',\n",
       " {'weight': 1, 'yearDiff': 19})"
      ]
     },
     "execution_count": 84,
     "metadata": {},
     "output_type": "execute_result"
    }
   ],
   "source": [
    "list(document_cite.edges.data())[0]"
   ]
  },
  {
   "cell_type": "code",
   "execution_count": 85,
   "metadata": {},
   "outputs": [
    {
     "name": "stdout",
     "output_type": "stream",
     "text": [
      "Nodes: 29233\n",
      "Edges: 37255\n",
      "Isolates: 0\n",
      "Self loops: 22\n",
      "Density: 4.35966E-05\n",
      "Transitivity: 0.000253465\n"
     ]
    }
   ],
   "source": [
    "document_cite = RC2021.networkCitation(_quiet=True)\n",
    "print(mk.graphStats(document_cite))\n",
    "#输出的网络数据集信息一致"
   ]
  },
  {
   "cell_type": "code",
   "execution_count": 86,
   "metadata": {},
   "outputs": [
    {
     "data": {
      "text/plain": [
       "('Nicolaisen J, 2021, SCIENTOMETRICS',\n",
       " {'MK-ID': 'WOS:000584966700001',\n",
       "  'info': 'WOS:000584966700001, Nicolaisen Jeppe, Number of references: a large-scale study of interval ratios, SCIENTOMETRICS, 126, 259',\n",
       "  'inCore': True,\n",
       "  'count': 1})"
      ]
     },
     "execution_count": 86,
     "metadata": {},
     "output_type": "execute_result"
    }
   ],
   "source": [
    "list(document_cite.nodes.data())[0]\n",
    "#生成的节点信息也是一致"
   ]
  },
  {
   "cell_type": "code",
   "execution_count": 87,
   "metadata": {},
   "outputs": [
    {
     "data": {
      "text/plain": [
       "('Nicolaisen J, 2021, SCIENTOMETRICS',\n",
       " 'Abt Ha, 2002, J AM SOC INF SCI TEC',\n",
       " {'weight': 1, 'yearDiff': 19})"
      ]
     },
     "execution_count": 87,
     "metadata": {},
     "output_type": "execute_result"
    }
   ],
   "source": [
    "list(document_cite.edges.data())[0]\n",
    "#输出的连线信息也是一致"
   ]
  },
  {
   "cell_type": "markdown",
   "metadata": {},
   "source": [
    "因此需要查看源代码文档，该参数作为和mk.VERBOSE_MODE配合判断条件，改变的是progKwargs字典中的dummy属性\n",
    "   \n",
    "    * progKwargs = {'dummy' : True} or progKwargs = {'dummy' : False}\n",
    "\n",
    "不会改变网络数据集的大小以及节点和连线的属性"
   ]
  },
  {
   "cell_type": "code",
   "execution_count": 88,
   "metadata": {},
   "outputs": [
    {
     "data": {
      "text/plain": [
       "False"
      ]
     },
     "execution_count": 88,
     "metadata": {},
     "output_type": "execute_result"
    }
   ],
   "source": [
    "mk.VERBOSE_MODE"
   ]
  },
  {
   "cell_type": "code",
   "execution_count": null,
   "metadata": {},
   "outputs": [],
   "source": []
  }
 ],
 "metadata": {
  "kernelspec": {
   "display_name": "Python 3",
   "language": "python",
   "name": "python3"
  },
  "language_info": {
   "codemirror_mode": {
    "name": "ipython",
    "version": 3
   },
   "file_extension": ".py",
   "mimetype": "text/x-python",
   "name": "python",
   "nbconvert_exporter": "python",
   "pygments_lexer": "ipython3",
   "version": "3.8.3"
  }
 },
 "nbformat": 4,
 "nbformat_minor": 4
}
