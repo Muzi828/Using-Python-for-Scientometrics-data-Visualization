{
 "cells": [
  {
   "cell_type": "code",
   "execution_count": 1,
   "metadata": {},
   "outputs": [],
   "source": [
    "import metaknowledge as mk\n",
    "\n",
    "import warnings\n",
    "warnings.filterwarnings(\"ignore\")\n",
    "\n",
    "\n",
    "RC = mk.RecordCollection(r'D:\\python科学计量可视化\\数据\\Demo data\\Python-Wos', cached = True)\n",
    "RC2021 = RC.yearSplit(2020,2021)"
   ]
  },
  {
   "cell_type": "markdown",
   "metadata": {},
   "source": [
    "RC.networkMultiLevel()中的参数解释：\n",
    "    创建一个由任意数量的标签组成的网络，网络中的边是基于所有共现的值形成。如果你只想要不同标签的共现值之间的边，请使用networkMultiMode()方法 。\n",
    "\n",
    "    注意：不要将其用于构建共引网络。请使用RC.networkCoCitation()，它更准确，有更多选项。\n",
    "    \n",
    "    * *modes: [str]数据类型。两个字符的WOS标签或标签的全名；\n",
    "    * nodeCount: [bool]数据类型。默认是'True',对节点进行计数，节点数据中增加count属性；\n",
    "    * edgeWeight: [bool]数据类型。默认是'True',对连线进行加权，连线数据汇总增加weight属性；\n",
    "    * stemmer: 和RC.networkOneMode()中的stemmer参数功能一致，作用于tag；\n",
    "    * edgeAttribute: 默认None即可；\n",
    "    * nodeAttribute: 默认为None即可,可以任意指定一个字符串，会在生成网络数据集中添加该字符串属性，但是该属性没有进行计算；\n",
    "    * _networkTypeString: [str]数据类型，默认为'n-level network',该参数不影响网络图数据中的节点和连线信息。"
   ]
  },
  {
   "cell_type": "markdown",
   "metadata": {},
   "source": [
    "## 1. 测试*modes参数"
   ]
  },
  {
   "cell_type": "code",
   "execution_count": 2,
   "metadata": {},
   "outputs": [
    {
     "name": "stdout",
     "output_type": "stream",
     "text": [
      "Nodes: 1894\n",
      "Edges: 4993\n",
      "Isolates: 0\n",
      "Self loops: 0\n",
      "Density: 0.00278523\n",
      "Transitivity: 0.0191886\n"
     ]
    }
   ],
   "source": [
    "multi_level = RC2021.networkMultiLevel('AF','SO')\n",
    "print(mk.graphStats(multi_level))\n",
    "\n",
    "# Creates a network of the objects found by any number of tags _modes_, with edges between all co-occurring values. \n",
    "# IF you only want edges between co-occurring values from different tags use [networkMultiMode()]\n",
    "#A networkx Graph with the objects of the tag _mode_ as nodes and their co-occurrences as edges"
   ]
  },
  {
   "cell_type": "code",
   "execution_count": 3,
   "metadata": {},
   "outputs": [
    {
     "name": "stdout",
     "output_type": "stream",
     "text": [
      "Nodes: 1894\n",
      "Edges: 1989\n",
      "Isolates: 0\n",
      "Self loops: 0\n",
      "Density: 0.00110952\n",
      "Transitivity: 0\n"
     ]
    }
   ],
   "source": [
    "multi_mode = RC2021.networkMultiMode('AF','SO')\n",
    "print(mk.graphStats(multi_mode))\n",
    "\n",
    "#Creates a network of the objects found by all tags in _tags_, \n",
    "# each node is marked by which tag spawned it making the resultant graph n-partite.\n",
    "#A networkx Graph with the objects of the tags _tags_ as nodes and their co-occurrences as edges"
   ]
  },
  {
   "cell_type": "markdown",
   "metadata": {},
   "source": [
    "相当于MultiLevel要比MultiMode中的连线更多一些,如果都是指定单一作者的标签，一下三种方法输出的结果一致"
   ]
  },
  {
   "cell_type": "code",
   "execution_count": 4,
   "metadata": {},
   "outputs": [
    {
     "name": "stdout",
     "output_type": "stream",
     "text": [
      "Nodes: 1891\n",
      "Edges: 3004\n",
      "Isolates: 101\n",
      "Self loops: 0\n",
      "Density: 0.00168103\n",
      "Transitivity: 0.819325\n"
     ]
    }
   ],
   "source": [
    "multi_level = RC2021.networkMultiLevel('AF')\n",
    "print(mk.graphStats(multi_level))"
   ]
  },
  {
   "cell_type": "code",
   "execution_count": 5,
   "metadata": {},
   "outputs": [
    {
     "name": "stdout",
     "output_type": "stream",
     "text": [
      "Nodes: 1891\n",
      "Edges: 3004\n",
      "Isolates: 101\n",
      "Self loops: 0\n",
      "Density: 0.00168103\n",
      "Transitivity: 0.819325\n"
     ]
    }
   ],
   "source": [
    "one_mode = RC2021.networkOneMode('AF')\n",
    "print(mk.graphStats(one_mode))"
   ]
  },
  {
   "cell_type": "code",
   "execution_count": 6,
   "metadata": {},
   "outputs": [
    {
     "name": "stdout",
     "output_type": "stream",
     "text": [
      "Nodes: 1891\n",
      "Edges: 3004\n",
      "Isolates: 101\n",
      "Self loops: 0\n",
      "Density: 0.00168103\n",
      "Transitivity: 0.819325\n"
     ]
    }
   ],
   "source": [
    "coauth= RC2021.networkCoAuthor()\n",
    "print(mk.graphStats(coauth))"
   ]
  },
  {
   "cell_type": "markdown",
   "metadata": {},
   "source": [
    "## 2. 测试nodeCount参数"
   ]
  },
  {
   "cell_type": "code",
   "execution_count": 7,
   "metadata": {},
   "outputs": [
    {
     "name": "stdout",
     "output_type": "stream",
     "text": [
      "Nodes: 1891\n",
      "Edges: 3004\n",
      "Isolates: 101\n",
      "Self loops: 0\n",
      "Density: 0.00168103\n",
      "Transitivity: 0.819325\n"
     ]
    }
   ],
   "source": [
    "multi_level = RC2021.networkMultiLevel('AF',nodeCount=True)\n",
    "print(mk.graphStats(multi_level))"
   ]
  },
  {
   "cell_type": "code",
   "execution_count": 8,
   "metadata": {},
   "outputs": [
    {
     "data": {
      "text/plain": [
       "('Zhang, Yu', {'count': 2})"
      ]
     },
     "execution_count": 8,
     "metadata": {},
     "output_type": "execute_result"
    }
   ],
   "source": [
    "list(multi_level.nodes.data())[0]"
   ]
  },
  {
   "cell_type": "code",
   "execution_count": 9,
   "metadata": {},
   "outputs": [
    {
     "name": "stdout",
     "output_type": "stream",
     "text": [
      "Nodes: 1891\n",
      "Edges: 3004\n",
      "Isolates: 101\n",
      "Self loops: 0\n",
      "Density: 0.00168103\n",
      "Transitivity: 0.819325\n"
     ]
    }
   ],
   "source": [
    "multi_level = RC2021.networkMultiLevel('AF',nodeCount=False)\n",
    "print(mk.graphStats(multi_level))"
   ]
  },
  {
   "cell_type": "code",
   "execution_count": 10,
   "metadata": {},
   "outputs": [
    {
     "data": {
      "text/plain": [
       "('Zhang, Yu', {})"
      ]
     },
     "execution_count": 10,
     "metadata": {},
     "output_type": "execute_result"
    }
   ],
   "source": [
    "list(multi_level.nodes.data())[0]"
   ]
  },
  {
   "cell_type": "markdown",
   "metadata": {},
   "source": [
    "## 3. 测试edgeWeight参数"
   ]
  },
  {
   "cell_type": "code",
   "execution_count": 11,
   "metadata": {},
   "outputs": [
    {
     "name": "stdout",
     "output_type": "stream",
     "text": [
      "Nodes: 1891\n",
      "Edges: 3004\n",
      "Isolates: 101\n",
      "Self loops: 0\n",
      "Density: 0.00168103\n",
      "Transitivity: 0.819325\n"
     ]
    }
   ],
   "source": [
    "multi_level = RC2021.networkMultiLevel('AF',edgeWeight=True)\n",
    "print(mk.graphStats(multi_level))"
   ]
  },
  {
   "cell_type": "code",
   "execution_count": 12,
   "metadata": {},
   "outputs": [
    {
     "data": {
      "text/plain": [
       "('Zhang, Yu', 'Wang, Min', {'weight': 1})"
      ]
     },
     "execution_count": 12,
     "metadata": {},
     "output_type": "execute_result"
    }
   ],
   "source": [
    "list(multi_level.edges.data())[0]"
   ]
  },
  {
   "cell_type": "code",
   "execution_count": 13,
   "metadata": {},
   "outputs": [
    {
     "name": "stdout",
     "output_type": "stream",
     "text": [
      "Nodes: 1891\n",
      "Edges: 3004\n",
      "Isolates: 101\n",
      "Self loops: 0\n",
      "Density: 0.00168103\n",
      "Transitivity: 0.819325\n"
     ]
    }
   ],
   "source": [
    "multi_level = RC2021.networkMultiLevel('AF',edgeWeight=False)\n",
    "print(mk.graphStats(multi_level))"
   ]
  },
  {
   "cell_type": "code",
   "execution_count": 14,
   "metadata": {},
   "outputs": [
    {
     "data": {
      "text/plain": [
       "('Zhang, Yu', 'Wang, Min', {})"
      ]
     },
     "execution_count": 14,
     "metadata": {},
     "output_type": "execute_result"
    }
   ],
   "source": [
    "list(multi_level.edges.data())[0]"
   ]
  },
  {
   "cell_type": "markdown",
   "metadata": {},
   "source": [
    "## 4. 测试stemmer参数"
   ]
  },
  {
   "cell_type": "code",
   "execution_count": 15,
   "metadata": {},
   "outputs": [
    {
     "name": "stdout",
     "output_type": "stream",
     "text": [
      "Nodes: 28\n",
      "Edges: 336\n",
      "Isolates: 0\n",
      "Self loops: 24\n",
      "Density: 0.888889\n",
      "Transitivity: 0.894065\n"
     ]
    }
   ],
   "source": [
    "multi_level = RC2021.networkMultiLevel('AF',stemmer=lambda x:x[0])\n",
    "print(mk.graphStats(multi_level))"
   ]
  },
  {
   "cell_type": "code",
   "execution_count": 16,
   "metadata": {},
   "outputs": [
    {
     "data": {
      "text/plain": [
       "('Z', 'W', {'weight': 37})"
      ]
     },
     "execution_count": 16,
     "metadata": {},
     "output_type": "execute_result"
    }
   ],
   "source": [
    "list(multi_level.edges.data())[0]"
   ]
  },
  {
   "cell_type": "code",
   "execution_count": 17,
   "metadata": {},
   "outputs": [
    {
     "data": {
      "text/plain": [
       "('Z', {'count': 146})"
      ]
     },
     "execution_count": 17,
     "metadata": {},
     "output_type": "execute_result"
    }
   ],
   "source": [
    "list(multi_level.nodes.data())[0]"
   ]
  },
  {
   "cell_type": "markdown",
   "metadata": {},
   "source": [
    "## 5. 测试edgeAttribute参数"
   ]
  },
  {
   "cell_type": "code",
   "execution_count": 18,
   "metadata": {},
   "outputs": [
    {
     "ename": "NetworkXNotImplemented",
     "evalue": "not implemented for multigraph type",
     "output_type": "error",
     "traceback": [
      "\u001b[1;31m---------------------------------------------------------------------------\u001b[0m",
      "\u001b[1;31mNetworkXNotImplemented\u001b[0m                    Traceback (most recent call last)",
      "\u001b[1;32m<ipython-input-18-ada4729ba746>\u001b[0m in \u001b[0;36m<module>\u001b[1;34m\u001b[0m\n\u001b[0;32m      1\u001b[0m \u001b[0mmulti_level\u001b[0m \u001b[1;33m=\u001b[0m \u001b[0mRC2021\u001b[0m\u001b[1;33m.\u001b[0m\u001b[0mnetworkMultiLevel\u001b[0m\u001b[1;33m(\u001b[0m\u001b[1;34m'AF'\u001b[0m\u001b[1;33m,\u001b[0m\u001b[0medgeAttribute\u001b[0m\u001b[1;33m=\u001b[0m\u001b[1;34m'abc'\u001b[0m\u001b[1;33m)\u001b[0m\u001b[1;33m\u001b[0m\u001b[1;33m\u001b[0m\u001b[0m\n\u001b[1;32m----> 2\u001b[1;33m \u001b[0mprint\u001b[0m\u001b[1;33m(\u001b[0m\u001b[0mmk\u001b[0m\u001b[1;33m.\u001b[0m\u001b[0mgraphStats\u001b[0m\u001b[1;33m(\u001b[0m\u001b[0mmulti_level\u001b[0m\u001b[1;33m)\u001b[0m\u001b[1;33m)\u001b[0m\u001b[1;33m\u001b[0m\u001b[1;33m\u001b[0m\u001b[0m\n\u001b[0m",
      "\u001b[1;32mD:\\miniconda\\lib\\site-packages\\metaknowledge-3.4.1-py3.8.egg\\metaknowledge\\graphHelpers.py\u001b[0m in \u001b[0;36mgraphStats\u001b[1;34m(G, stats, makeString, sentenceString)\u001b[0m\n\u001b[0;32m    822\u001b[0m                 \u001b[0mstsData\u001b[0m\u001b[1;33m.\u001b[0m\u001b[0mappend\u001b[0m\u001b[1;33m(\u001b[0m\u001b[1;34m\"a transitivity of {:G}\"\u001b[0m\u001b[1;33m.\u001b[0m\u001b[0mformat\u001b[0m\u001b[1;33m(\u001b[0m\u001b[0mnx\u001b[0m\u001b[1;33m.\u001b[0m\u001b[0mtransitivity\u001b[0m\u001b[1;33m(\u001b[0m\u001b[0mG\u001b[0m\u001b[1;33m)\u001b[0m\u001b[1;33m)\u001b[0m\u001b[1;33m)\u001b[0m\u001b[1;33m\u001b[0m\u001b[1;33m\u001b[0m\u001b[0m\n\u001b[0;32m    823\u001b[0m             \u001b[1;32melse\u001b[0m\u001b[1;33m:\u001b[0m\u001b[1;33m\u001b[0m\u001b[1;33m\u001b[0m\u001b[0m\n\u001b[1;32m--> 824\u001b[1;33m                 \u001b[0mstsData\u001b[0m\u001b[1;33m.\u001b[0m\u001b[0mappend\u001b[0m\u001b[1;33m(\u001b[0m\u001b[1;34m\"Transitivity: {:G}\"\u001b[0m\u001b[1;33m.\u001b[0m\u001b[0mformat\u001b[0m\u001b[1;33m(\u001b[0m\u001b[0mnx\u001b[0m\u001b[1;33m.\u001b[0m\u001b[0mtransitivity\u001b[0m\u001b[1;33m(\u001b[0m\u001b[0mG\u001b[0m\u001b[1;33m)\u001b[0m\u001b[1;33m)\u001b[0m\u001b[1;33m)\u001b[0m\u001b[1;33m\u001b[0m\u001b[1;33m\u001b[0m\u001b[0m\n\u001b[0m\u001b[0;32m    825\u001b[0m         \u001b[1;32melse\u001b[0m\u001b[1;33m:\u001b[0m\u001b[1;33m\u001b[0m\u001b[1;33m\u001b[0m\u001b[0m\n\u001b[0;32m    826\u001b[0m             \u001b[0mstsData\u001b[0m\u001b[1;33m[\u001b[0m\u001b[1;34m'transitivity'\u001b[0m\u001b[1;33m]\u001b[0m \u001b[1;33m=\u001b[0m \u001b[0mnx\u001b[0m\u001b[1;33m.\u001b[0m\u001b[0mtransitivity\u001b[0m\u001b[1;33m(\u001b[0m\u001b[0mG\u001b[0m\u001b[1;33m)\u001b[0m\u001b[1;33m\u001b[0m\u001b[1;33m\u001b[0m\u001b[0m\n",
      "\u001b[1;32mD:\\miniconda\\lib\\site-packages\\networkx\\algorithms\\cluster.py\u001b[0m in \u001b[0;36mtransitivity\u001b[1;34m(G)\u001b[0m\n\u001b[0;32m    420\u001b[0m     \"\"\"\n\u001b[0;32m    421\u001b[0m     triangles_contri = [\n\u001b[1;32m--> 422\u001b[1;33m         \u001b[1;33m(\u001b[0m\u001b[0mt\u001b[0m\u001b[1;33m,\u001b[0m \u001b[0md\u001b[0m \u001b[1;33m*\u001b[0m \u001b[1;33m(\u001b[0m\u001b[0md\u001b[0m \u001b[1;33m-\u001b[0m \u001b[1;36m1\u001b[0m\u001b[1;33m)\u001b[0m\u001b[1;33m)\u001b[0m \u001b[1;32mfor\u001b[0m \u001b[0mv\u001b[0m\u001b[1;33m,\u001b[0m \u001b[0md\u001b[0m\u001b[1;33m,\u001b[0m \u001b[0mt\u001b[0m\u001b[1;33m,\u001b[0m \u001b[0m_\u001b[0m \u001b[1;32min\u001b[0m \u001b[0m_triangles_and_degree_iter\u001b[0m\u001b[1;33m(\u001b[0m\u001b[0mG\u001b[0m\u001b[1;33m)\u001b[0m\u001b[1;33m\u001b[0m\u001b[1;33m\u001b[0m\u001b[0m\n\u001b[0m\u001b[0;32m    423\u001b[0m     ]\n\u001b[0;32m    424\u001b[0m     \u001b[1;31m# If the graph is empty\u001b[0m\u001b[1;33m\u001b[0m\u001b[1;33m\u001b[0m\u001b[1;33m\u001b[0m\u001b[0m\n",
      "\u001b[1;32mD:\\miniconda\\lib\\site-packages\\networkx\\utils\\decorators.py\u001b[0m in \u001b[0;36margmap__triangles_and_degree_iter_1\u001b[1;34m(G, nodes)\u001b[0m\n\u001b[0;32m      1\u001b[0m \u001b[1;32mimport\u001b[0m \u001b[0mbz2\u001b[0m\u001b[1;33m\u001b[0m\u001b[1;33m\u001b[0m\u001b[0m\n\u001b[0;32m      2\u001b[0m \u001b[1;32mimport\u001b[0m \u001b[0mcollections\u001b[0m\u001b[1;33m\u001b[0m\u001b[1;33m\u001b[0m\u001b[0m\n\u001b[1;32m----> 3\u001b[1;33m \u001b[1;32mimport\u001b[0m \u001b[0mgzip\u001b[0m\u001b[1;33m\u001b[0m\u001b[1;33m\u001b[0m\u001b[0m\n\u001b[0m\u001b[0;32m      4\u001b[0m \u001b[1;32mimport\u001b[0m \u001b[0minspect\u001b[0m\u001b[1;33m\u001b[0m\u001b[1;33m\u001b[0m\u001b[0m\n\u001b[0;32m      5\u001b[0m \u001b[1;32mimport\u001b[0m \u001b[0mitertools\u001b[0m\u001b[1;33m\u001b[0m\u001b[1;33m\u001b[0m\u001b[0m\n",
      "\u001b[1;32mD:\\miniconda\\lib\\site-packages\\networkx\\utils\\decorators.py\u001b[0m in \u001b[0;36m_not_implemented_for\u001b[1;34m(g)\u001b[0m\n\u001b[0;32m     86\u001b[0m             \u001b[0mdval\u001b[0m \u001b[1;32mis\u001b[0m \u001b[1;32mNone\u001b[0m \u001b[1;32mor\u001b[0m \u001b[0mdval\u001b[0m \u001b[1;33m==\u001b[0m \u001b[0mg\u001b[0m\u001b[1;33m.\u001b[0m\u001b[0mis_directed\u001b[0m\u001b[1;33m(\u001b[0m\u001b[1;33m)\u001b[0m\u001b[1;33m\u001b[0m\u001b[1;33m\u001b[0m\u001b[0m\n\u001b[0;32m     87\u001b[0m         ):\n\u001b[1;32m---> 88\u001b[1;33m             \u001b[1;32mraise\u001b[0m \u001b[0mnx\u001b[0m\u001b[1;33m.\u001b[0m\u001b[0mNetworkXNotImplemented\u001b[0m\u001b[1;33m(\u001b[0m\u001b[0merrmsg\u001b[0m\u001b[1;33m)\u001b[0m\u001b[1;33m\u001b[0m\u001b[1;33m\u001b[0m\u001b[0m\n\u001b[0m\u001b[0;32m     89\u001b[0m \u001b[1;33m\u001b[0m\u001b[0m\n\u001b[0;32m     90\u001b[0m         \u001b[1;32mreturn\u001b[0m \u001b[0mg\u001b[0m\u001b[1;33m\u001b[0m\u001b[1;33m\u001b[0m\u001b[0m\n",
      "\u001b[1;31mNetworkXNotImplemented\u001b[0m: not implemented for multigraph type"
     ]
    }
   ],
   "source": [
    "multi_level = RC2021.networkMultiLevel('AF',edgeAttribute='abc')\n",
    "print(mk.graphStats(multi_level))"
   ]
  },
  {
   "cell_type": "markdown",
   "metadata": {},
   "source": [
    "## 6. 测试nodeAttribute参数"
   ]
  },
  {
   "cell_type": "code",
   "execution_count": 19,
   "metadata": {},
   "outputs": [
    {
     "name": "stdout",
     "output_type": "stream",
     "text": [
      "Nodes: 1891\n",
      "Edges: 3004\n",
      "Isolates: 101\n",
      "Self loops: 0\n",
      "Density: 0.00168103\n",
      "Transitivity: 0.819325\n"
     ]
    }
   ],
   "source": [
    "multi_level = RC2021.networkMultiLevel('AF',nodeAttribute='abc')\n",
    "print(mk.graphStats(multi_level))"
   ]
  },
  {
   "cell_type": "code",
   "execution_count": 20,
   "metadata": {},
   "outputs": [
    {
     "data": {
      "text/plain": [
       "('Zhang, Yu', {'count': 2, 'abc': []})"
      ]
     },
     "execution_count": 20,
     "metadata": {},
     "output_type": "execute_result"
    }
   ],
   "source": [
    "list(multi_level.nodes.data())[0]"
   ]
  },
  {
   "cell_type": "markdown",
   "metadata": {},
   "source": [
    "## 7. 测试_networkTypeString参数"
   ]
  },
  {
   "cell_type": "code",
   "execution_count": 21,
   "metadata": {},
   "outputs": [
    {
     "name": "stdout",
     "output_type": "stream",
     "text": [
      "Nodes: 1891\n",
      "Edges: 3004\n",
      "Isolates: 101\n",
      "Self loops: 0\n",
      "Density: 0.00168103\n",
      "Transitivity: 0.819325\n"
     ]
    }
   ],
   "source": [
    "multi_level = RC2021.networkMultiLevel('AF',_networkTypeString='abc')\n",
    "print(mk.graphStats(multi_level))"
   ]
  },
  {
   "cell_type": "code",
   "execution_count": 22,
   "metadata": {},
   "outputs": [
    {
     "data": {
      "text/plain": [
       "('Zhang, Yu', {'count': 2})"
      ]
     },
     "execution_count": 22,
     "metadata": {},
     "output_type": "execute_result"
    }
   ],
   "source": [
    "list(multi_level.nodes.data())[0]"
   ]
  },
  {
   "cell_type": "code",
   "execution_count": 23,
   "metadata": {},
   "outputs": [
    {
     "name": "stdout",
     "output_type": "stream",
     "text": [
      "Nodes: 1891\n",
      "Edges: 3004\n",
      "Isolates: 101\n",
      "Self loops: 0\n",
      "Density: 0.00168103\n",
      "Transitivity: 0.819325\n"
     ]
    }
   ],
   "source": [
    "multi_level = RC2021.networkMultiLevel('AF',_networkTypeString='123cqcads safdsas ')\n",
    "print(mk.graphStats(multi_level))\n",
    "#该参数是用作判断，不会改变网络图中的节点和连线"
   ]
  },
  {
   "cell_type": "code",
   "execution_count": null,
   "metadata": {},
   "outputs": [],
   "source": []
  }
 ],
 "metadata": {
  "kernelspec": {
   "display_name": "Python 3",
   "language": "python",
   "name": "python3"
  },
  "language_info": {
   "codemirror_mode": {
    "name": "ipython",
    "version": 3
   },
   "file_extension": ".py",
   "mimetype": "text/x-python",
   "name": "python",
   "nbconvert_exporter": "python",
   "pygments_lexer": "ipython3",
   "version": "3.8.3"
  }
 },
 "nbformat": 4,
 "nbformat_minor": 4
}
