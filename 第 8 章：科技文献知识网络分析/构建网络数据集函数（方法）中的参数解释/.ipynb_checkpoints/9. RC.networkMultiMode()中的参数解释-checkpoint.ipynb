{
 "cells": [
  {
   "cell_type": "code",
   "execution_count": 1,
   "metadata": {},
   "outputs": [],
   "source": [
    "import metaknowledge as mk\n",
    "\n",
    "import warnings\n",
    "warnings.filterwarnings(\"ignore\")\n",
    "\n",
    "\n",
    "RC = mk.RecordCollection(r'D:\\python科学计量可视化\\数据\\Demo data\\Python-Wos', cached = True)\n",
    "RC2021 = RC.yearSplit(2020,2021)"
   ]
  },
  {
   "cell_type": "markdown",
   "metadata": {},
   "source": [
    "RC.networkMultiMode()中的参数解释：\n",
    "\n",
    "    * *tags: str, str, str, ... or list[str]数据格式，以逗号分隔的标签字符串或者是标签列表\n",
    "    * recordType: [bool]数据类型。默认是'True',会在节点属性增加'type'，值就为第一个参数的tag； \n",
    "    * nodeCount: [bool]数据类型。默认是'True',对节点进行计数，节点数据中增加count属性；\n",
    "    * edgeWeight: [bool]数据类型。默认是'True',对连线进行加权，连线数据汇总增加weight属性；\n",
    "    * stemmer: 和RC.networkOneMode()中的stemmer参数功能一致，作用于第一个tag；\n",
    "    * edgeAttribute: 默认None即可。"
   ]
  },
  {
   "cell_type": "markdown",
   "metadata": {},
   "source": [
    "## 1. 测试*tag参数"
   ]
  },
  {
   "cell_type": "code",
   "execution_count": 2,
   "metadata": {},
   "outputs": [
    {
     "name": "stdout",
     "output_type": "stream",
     "text": [
      "Nodes: 14371\n",
      "Edges: 70797\n",
      "Isolates: 1122\n",
      "Self loops: 0\n",
      "Density: 0.000685648\n",
      "Transitivity: 0\n"
     ]
    }
   ],
   "source": [
    "multi_mode = RC.networkMultiMode('AF','ID')\n",
    "print(mk.graphStats(multi_mode))"
   ]
  },
  {
   "cell_type": "code",
   "execution_count": 3,
   "metadata": {},
   "outputs": [
    {
     "name": "stdout",
     "output_type": "stream",
     "text": [
      "Nodes: 14371\n",
      "Edges: 70797\n",
      "Isolates: 1122\n",
      "Self loops: 0\n",
      "Density: 0.000685648\n",
      "Transitivity: 0\n"
     ]
    }
   ],
   "source": [
    "multi_mode = RC.networkTwoMode('AF','ID')\n",
    "print(mk.graphStats(multi_mode))\n",
    "#结果一致，说明 RC.networkMultiMode()是支持二维的"
   ]
  },
  {
   "cell_type": "code",
   "execution_count": 4,
   "metadata": {},
   "outputs": [
    {
     "name": "stdout",
     "output_type": "stream",
     "text": [
      "Nodes: 9464\n",
      "Edges: 0\n",
      "Isolates: 9464\n",
      "Self loops: 0\n",
      "Density: 0\n",
      "Transitivity: 0\n"
     ]
    }
   ],
   "source": [
    "#甚至支持一维,使用手册中说明当只者字段时，建议不要使用Multi，就直接使用networkcoauthor()或者RC.networkOneMode\n",
    "multi_mode = RC.networkMultiMode('AF')\n",
    "print(mk.graphStats(multi_mode))"
   ]
  },
  {
   "cell_type": "code",
   "execution_count": 5,
   "metadata": {},
   "outputs": [
    {
     "name": "stdout",
     "output_type": "stream",
     "text": [
      "Nodes: 9464\n",
      "Edges: 17982\n",
      "Isolates: 431\n",
      "Self loops: 0\n",
      "Density: 0.000401573\n",
      "Transitivity: 0.472737\n"
     ]
    }
   ],
   "source": [
    "multi_mode = RC.networkOneMode('AF')\n",
    "print(mk.graphStats(multi_mode))"
   ]
  },
  {
   "cell_type": "code",
   "execution_count": 6,
   "metadata": {},
   "outputs": [
    {
     "name": "stdout",
     "output_type": "stream",
     "text": [
      "Nodes: 9464\n",
      "Edges: 17982\n",
      "Isolates: 431\n",
      "Self loops: 0\n",
      "Density: 0.000401573\n",
      "Transitivity: 0.472737\n"
     ]
    }
   ],
   "source": [
    "multi_mode = RC.networkCoAuthor(['AF'])\n",
    "print(mk.graphStats(multi_mode))"
   ]
  },
  {
   "cell_type": "markdown",
   "metadata": {},
   "source": [
    "换成SO看一下"
   ]
  },
  {
   "cell_type": "code",
   "execution_count": 7,
   "metadata": {},
   "outputs": [
    {
     "name": "stdout",
     "output_type": "stream",
     "text": [
      "Nodes: 2\n",
      "Edges: 1\n",
      "Isolates: 0\n",
      "Self loops: 0\n",
      "Density: 1\n",
      "Transitivity: 0\n"
     ]
    }
   ],
   "source": [
    "multi_mode = RC.networkOneMode('SC')\n",
    "print(mk.graphStats(multi_mode))"
   ]
  },
  {
   "cell_type": "code",
   "execution_count": 8,
   "metadata": {},
   "outputs": [
    {
     "name": "stdout",
     "output_type": "stream",
     "text": [
      "Nodes: 2\n",
      "Edges: 0\n",
      "Isolates: 2\n",
      "Self loops: 0\n",
      "Density: 0\n",
      "Transitivity: 0\n"
     ]
    }
   ],
   "source": [
    "multi_mode = RC.networkMultiMode('SC')\n",
    "print(mk.graphStats(multi_mode))\n",
    "#发现只当做一维来用是没有连线"
   ]
  },
  {
   "cell_type": "markdown",
   "metadata": {},
   "source": [
    "## 2. 测试recordType参数"
   ]
  },
  {
   "cell_type": "code",
   "execution_count": 9,
   "metadata": {},
   "outputs": [
    {
     "name": "stdout",
     "output_type": "stream",
     "text": [
      "Nodes: 14371\n",
      "Edges: 70797\n",
      "Isolates: 1122\n",
      "Self loops: 0\n",
      "Density: 0.000685648\n",
      "Transitivity: 0\n"
     ]
    }
   ],
   "source": [
    "multi_mode = RC.networkMultiMode('AF','ID',recordType=True)\n",
    "print(mk.graphStats(multi_mode))"
   ]
  },
  {
   "cell_type": "code",
   "execution_count": 10,
   "metadata": {},
   "outputs": [
    {
     "data": {
      "text/plain": [
       "('Liu, Yu', {'type': 'AF', 'count': 5})"
      ]
     },
     "execution_count": 10,
     "metadata": {},
     "output_type": "execute_result"
    }
   ],
   "source": [
    "list(multi_mode.nodes.data())[0]"
   ]
  },
  {
   "cell_type": "code",
   "execution_count": 11,
   "metadata": {},
   "outputs": [
    {
     "name": "stdout",
     "output_type": "stream",
     "text": [
      "Nodes: 14371\n",
      "Edges: 70797\n",
      "Isolates: 1122\n",
      "Self loops: 0\n",
      "Density: 0.000685648\n",
      "Transitivity: 0\n"
     ]
    }
   ],
   "source": [
    "multi_mode = RC.networkMultiMode('AF','ID',recordType=False)\n",
    "print(mk.graphStats(multi_mode))"
   ]
  },
  {
   "cell_type": "code",
   "execution_count": 12,
   "metadata": {},
   "outputs": [
    {
     "data": {
      "text/plain": [
       "('Liu, Yu', {'count': 5})"
      ]
     },
     "execution_count": 12,
     "metadata": {},
     "output_type": "execute_result"
    }
   ],
   "source": [
    "list(multi_mode.nodes.data())[0]"
   ]
  },
  {
   "cell_type": "markdown",
   "metadata": {},
   "source": [
    "## 3.测试nodeCount参数"
   ]
  },
  {
   "cell_type": "code",
   "execution_count": 13,
   "metadata": {},
   "outputs": [
    {
     "name": "stdout",
     "output_type": "stream",
     "text": [
      "Nodes: 14371\n",
      "Edges: 70797\n",
      "Isolates: 1122\n",
      "Self loops: 0\n",
      "Density: 0.000685648\n",
      "Transitivity: 0\n"
     ]
    }
   ],
   "source": [
    "multi_mode = RC.networkMultiMode('AF','ID',nodeCount=False)\n",
    "print(mk.graphStats(multi_mode))"
   ]
  },
  {
   "cell_type": "code",
   "execution_count": 14,
   "metadata": {},
   "outputs": [
    {
     "data": {
      "text/plain": [
       "('Liu, Yu', {'type': 'AFAFAFAFAFAF'})"
      ]
     },
     "execution_count": 14,
     "metadata": {},
     "output_type": "execute_result"
    }
   ],
   "source": [
    "list(multi_mode.nodes.data())[0]"
   ]
  },
  {
   "cell_type": "code",
   "execution_count": 15,
   "metadata": {},
   "outputs": [
    {
     "name": "stdout",
     "output_type": "stream",
     "text": [
      "Nodes: 14371\n",
      "Edges: 70797\n",
      "Isolates: 1122\n",
      "Self loops: 0\n",
      "Density: 0.000685648\n",
      "Transitivity: 0\n"
     ]
    }
   ],
   "source": [
    "multi_mode = RC.networkMultiMode('AF','ID',nodeCount=True)\n",
    "print(mk.graphStats(multi_mode))"
   ]
  },
  {
   "cell_type": "code",
   "execution_count": 16,
   "metadata": {},
   "outputs": [
    {
     "data": {
      "text/plain": [
       "('Liu, Yu', {'type': 'AF', 'count': 5})"
      ]
     },
     "execution_count": 16,
     "metadata": {},
     "output_type": "execute_result"
    }
   ],
   "source": [
    "list(multi_mode.nodes.data())[0]"
   ]
  },
  {
   "cell_type": "markdown",
   "metadata": {},
   "source": [
    "## 4.测试edgeWeight参数"
   ]
  },
  {
   "cell_type": "code",
   "execution_count": 17,
   "metadata": {},
   "outputs": [
    {
     "name": "stdout",
     "output_type": "stream",
     "text": [
      "Nodes: 14371\n",
      "Edges: 70797\n",
      "Isolates: 1122\n",
      "Self loops: 0\n",
      "Density: 0.000685648\n",
      "Transitivity: 0\n"
     ]
    }
   ],
   "source": [
    "multi_mode = RC.networkMultiMode('AF','ID',edgeWeight=False)\n",
    "print(mk.graphStats(multi_mode))"
   ]
  },
  {
   "cell_type": "code",
   "execution_count": 18,
   "metadata": {},
   "outputs": [
    {
     "data": {
      "text/plain": [
       "('Liu, Yu', 'ALTMETRICS', {})"
      ]
     },
     "execution_count": 18,
     "metadata": {},
     "output_type": "execute_result"
    }
   ],
   "source": [
    "list(multi_mode.edges.data())[0]"
   ]
  },
  {
   "cell_type": "code",
   "execution_count": 19,
   "metadata": {},
   "outputs": [
    {
     "name": "stdout",
     "output_type": "stream",
     "text": [
      "Nodes: 14371\n",
      "Edges: 70797\n",
      "Isolates: 1122\n",
      "Self loops: 0\n",
      "Density: 0.000685648\n",
      "Transitivity: 0\n"
     ]
    }
   ],
   "source": [
    "multi_mode = RC.networkMultiMode('AF','ID',edgeWeight=False)\n",
    "print(mk.graphStats(multi_mode))"
   ]
  },
  {
   "cell_type": "code",
   "execution_count": 20,
   "metadata": {},
   "outputs": [
    {
     "data": {
      "text/plain": [
       "('Liu, Yu', 'ALTMETRICS', {})"
      ]
     },
     "execution_count": 20,
     "metadata": {},
     "output_type": "execute_result"
    }
   ],
   "source": [
    "list(multi_mode.edges.data())[0]"
   ]
  },
  {
   "cell_type": "markdown",
   "metadata": {},
   "source": [
    "## 5. 测试stemmer参数"
   ]
  },
  {
   "cell_type": "code",
   "execution_count": 21,
   "metadata": {},
   "outputs": [
    {
     "name": "stdout",
     "output_type": "stream",
     "text": [
      "Nodes: 35\n",
      "Edges: 444\n",
      "Isolates: 1\n",
      "Self loops: 25\n",
      "Density: 0.746218\n",
      "Transitivity: 0.909502\n"
     ]
    }
   ],
   "source": [
    "multi_mode = RC.networkMultiMode('AF','ID',stemmer=lambda x:x[0])\n",
    "print(mk.graphStats(multi_mode))"
   ]
  },
  {
   "cell_type": "code",
   "execution_count": 22,
   "metadata": {},
   "outputs": [
    {
     "data": {
      "text/plain": [
       "('L', {'type': 'AF', 'count': 2058})"
      ]
     },
     "execution_count": 22,
     "metadata": {},
     "output_type": "execute_result"
    }
   ],
   "source": [
    "list(multi_mode.nodes.data())[0]"
   ]
  },
  {
   "cell_type": "code",
   "execution_count": 23,
   "metadata": {},
   "outputs": [
    {
     "name": "stdout",
     "output_type": "stream",
     "text": [
      "Nodes: 35\n",
      "Edges: 450\n",
      "Isolates: 0\n",
      "Self loops: 25\n",
      "Density: 0.756303\n",
      "Transitivity: 0.901038\n"
     ]
    }
   ],
   "source": [
    "multi_mode = RC.networkMultiMode('AF','ID','SO',stemmer=lambda x:x[0])\n",
    "print(mk.graphStats(multi_mode))"
   ]
  },
  {
   "cell_type": "code",
   "execution_count": 24,
   "metadata": {},
   "outputs": [
    {
     "data": {
      "text/plain": [
       "('L', {'count': 2059, 'type': 'AF'})"
      ]
     },
     "execution_count": 24,
     "metadata": {},
     "output_type": "execute_result"
    }
   ],
   "source": [
    "list(multi_mode.nodes.data())[0]\n",
    "#节点的标签信息就是对应着第一个tag1，所这里的stemmer参数也就是针对这一个标签进行处理"
   ]
  },
  {
   "cell_type": "markdown",
   "metadata": {},
   "source": [
    "## 6. 测试edgeAttribute参数"
   ]
  },
  {
   "cell_type": "code",
   "execution_count": 25,
   "metadata": {},
   "outputs": [
    {
     "ename": "NameError",
     "evalue": "name 'edgeVals' is not defined",
     "output_type": "error",
     "traceback": [
      "\u001b[1;31m---------------------------------------------------------------------------\u001b[0m",
      "\u001b[1;31mNameError\u001b[0m                                 Traceback (most recent call last)",
      "\u001b[1;32m<ipython-input-25-615698329529>\u001b[0m in \u001b[0;36m<module>\u001b[1;34m\u001b[0m\n\u001b[1;32m----> 1\u001b[1;33m \u001b[0mmulti_mode\u001b[0m \u001b[1;33m=\u001b[0m \u001b[0mRC\u001b[0m\u001b[1;33m.\u001b[0m\u001b[0mnetworkMultiMode\u001b[0m\u001b[1;33m(\u001b[0m\u001b[1;34m'AF'\u001b[0m\u001b[1;33m,\u001b[0m\u001b[1;34m'ID'\u001b[0m\u001b[1;33m,\u001b[0m\u001b[1;34m'SO'\u001b[0m\u001b[1;33m,\u001b[0m\u001b[0medgeAttribute\u001b[0m\u001b[1;33m=\u001b[0m\u001b[1;34m'weight'\u001b[0m\u001b[1;33m)\u001b[0m\u001b[1;33m\u001b[0m\u001b[1;33m\u001b[0m\u001b[0m\n\u001b[0m\u001b[0;32m      2\u001b[0m \u001b[0mprint\u001b[0m\u001b[1;33m(\u001b[0m\u001b[0mmk\u001b[0m\u001b[1;33m.\u001b[0m\u001b[0mgraphStats\u001b[0m\u001b[1;33m(\u001b[0m\u001b[0mmulti_mode\u001b[0m\u001b[1;33m)\u001b[0m\u001b[1;33m)\u001b[0m\u001b[1;33m\u001b[0m\u001b[1;33m\u001b[0m\u001b[0m\n\u001b[0;32m      3\u001b[0m \u001b[1;31m#可以看出原文件代码对于这个采纳数设置的有问题，默认为None即可\u001b[0m\u001b[1;33m\u001b[0m\u001b[1;33m\u001b[0m\u001b[1;33m\u001b[0m\u001b[0m\n",
      "\u001b[1;32mD:\\miniconda\\lib\\site-packages\\metaknowledge-3.4.1-py3.8.egg\\metaknowledge\\mkCollection.py\u001b[0m in \u001b[0;36mnetworkMultiMode\u001b[1;34m(self, recordType, nodeCount, edgeWeight, stemmer, edgeAttribute, *tags)\u001b[0m\n\u001b[0;32m   1259\u001b[0m                             \u001b[1;32mfor\u001b[0m \u001b[0mnode2\u001b[0m \u001b[1;32min\u001b[0m \u001b[0mvlst2\u001b[0m\u001b[1;33m[\u001b[0m\u001b[1;36m1\u001b[0m\u001b[1;33m]\u001b[0m\u001b[1;33m:\u001b[0m\u001b[1;33m\u001b[0m\u001b[1;33m\u001b[0m\u001b[0m\n\u001b[0;32m   1260\u001b[0m                                 \u001b[1;32mif\u001b[0m \u001b[0medgeAttribute\u001b[0m\u001b[1;33m:\u001b[0m\u001b[1;33m\u001b[0m\u001b[1;33m\u001b[0m\u001b[0m\n\u001b[1;32m-> 1261\u001b[1;33m                                     \u001b[1;32mfor\u001b[0m \u001b[0medgeVal\u001b[0m \u001b[1;32min\u001b[0m \u001b[0medgeVals\u001b[0m\u001b[1;33m:\u001b[0m\u001b[1;33m\u001b[0m\u001b[1;33m\u001b[0m\u001b[0m\n\u001b[0m\u001b[0;32m   1262\u001b[0m                                         \u001b[1;32mif\u001b[0m \u001b[0mgrph\u001b[0m\u001b[1;33m.\u001b[0m\u001b[0mhas_edge\u001b[0m\u001b[1;33m(\u001b[0m\u001b[0mnode1\u001b[0m\u001b[1;33m,\u001b[0m \u001b[0mnode2\u001b[0m\u001b[1;33m,\u001b[0m \u001b[0mkey\u001b[0m \u001b[1;33m=\u001b[0m \u001b[0medgeVal\u001b[0m\u001b[1;33m)\u001b[0m\u001b[1;33m:\u001b[0m\u001b[1;33m\u001b[0m\u001b[1;33m\u001b[0m\u001b[0m\n\u001b[0;32m   1263\u001b[0m                                             \u001b[1;32mif\u001b[0m \u001b[0medgeWeight\u001b[0m\u001b[1;33m:\u001b[0m\u001b[1;33m\u001b[0m\u001b[1;33m\u001b[0m\u001b[0m\n",
      "\u001b[1;31mNameError\u001b[0m: name 'edgeVals' is not defined"
     ]
    }
   ],
   "source": [
    "multi_mode = RC.networkMultiMode('AF','ID','SO',edgeAttribute='weight')\n",
    "print(mk.graphStats(multi_mode))\n",
    "#可以看出原文件代码对于这个采纳数设置的有问题，默认为None即可"
   ]
  },
  {
   "cell_type": "code",
   "execution_count": null,
   "metadata": {},
   "outputs": [],
   "source": []
  },
  {
   "cell_type": "code",
   "execution_count": null,
   "metadata": {},
   "outputs": [],
   "source": []
  },
  {
   "cell_type": "code",
   "execution_count": null,
   "metadata": {},
   "outputs": [],
   "source": []
  }
 ],
 "metadata": {
  "kernelspec": {
   "display_name": "Python 3",
   "language": "python",
   "name": "python3"
  },
  "language_info": {
   "codemirror_mode": {
    "name": "ipython",
    "version": 3
   },
   "file_extension": ".py",
   "mimetype": "text/x-python",
   "name": "python",
   "nbconvert_exporter": "python",
   "pygments_lexer": "ipython3",
   "version": "3.8.3"
  }
 },
 "nbformat": 4,
 "nbformat_minor": 4
}
