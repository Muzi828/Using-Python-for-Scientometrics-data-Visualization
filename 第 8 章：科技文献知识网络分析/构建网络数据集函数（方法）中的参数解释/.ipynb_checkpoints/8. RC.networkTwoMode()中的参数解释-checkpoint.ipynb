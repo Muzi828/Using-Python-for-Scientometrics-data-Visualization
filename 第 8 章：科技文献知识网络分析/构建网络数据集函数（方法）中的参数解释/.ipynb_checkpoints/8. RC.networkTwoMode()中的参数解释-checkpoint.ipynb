{
 "cells": [
  {
   "cell_type": "code",
   "execution_count": 1,
   "metadata": {},
   "outputs": [],
   "source": [
    "import metaknowledge as mk\n",
    "\n",
    "import warnings\n",
    "warnings.filterwarnings(\"ignore\")"
   ]
  },
  {
   "cell_type": "code",
   "execution_count": 2,
   "metadata": {},
   "outputs": [],
   "source": [
    "RC = mk.RecordCollection(r'D:\\python科学计量可视化\\数据\\Demo data\\Python-Wos', cached = True)"
   ]
  },
  {
   "cell_type": "code",
   "execution_count": 3,
   "metadata": {},
   "outputs": [],
   "source": [
    "RC2021 = RC.yearSplit(2020,2021)"
   ]
  },
  {
   "cell_type": "markdown",
   "metadata": {},
   "source": [
    "RC.networkTwoMode()中的参数解释：\n",
    "\n",
    "    * tag1: [str]数据类型。两个字符的WOS标签或标签的全名;\n",
    "    * tag2: [str]数据类型。两个字符的WOS标签或标签的全名;\n",
    "    * directed: [bool]数据类型。默认是'False',如果指定为'True'，则创建有向图；\n",
    "    * recordType: [bool]数据类型。默认是'True',会在节点属性增加'type'，值就为第一个参数tag1；\n",
    "    * nodeCount: [bool]数据类型。默认是'True',对节点进行计数，节点数据中增加count属性；\n",
    "    * edgeWeight: [bool]数据类型。默认是'True',对连线进行加权，连线数据汇总增加weight属性；\n",
    "    * stemmerTag1: 和RC.networkOneMode()中的stemmer参数功能一致，作用于tag1；\n",
    "    * stemmerTag2: 和RC.networkOneMode()中的stemmer参数功能一致，作用于tag2；\n",
    "    * edgeAttribute: 默认为None即可。"
   ]
  },
  {
   "cell_type": "markdown",
   "metadata": {},
   "source": [
    "## 1. 测试tag1和tag2参数"
   ]
  },
  {
   "cell_type": "code",
   "execution_count": 4,
   "metadata": {},
   "outputs": [
    {
     "name": "stdout",
     "output_type": "stream",
     "text": [
      "Nodes: 3238\n",
      "Edges: 10228\n",
      "Isolates: 246\n",
      "Self loops: 0\n",
      "Density: 0.00195165\n",
      "Transitivity: 0\n"
     ]
    }
   ],
   "source": [
    "two_mode = RC2021.networkTwoMode('keywords', 'authorsFull')\n",
    "print(mk.graphStats(two_mode))"
   ]
  },
  {
   "cell_type": "code",
   "execution_count": 5,
   "metadata": {},
   "outputs": [
    {
     "name": "stdout",
     "output_type": "stream",
     "text": [
      "Nodes: 3184\n",
      "Edges: 10200\n",
      "Isolates: 236\n",
      "Self loops: 0\n",
      "Density: 0.00201289\n",
      "Transitivity: 0\n"
     ]
    }
   ],
   "source": [
    "two_mode = RC2021.networkTwoMode('keywords', 'AU')\n",
    "print(mk.graphStats(two_mode))"
   ]
  },
  {
   "cell_type": "code",
   "execution_count": 6,
   "metadata": {},
   "outputs": [
    {
     "name": "stdout",
     "output_type": "stream",
     "text": [
      "Nodes: 1349\n",
      "Edges: 1668\n",
      "Isolates: 0\n",
      "Self loops: 1\n",
      "Density: 0.00183453\n",
      "Transitivity: 0.000727491\n"
     ]
    }
   ],
   "source": [
    "two_mode = RC2021.networkTwoMode('keywords', 'SO')\n",
    "print(mk.graphStats(two_mode))"
   ]
  },
  {
   "cell_type": "markdown",
   "metadata": {},
   "source": [
    "## 2. 测试directed参数"
   ]
  },
  {
   "cell_type": "markdown",
   "metadata": {},
   "source": [
    "以ID和AF为例，测试directed参数"
   ]
  },
  {
   "cell_type": "code",
   "execution_count": 7,
   "metadata": {},
   "outputs": [
    {
     "data": {
      "text/plain": [
       "<networkx.classes.graph.Graph at 0x1f566385370>"
      ]
     },
     "execution_count": 7,
     "metadata": {},
     "output_type": "execute_result"
    }
   ],
   "source": [
    "two_mode = RC2021.networkTwoMode('ID', 'AF',directed=False)\n",
    "two_mode"
   ]
  },
  {
   "cell_type": "code",
   "execution_count": 8,
   "metadata": {},
   "outputs": [
    {
     "data": {
      "text/plain": [
       "<networkx.classes.digraph.DiGraph at 0x1f566385b50>"
      ]
     },
     "execution_count": 8,
     "metadata": {},
     "output_type": "execute_result"
    }
   ],
   "source": [
    "two_mode = RC2021.networkTwoMode('ID', 'AF',directed=True)\n",
    "two_mode"
   ]
  },
  {
   "cell_type": "markdown",
   "metadata": {},
   "source": [
    "## 3. 测试recordType参数"
   ]
  },
  {
   "cell_type": "code",
   "execution_count": 9,
   "metadata": {},
   "outputs": [
    {
     "name": "stdout",
     "output_type": "stream",
     "text": [
      "Nodes: 3238\n",
      "Edges: 10228\n",
      "Isolates: 246\n",
      "Self loops: 0\n",
      "Density: 0.00195165\n",
      "Transitivity: 0\n"
     ]
    }
   ],
   "source": [
    "two_mode = RC2021.networkTwoMode('ID', 'AF',recordType=True)\n",
    "print(mk.graphStats(two_mode))"
   ]
  },
  {
   "cell_type": "code",
   "execution_count": 10,
   "metadata": {},
   "outputs": [
    {
     "data": {
      "text/plain": [
       "('MIXED METHODS', {'count': 1, 'type': 'ID'})"
      ]
     },
     "execution_count": 10,
     "metadata": {},
     "output_type": "execute_result"
    }
   ],
   "source": [
    "list(two_mode.nodes.data())[0]"
   ]
  },
  {
   "cell_type": "code",
   "execution_count": 11,
   "metadata": {},
   "outputs": [
    {
     "name": "stdout",
     "output_type": "stream",
     "text": [
      "Nodes: 3238\n",
      "Edges: 10228\n",
      "Isolates: 246\n",
      "Self loops: 0\n",
      "Density: 0.00195165\n",
      "Transitivity: 0\n"
     ]
    }
   ],
   "source": [
    "two_mode = RC2021.networkTwoMode('ID', 'AF',recordType=False)\n",
    "print(mk.graphStats(two_mode))"
   ]
  },
  {
   "cell_type": "code",
   "execution_count": 12,
   "metadata": {},
   "outputs": [
    {
     "data": {
      "text/plain": [
       "('MIXED METHODS', {'count': 1})"
      ]
     },
     "execution_count": 12,
     "metadata": {},
     "output_type": "execute_result"
    }
   ],
   "source": [
    "list(two_mode.nodes.data())[0]"
   ]
  },
  {
   "cell_type": "code",
   "execution_count": 13,
   "metadata": {},
   "outputs": [
    {
     "name": "stdout",
     "output_type": "stream",
     "text": [
      "Nodes: 1894\n",
      "Edges: 1989\n",
      "Isolates: 0\n",
      "Self loops: 0\n",
      "Density: 0.00110952\n",
      "Transitivity: 0\n"
     ]
    }
   ],
   "source": [
    "two_mode = RC2021.networkTwoMode('SO', 'AF',recordType=True)\n",
    "print(mk.graphStats(two_mode))"
   ]
  },
  {
   "cell_type": "code",
   "execution_count": 14,
   "metadata": {},
   "outputs": [
    {
     "data": {
      "text/plain": [
       "('SCIENTOMETRICS', {'count': 519, 'type': 'SO'})"
      ]
     },
     "execution_count": 14,
     "metadata": {},
     "output_type": "execute_result"
    }
   ],
   "source": [
    "list(two_mode.nodes.data())[0]\n",
    "#会返回tag1对应的值，也就是节点信息对应的那个字段名"
   ]
  },
  {
   "cell_type": "code",
   "execution_count": 15,
   "metadata": {},
   "outputs": [
    {
     "name": "stdout",
     "output_type": "stream",
     "text": [
      "Nodes: 1894\n",
      "Edges: 1989\n",
      "Isolates: 0\n",
      "Self loops: 0\n",
      "Density: 0.00110952\n",
      "Transitivity: 0\n"
     ]
    }
   ],
   "source": [
    "two_mode = RC2021.networkTwoMode('AF','SO',recordType=True)\n",
    "print(mk.graphStats(two_mode))"
   ]
  },
  {
   "cell_type": "code",
   "execution_count": 16,
   "metadata": {},
   "outputs": [
    {
     "data": {
      "text/plain": [
       "('Karaulova, Maria', {'count': 1, 'type': 'AF'})"
      ]
     },
     "execution_count": 16,
     "metadata": {},
     "output_type": "execute_result"
    }
   ],
   "source": [
    "list(two_mode.nodes.data())[0]\n",
    "#验证确实如此"
   ]
  },
  {
   "cell_type": "markdown",
   "metadata": {},
   "source": [
    "## 4. 测试nodeCount参数"
   ]
  },
  {
   "cell_type": "code",
   "execution_count": 17,
   "metadata": {},
   "outputs": [
    {
     "name": "stdout",
     "output_type": "stream",
     "text": [
      "Nodes: 1894\n",
      "Edges: 1989\n",
      "Isolates: 0\n",
      "Self loops: 0\n",
      "Density: 0.00110952\n",
      "Transitivity: 0\n"
     ]
    }
   ],
   "source": [
    "two_mode = RC2021.networkTwoMode('AF','SO',nodeCount=True)\n",
    "print(mk.graphStats(two_mode))"
   ]
  },
  {
   "cell_type": "code",
   "execution_count": 18,
   "metadata": {},
   "outputs": [
    {
     "data": {
      "text/plain": [
       "('Karaulova, Maria', {'count': 1, 'type': 'AF'})"
      ]
     },
     "execution_count": 18,
     "metadata": {},
     "output_type": "execute_result"
    }
   ],
   "source": [
    "list(two_mode.nodes.data())[0]"
   ]
  },
  {
   "cell_type": "code",
   "execution_count": 19,
   "metadata": {},
   "outputs": [
    {
     "name": "stdout",
     "output_type": "stream",
     "text": [
      "Nodes: 1894\n",
      "Edges: 1989\n",
      "Isolates: 0\n",
      "Self loops: 0\n",
      "Density: 0.00110952\n",
      "Transitivity: 0\n"
     ]
    }
   ],
   "source": [
    "two_mode = RC2021.networkTwoMode('AF','SO',nodeCount=False)\n",
    "print(mk.graphStats(two_mode))"
   ]
  },
  {
   "cell_type": "code",
   "execution_count": 20,
   "metadata": {},
   "outputs": [
    {
     "data": {
      "text/plain": [
       "('Karaulova, Maria', {'type': 'AF'})"
      ]
     },
     "execution_count": 20,
     "metadata": {},
     "output_type": "execute_result"
    }
   ],
   "source": [
    "list(two_mode.nodes.data())[0]"
   ]
  },
  {
   "cell_type": "markdown",
   "metadata": {},
   "source": [
    "## 5. 测试edgeWeight参数"
   ]
  },
  {
   "cell_type": "code",
   "execution_count": 21,
   "metadata": {},
   "outputs": [
    {
     "name": "stdout",
     "output_type": "stream",
     "text": [
      "Nodes: 1894\n",
      "Edges: 1989\n",
      "Isolates: 0\n",
      "Self loops: 0\n",
      "Density: 0.00110952\n",
      "Transitivity: 0\n"
     ]
    }
   ],
   "source": [
    "two_mode = RC2021.networkTwoMode('AF','SO',edgeWeight=True)\n",
    "print(mk.graphStats(two_mode))"
   ]
  },
  {
   "cell_type": "code",
   "execution_count": 22,
   "metadata": {},
   "outputs": [
    {
     "data": {
      "text/plain": [
       "('Karaulova, Maria', 'SCIENTOMETRICS', {'weight': 1})"
      ]
     },
     "execution_count": 22,
     "metadata": {},
     "output_type": "execute_result"
    }
   ],
   "source": [
    "list(two_mode.edges.data())[0]"
   ]
  },
  {
   "cell_type": "code",
   "execution_count": 23,
   "metadata": {},
   "outputs": [
    {
     "name": "stdout",
     "output_type": "stream",
     "text": [
      "Nodes: 1894\n",
      "Edges: 1989\n",
      "Isolates: 0\n",
      "Self loops: 0\n",
      "Density: 0.00110952\n",
      "Transitivity: 0\n"
     ]
    }
   ],
   "source": [
    "two_mode = RC2021.networkTwoMode('AF','SO',edgeWeight=False)\n",
    "print(mk.graphStats(two_mode))"
   ]
  },
  {
   "cell_type": "code",
   "execution_count": 24,
   "metadata": {},
   "outputs": [
    {
     "data": {
      "text/plain": [
       "('Karaulova, Maria', 'SCIENTOMETRICS', {})"
      ]
     },
     "execution_count": 24,
     "metadata": {},
     "output_type": "execute_result"
    }
   ],
   "source": [
    "list(two_mode.edges.data())[0]"
   ]
  },
  {
   "cell_type": "markdown",
   "metadata": {},
   "source": [
    "## 6. 测试stemmerTag1和stemmerTag2参数"
   ]
  },
  {
   "cell_type": "code",
   "execution_count": 25,
   "metadata": {},
   "outputs": [
    {
     "name": "stdout",
     "output_type": "stream",
     "text": [
      "Nodes: 30\n",
      "Edges: 56\n",
      "Isolates: 0\n",
      "Self loops: 0\n",
      "Density: 0.128736\n",
      "Transitivity: 0\n"
     ]
    }
   ],
   "source": [
    "two_mode = RC2021.networkTwoMode('AF','SO',stemmerTag1=lambda x:x[0],stemmerTag2=lambda x:x[:4])\n",
    "print(mk.graphStats(two_mode))"
   ]
  },
  {
   "cell_type": "code",
   "execution_count": 26,
   "metadata": {},
   "outputs": [
    {
     "data": {
      "text/plain": [
       "('K', 'SCIE', {'weight': 59})"
      ]
     },
     "execution_count": 26,
     "metadata": {},
     "output_type": "execute_result"
    }
   ],
   "source": [
    "list(two_mode.edges.data())[0]"
   ]
  },
  {
   "cell_type": "code",
   "execution_count": 27,
   "metadata": {},
   "outputs": [
    {
     "data": {
      "text/plain": [
       "('K', {'count': 92, 'type': 'AF'})"
      ]
     },
     "execution_count": 27,
     "metadata": {},
     "output_type": "execute_result"
    }
   ],
   "source": [
    "list(two_mode.nodes.data())[0]"
   ]
  },
  {
   "cell_type": "code",
   "execution_count": 28,
   "metadata": {},
   "outputs": [
    {
     "data": {
      "text/plain": [
       "('SCIE', {'count': 519, 'type': 'SO'})"
      ]
     },
     "execution_count": 28,
     "metadata": {},
     "output_type": "execute_result"
    }
   ],
   "source": [
    "list(two_mode.nodes.data())[1]"
   ]
  },
  {
   "cell_type": "markdown",
   "metadata": {},
   "source": [
    "## 7. 测试edgeAttribute参数"
   ]
  },
  {
   "cell_type": "code",
   "execution_count": 29,
   "metadata": {},
   "outputs": [
    {
     "ename": "NetworkXNotImplemented",
     "evalue": "not implemented for multigraph type",
     "output_type": "error",
     "traceback": [
      "\u001b[1;31m---------------------------------------------------------------------------\u001b[0m",
      "\u001b[1;31mNetworkXNotImplemented\u001b[0m                    Traceback (most recent call last)",
      "\u001b[1;32m<ipython-input-29-e38b39fd160c>\u001b[0m in \u001b[0;36m<module>\u001b[1;34m\u001b[0m\n\u001b[0;32m      1\u001b[0m \u001b[0mtwo_mode\u001b[0m \u001b[1;33m=\u001b[0m \u001b[0mRC2021\u001b[0m\u001b[1;33m.\u001b[0m\u001b[0mnetworkTwoMode\u001b[0m\u001b[1;33m(\u001b[0m\u001b[1;34m'AF'\u001b[0m\u001b[1;33m,\u001b[0m\u001b[1;34m'SO'\u001b[0m\u001b[1;33m,\u001b[0m\u001b[0medgeAttribute\u001b[0m\u001b[1;33m=\u001b[0m\u001b[1;34m'weight'\u001b[0m\u001b[1;33m)\u001b[0m\u001b[1;33m\u001b[0m\u001b[1;33m\u001b[0m\u001b[0m\n\u001b[1;32m----> 2\u001b[1;33m \u001b[0mprint\u001b[0m\u001b[1;33m(\u001b[0m\u001b[0mmk\u001b[0m\u001b[1;33m.\u001b[0m\u001b[0mgraphStats\u001b[0m\u001b[1;33m(\u001b[0m\u001b[0mtwo_mode\u001b[0m\u001b[1;33m)\u001b[0m\u001b[1;33m)\u001b[0m\u001b[1;33m\u001b[0m\u001b[1;33m\u001b[0m\u001b[0m\n\u001b[0m\u001b[0;32m      3\u001b[0m \u001b[1;31m#该参数默认就好\u001b[0m\u001b[1;33m\u001b[0m\u001b[1;33m\u001b[0m\u001b[1;33m\u001b[0m\u001b[0m\n",
      "\u001b[1;32mD:\\miniconda\\lib\\site-packages\\metaknowledge-3.4.1-py3.8.egg\\metaknowledge\\graphHelpers.py\u001b[0m in \u001b[0;36mgraphStats\u001b[1;34m(G, stats, makeString, sentenceString)\u001b[0m\n\u001b[0;32m    822\u001b[0m                 \u001b[0mstsData\u001b[0m\u001b[1;33m.\u001b[0m\u001b[0mappend\u001b[0m\u001b[1;33m(\u001b[0m\u001b[1;34m\"a transitivity of {:G}\"\u001b[0m\u001b[1;33m.\u001b[0m\u001b[0mformat\u001b[0m\u001b[1;33m(\u001b[0m\u001b[0mnx\u001b[0m\u001b[1;33m.\u001b[0m\u001b[0mtransitivity\u001b[0m\u001b[1;33m(\u001b[0m\u001b[0mG\u001b[0m\u001b[1;33m)\u001b[0m\u001b[1;33m)\u001b[0m\u001b[1;33m)\u001b[0m\u001b[1;33m\u001b[0m\u001b[1;33m\u001b[0m\u001b[0m\n\u001b[0;32m    823\u001b[0m             \u001b[1;32melse\u001b[0m\u001b[1;33m:\u001b[0m\u001b[1;33m\u001b[0m\u001b[1;33m\u001b[0m\u001b[0m\n\u001b[1;32m--> 824\u001b[1;33m                 \u001b[0mstsData\u001b[0m\u001b[1;33m.\u001b[0m\u001b[0mappend\u001b[0m\u001b[1;33m(\u001b[0m\u001b[1;34m\"Transitivity: {:G}\"\u001b[0m\u001b[1;33m.\u001b[0m\u001b[0mformat\u001b[0m\u001b[1;33m(\u001b[0m\u001b[0mnx\u001b[0m\u001b[1;33m.\u001b[0m\u001b[0mtransitivity\u001b[0m\u001b[1;33m(\u001b[0m\u001b[0mG\u001b[0m\u001b[1;33m)\u001b[0m\u001b[1;33m)\u001b[0m\u001b[1;33m)\u001b[0m\u001b[1;33m\u001b[0m\u001b[1;33m\u001b[0m\u001b[0m\n\u001b[0m\u001b[0;32m    825\u001b[0m         \u001b[1;32melse\u001b[0m\u001b[1;33m:\u001b[0m\u001b[1;33m\u001b[0m\u001b[1;33m\u001b[0m\u001b[0m\n\u001b[0;32m    826\u001b[0m             \u001b[0mstsData\u001b[0m\u001b[1;33m[\u001b[0m\u001b[1;34m'transitivity'\u001b[0m\u001b[1;33m]\u001b[0m \u001b[1;33m=\u001b[0m \u001b[0mnx\u001b[0m\u001b[1;33m.\u001b[0m\u001b[0mtransitivity\u001b[0m\u001b[1;33m(\u001b[0m\u001b[0mG\u001b[0m\u001b[1;33m)\u001b[0m\u001b[1;33m\u001b[0m\u001b[1;33m\u001b[0m\u001b[0m\n",
      "\u001b[1;32mD:\\miniconda\\lib\\site-packages\\networkx\\algorithms\\cluster.py\u001b[0m in \u001b[0;36mtransitivity\u001b[1;34m(G)\u001b[0m\n\u001b[0;32m    420\u001b[0m     \"\"\"\n\u001b[0;32m    421\u001b[0m     triangles_contri = [\n\u001b[1;32m--> 422\u001b[1;33m         \u001b[1;33m(\u001b[0m\u001b[0mt\u001b[0m\u001b[1;33m,\u001b[0m \u001b[0md\u001b[0m \u001b[1;33m*\u001b[0m \u001b[1;33m(\u001b[0m\u001b[0md\u001b[0m \u001b[1;33m-\u001b[0m \u001b[1;36m1\u001b[0m\u001b[1;33m)\u001b[0m\u001b[1;33m)\u001b[0m \u001b[1;32mfor\u001b[0m \u001b[0mv\u001b[0m\u001b[1;33m,\u001b[0m \u001b[0md\u001b[0m\u001b[1;33m,\u001b[0m \u001b[0mt\u001b[0m\u001b[1;33m,\u001b[0m \u001b[0m_\u001b[0m \u001b[1;32min\u001b[0m \u001b[0m_triangles_and_degree_iter\u001b[0m\u001b[1;33m(\u001b[0m\u001b[0mG\u001b[0m\u001b[1;33m)\u001b[0m\u001b[1;33m\u001b[0m\u001b[1;33m\u001b[0m\u001b[0m\n\u001b[0m\u001b[0;32m    423\u001b[0m     ]\n\u001b[0;32m    424\u001b[0m     \u001b[1;31m# If the graph is empty\u001b[0m\u001b[1;33m\u001b[0m\u001b[1;33m\u001b[0m\u001b[1;33m\u001b[0m\u001b[0m\n",
      "\u001b[1;32mD:\\miniconda\\lib\\site-packages\\networkx\\utils\\decorators.py\u001b[0m in \u001b[0;36margmap__triangles_and_degree_iter_1\u001b[1;34m(G, nodes)\u001b[0m\n\u001b[0;32m      1\u001b[0m \u001b[1;32mimport\u001b[0m \u001b[0mbz2\u001b[0m\u001b[1;33m\u001b[0m\u001b[1;33m\u001b[0m\u001b[0m\n\u001b[0;32m      2\u001b[0m \u001b[1;32mimport\u001b[0m \u001b[0mcollections\u001b[0m\u001b[1;33m\u001b[0m\u001b[1;33m\u001b[0m\u001b[0m\n\u001b[1;32m----> 3\u001b[1;33m \u001b[1;32mimport\u001b[0m \u001b[0mgzip\u001b[0m\u001b[1;33m\u001b[0m\u001b[1;33m\u001b[0m\u001b[0m\n\u001b[0m\u001b[0;32m      4\u001b[0m \u001b[1;32mimport\u001b[0m \u001b[0minspect\u001b[0m\u001b[1;33m\u001b[0m\u001b[1;33m\u001b[0m\u001b[0m\n\u001b[0;32m      5\u001b[0m \u001b[1;32mimport\u001b[0m \u001b[0mitertools\u001b[0m\u001b[1;33m\u001b[0m\u001b[1;33m\u001b[0m\u001b[0m\n",
      "\u001b[1;32mD:\\miniconda\\lib\\site-packages\\networkx\\utils\\decorators.py\u001b[0m in \u001b[0;36m_not_implemented_for\u001b[1;34m(g)\u001b[0m\n\u001b[0;32m     86\u001b[0m             \u001b[0mdval\u001b[0m \u001b[1;32mis\u001b[0m \u001b[1;32mNone\u001b[0m \u001b[1;32mor\u001b[0m \u001b[0mdval\u001b[0m \u001b[1;33m==\u001b[0m \u001b[0mg\u001b[0m\u001b[1;33m.\u001b[0m\u001b[0mis_directed\u001b[0m\u001b[1;33m(\u001b[0m\u001b[1;33m)\u001b[0m\u001b[1;33m\u001b[0m\u001b[1;33m\u001b[0m\u001b[0m\n\u001b[0;32m     87\u001b[0m         ):\n\u001b[1;32m---> 88\u001b[1;33m             \u001b[1;32mraise\u001b[0m \u001b[0mnx\u001b[0m\u001b[1;33m.\u001b[0m\u001b[0mNetworkXNotImplemented\u001b[0m\u001b[1;33m(\u001b[0m\u001b[0merrmsg\u001b[0m\u001b[1;33m)\u001b[0m\u001b[1;33m\u001b[0m\u001b[1;33m\u001b[0m\u001b[0m\n\u001b[0m\u001b[0;32m     89\u001b[0m \u001b[1;33m\u001b[0m\u001b[0m\n\u001b[0;32m     90\u001b[0m         \u001b[1;32mreturn\u001b[0m \u001b[0mg\u001b[0m\u001b[1;33m\u001b[0m\u001b[1;33m\u001b[0m\u001b[0m\n",
      "\u001b[1;31mNetworkXNotImplemented\u001b[0m: not implemented for multigraph type"
     ]
    }
   ],
   "source": [
    "two_mode = RC2021.networkTwoMode('AF','SO',edgeAttribute='weight')\n",
    "print(mk.graphStats(two_mode))\n",
    "##该参数应该和RC.networkOneMode()中的nodeAttribute参数功能类似，创建一个连线的属性，但是在当前版本的networkx模块中无法运行，所以保持默认None即可"
   ]
  },
  {
   "cell_type": "code",
   "execution_count": null,
   "metadata": {},
   "outputs": [],
   "source": []
  }
 ],
 "metadata": {
  "kernelspec": {
   "display_name": "Python 3",
   "language": "python",
   "name": "python3"
  },
  "language_info": {
   "codemirror_mode": {
    "name": "ipython",
    "version": 3
   },
   "file_extension": ".py",
   "mimetype": "text/x-python",
   "name": "python",
   "nbconvert_exporter": "python",
   "pygments_lexer": "ipython3",
   "version": "3.8.3"
  }
 },
 "nbformat": 4,
 "nbformat_minor": 4
}
