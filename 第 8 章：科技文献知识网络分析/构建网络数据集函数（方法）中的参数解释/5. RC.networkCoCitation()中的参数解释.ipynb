{
 "cells": [
  {
   "cell_type": "code",
   "execution_count": 1,
   "metadata": {},
   "outputs": [],
   "source": [
    "import metaknowledge as mk\n",
    "\n",
    "import warnings\n",
    "warnings.filterwarnings(\"ignore\")"
   ]
  },
  {
   "cell_type": "code",
   "execution_count": 2,
   "metadata": {},
   "outputs": [],
   "source": [
    "RC = mk.RecordCollection(r'D:\\python科学计量可视化\\数据\\Demo data\\Python-Wos', cached = True)"
   ]
  },
  {
   "cell_type": "code",
   "execution_count": 3,
   "metadata": {},
   "outputs": [
    {
     "data": {
      "text/plain": [
       "<metaknowledge.RecordCollection object files-from-D:\\python科学计量可视化\\数据\\Demo data\\Python-Wos(2020-2021)>"
      ]
     },
     "execution_count": 3,
     "metadata": {},
     "output_type": "execute_result"
    }
   ],
   "source": [
    "RC2021 = RC.yearSplit(2020,2021)\n",
    "RC2021"
   ]
  },
  {
   "cell_type": "markdown",
   "metadata": {},
   "source": [
    "RC.networkCoCitation()中的参数解释：\n",
    "    \n",
    "    dropAnon=True,\n",
    "    nodeType='full',\n",
    "    nodeInfo=True,\n",
    "    fullInfo=False,\n",
    "    weighted=True,\n",
    "    dropNonJournals=False,\n",
    "    count=True,\n",
    "    keyWords=None,\n",
    "    detailedCore=True,\n",
    "    detailedCoreAttributes=False,\n",
    "    coreOnly=False,\n",
    "    expandedCore=False,\n",
    "    addCR=False\n",
    "    \n",
    "    参数的解释和RC.networkCitation()方法中的参数解释一致"
   ]
  }
 ],
 "metadata": {
  "kernelspec": {
   "display_name": "Python 3",
   "language": "python",
   "name": "python3"
  },
  "language_info": {
   "codemirror_mode": {
    "name": "ipython",
    "version": 3
   },
   "file_extension": ".py",
   "mimetype": "text/x-python",
   "name": "python",
   "nbconvert_exporter": "python",
   "pygments_lexer": "ipython3",
   "version": "3.8.3"
  }
 },
 "nbformat": 4,
 "nbformat_minor": 4
}
