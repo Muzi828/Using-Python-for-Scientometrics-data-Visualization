{
 "cells": [
  {
   "cell_type": "markdown",
   "id": "db596930",
   "metadata": {},
   "source": [
    "# Pybibx"
   ]
  },
  {
   "cell_type": "markdown",
   "id": "b65ac408",
   "metadata": {},
   "source": [
    "* 论文：https://arxiv.org/abs/2304.14516\n",
    "\n",
    "* 官方网址： https://github.com/Valdecy/pyBibX\n",
    "\n",
    "* Pypi安装地址： https://pypi.org/project/pyBibX/"
   ]
  },
  {
   "cell_type": "markdown",
   "id": "37020348",
   "metadata": {},
   "source": [
    "## 1. 模块安装"
   ]
  },
  {
   "cell_type": "code",
   "execution_count": 1,
   "id": "c5c4a5c2",
   "metadata": {},
   "outputs": [],
   "source": [
    "#如果直接打开命令行，执行：pip install pybibx,则会出现如下报错"
   ]
  },
  {
   "cell_type": "markdown",
   "id": "7d1f0d77",
   "metadata": {},
   "source": [
    "<img src='install.png'>"
   ]
  },
  {
   "cell_type": "markdown",
   "id": "023e5172",
   "metadata": {},
   "source": [
    "\n",
    "## 2. 前置模块安装\n",
    "需要先安装hdbscan模块后再执行"
   ]
  },
  {
   "cell_type": "code",
   "execution_count": 4,
   "id": "09bb90c3",
   "metadata": {},
   "outputs": [],
   "source": [
    "#也不能直接使用pip install hdbscan，否则最终的报错提示和上面一样"
   ]
  },
  {
   "cell_type": "markdown",
   "id": "01f89128",
   "metadata": {},
   "source": [
    "正确的安装方式：借助conda指令，执行：\n",
    "\n",
    "            conda install -c conda-forge hdbscan"
   ]
  },
  {
   "cell_type": "code",
   "execution_count": 8,
   "id": "15dd0aae",
   "metadata": {},
   "outputs": [],
   "source": [
    "# 安装相关的配置"
   ]
  },
  {
   "cell_type": "markdown",
   "id": "b75fe733",
   "metadata": {},
   "source": [
    "<img src='conda.png'>"
   ]
  },
  {
   "cell_type": "code",
   "execution_count": 7,
   "id": "f00bbea9",
   "metadata": {},
   "outputs": [],
   "source": [
    "# 安装完成的标志：页面重新刷新，并在左上方出现done"
   ]
  },
  {
   "cell_type": "markdown",
   "id": "216c3c26",
   "metadata": {},
   "source": [
    "<img src='done.png'>"
   ]
  },
  {
   "cell_type": "code",
   "execution_count": 9,
   "id": "7a821bac",
   "metadata": {},
   "outputs": [],
   "source": [
    "# 最后再执行pip install pybibx,即可完成安装"
   ]
  },
  {
   "cell_type": "markdown",
   "id": "12f06763",
   "metadata": {},
   "source": [
    "<img src='success.png'>"
   ]
  },
  {
   "cell_type": "markdown",
   "id": "33443572",
   "metadata": {},
   "source": [
    "## 3. 安装成功检验"
   ]
  },
  {
   "cell_type": "markdown",
   "id": "63039875",
   "metadata": {},
   "source": [
    "进入python环境中，然后执行模块导入"
   ]
  },
  {
   "cell_type": "markdown",
   "id": "58ed5ae7",
   "metadata": {},
   "source": [
    "<img src='PYBIBX.png'>"
   ]
  },
  {
   "cell_type": "code",
   "execution_count": null,
   "id": "0b665f6e",
   "metadata": {},
   "outputs": [],
   "source": []
  }
 ],
 "metadata": {
  "kernelspec": {
   "display_name": "Python 3 (ipykernel)",
   "language": "python",
   "name": "python3"
  },
  "language_info": {
   "codemirror_mode": {
    "name": "ipython",
    "version": 3
   },
   "file_extension": ".py",
   "mimetype": "text/x-python",
   "name": "python",
   "nbconvert_exporter": "python",
   "pygments_lexer": "ipython3",
   "version": "3.9.17"
  }
 },
 "nbformat": 4,
 "nbformat_minor": 5
}
