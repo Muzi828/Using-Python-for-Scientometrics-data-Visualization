{
 "cells": [
  {
   "cell_type": "code",
   "execution_count": null,
   "metadata": {
    "id": "XtIALBqNzkED"
   },
   "outputs": [],
   "source": [
    "############################################################################\n",
    "\n",
    "# Created by: Prof. Valdecy Pereira, D.Sc.\n",
    "# UFF - Universidade Federal Fluminense (Brazil)\n",
    "# email:  valdecy.pereira@gmail.com\n",
    "# pyBibX - A Bibliometric and Scientometric Library\n",
    "# Example - Use your own .bib\n",
    "\n",
    "# Citation:\n",
    "# PEREIRA, V. (2022). Project: pyBibX, File: pbibx.py, GitHub repository: <https://github.com/Valdecy/pyBibX>\n",
    "\n",
    "############################################################################"
   ]
  },
  {
   "cell_type": "code",
   "execution_count": null,
   "metadata": {
    "id": "i4wrQ_eiztdR"
   },
   "outputs": [],
   "source": [
    "!pip install pyBibX"
   ]
  },
  {
   "cell_type": "code",
   "execution_count": null,
   "metadata": {
    "id": "8u-GBqWszwEe"
   },
   "outputs": [],
   "source": [
    "# Required Libraries\n",
    "import numpy as np\n",
    "import pandas as pd\n",
    "import textwrap\n",
    "\n",
    "from pyBibX.base import pbx_probe\n",
    "from prettytable import PrettyTable"
   ]
  },
  {
   "cell_type": "code",
   "execution_count": null,
   "metadata": {
    "id": "ZKHxykYDzzTi"
   },
   "outputs": [],
   "source": [
    "# Load .bib\n",
    "# Arguments: file_bib = 'filename.bib'; db = 'scopus', 'wos', 'pubmed'; del_duplicated = True, False\n",
    "file_name = 'YOUR FILE NAME.bib'\n",
    "#database  = 'scopus'\n",
    "#database  = 'wos'\n",
    "#database  = 'pubmed'\n",
    "bibfile   = pbx_probe(file_bib = file_name, db = database, del_duplicated = True)"
   ]
  },
  {
   "cell_type": "code",
   "execution_count": null,
   "metadata": {
    "id": "GhfXxNNruX8K"
   },
   "outputs": [],
   "source": [
    "# Merge Database\n",
    "file_name_ = 'YOUR FILE NAME.bib'\n",
    "#database  = 'scopus'\n",
    "#database  = 'wos'\n",
    "#database  = 'pubmed'\n",
    "bibfile.merge_database(file_bib = file_name_, db = database_, del_duplicated = True)"
   ]
  },
  {
   "cell_type": "code",
   "execution_count": null,
   "metadata": {
    "id": "FFGIc-14z14F"
   },
   "outputs": [],
   "source": [
    "# Generate EDA (Exploratory Data Analysis) Report\n",
    "report  = bibfile.eda_bib()\n",
    "\n",
    "# Check Report\n",
    "report"
   ]
  },
  {
   "cell_type": "code",
   "execution_count": null,
   "metadata": {
    "id": "860dmHwRz4hg"
   },
   "outputs": [],
   "source": [
    "# Check Docs IDs\n",
    "data_table.DataTable(bibfile.table_id_doc, num_rows_per_page = 15)"
   ]
  },
  {
   "cell_type": "code",
   "execution_count": null,
   "metadata": {
    "id": "JfOdhrczDOmx"
   },
   "outputs": [],
   "source": [
    "# Check Docs IDs per Type\n",
    "data_table.DataTable(bibfile.id_doc_types(), num_rows_per_page = 15)"
   ]
  },
  {
   "cell_type": "code",
   "execution_count": null,
   "metadata": {
    "id": "YILq8alTz7IJ"
   },
   "outputs": [],
   "source": [
    "# Check Authors IDs\n",
    "data_table.DataTable(bibfile.table_id_aut, num_rows_per_page = 15)"
   ]
  },
  {
   "cell_type": "code",
   "execution_count": null,
   "metadata": {
    "id": "4rzZnhToz9-G"
   },
   "outputs": [],
   "source": [
    "# Check Sources IDs\n",
    "data_table.DataTable(bibfile.table_id_jou, num_rows_per_page = 15)"
   ]
  },
  {
   "cell_type": "code",
   "execution_count": null,
   "metadata": {
    "id": "iINZmxf40AhQ"
   },
   "outputs": [],
   "source": [
    "# Check Institutions IDs\n",
    "data_table.DataTable(bibfile.table_id_uni, num_rows_per_page = 15)"
   ]
  },
  {
   "cell_type": "code",
   "execution_count": null,
   "metadata": {
    "id": "5mOLrf700DRU"
   },
   "outputs": [],
   "source": [
    "# Check Countries IDs\n",
    "data_table.DataTable(bibfile.table_id_ctr, num_rows_per_page = 15)"
   ]
  },
  {
   "cell_type": "code",
   "execution_count": null,
   "metadata": {
    "id": "euLTb4pm0FiP"
   },
   "outputs": [],
   "source": [
    "# Check Authors Keywords IDs\n",
    "data_table.DataTable(bibfile.table_id_kwa, num_rows_per_page = 15)"
   ]
  },
  {
   "cell_type": "code",
   "execution_count": null,
   "metadata": {
    "id": "NChCYXkC0Hd1"
   },
   "outputs": [],
   "source": [
    "# Check Keywords Plus IDs\n",
    "data_table.DataTable(bibfile.table_id_kwp, num_rows_per_page = 15)"
   ]
  },
  {
   "cell_type": "code",
   "execution_count": null,
   "metadata": {
    "id": "ZQG0bgxH0KJK"
   },
   "outputs": [],
   "source": [
    "# WordCloud from the Abstracts, Title, Authors Keywords or Keywords Plus\n",
    "# Arguments: entry = 'abs', 'title', 'kwa', or 'kwp'\n",
    "bibfile.word_cloud_plot(entry = 'abs', size_x = 15, size_y = 10, wordsn = 500)"
   ]
  },
  {
   "cell_type": "code",
   "execution_count": null,
   "metadata": {
    "id": "4JGWp-tH2xkY"
   },
   "outputs": [],
   "source": [
    "# Check Table\n",
    "table             = PrettyTable()\n",
    "data_wd           = bibfile.ask_gpt_wd\n",
    "table.field_names = ['Word', 'Importance']\n",
    "for key, value in data_wd.items():\n",
    "    table.add_row([key, round(value, 4)])\n",
    "print(table)"
   ]
  },
  {
   "cell_type": "code",
   "execution_count": null,
   "metadata": {
    "id": "mxS8hd3DCZ-Q"
   },
   "outputs": [],
   "source": [
    "# N-Grams\n",
    "# Arguments: view       = 'notebook', 'browser' ('notebook' -> To plot in your prefered Notebook App. 'browser' -> To plot in your prefered browser window);\n",
    "#            entry      = 'abs', 'title', 'kwa', or 'kwp'\n",
    "#            n_grams    = An integer with size n (representing the most common groups of words with size n)\n",
    "#            stop_words = A list of stopwords to clean the corpus. ['ar', 'bn', 'bg', 'cs', 'en', 'fi', 'fr', 'de', 'el', 'hi', 'he', 'hu', 'it', 'ja', 'ko',  'mr', 'fa', 'pl', 'pt-br', 'ro', 'ru', 'es', 'sv', 'sk', 'zh', 'th', 'uk'];\n",
    "#                         'ar' = Arabic; 'bn' = Bengali; 'bg' = Bulgarian; 'cs' = Czech; 'en' = English; 'fi' = Finnish; 'fr' = French; 'de' = German; 'el' = Greek; 'he' = Hebrew;'hi' = Hindi; 'hu' = Hungarian; 'it' = Italian;\n",
    "#                         'ja' = Japanese; 'ko' = Korean; 'mr' =  Marathi; 'fa' =  Persian; 'pl' =  Polish; 'pt-br' = Potuguese-Brazilian; 'ro' = Romanian; 'ru' = Russian; 'es' =  Spanish; 'sk' = Slovak; 'sv' = Swedish;\n",
    "#                         'zh' = Chinese; 'th' = Thai; 'uk' = Ukrainian\n",
    "#            rmv_custom_words  = A list of custom stopwords to clean the corpus\n",
    "#             wordsn           = Number of N-Grams\n",
    "bibfile.get_top_ngrams(view = 'notebook', entry = 'kwp', ngrams = 3, stop_words = [], rmv_custom_words = [], wordsn = 15)"
   ]
  },
  {
   "cell_type": "code",
   "execution_count": null,
   "metadata": {
    "id": "pXlil6lt30gC"
   },
   "outputs": [],
   "source": [
    "# Check Table\n",
    "data_ng = bibfile.ask_gpt_ng\n",
    "data_table.DataTable(data_ng, num_rows_per_page = 15)"
   ]
  },
  {
   "cell_type": "code",
   "execution_count": null,
   "metadata": {
    "id": "2v_vfk-60PRz"
   },
   "outputs": [],
   "source": [
    "# Documents Projection based on Words. (An interactive plot). It returns the Projection (each document coordinate) and the Labels (each document cluster)\n",
    "# Arguments: view              = 'notebook', 'browser' ('notebook' -> To plot in your prefered Notebook App. 'browser' -> To plot in your prefered browser window);\n",
    "#            corpus_type       = 'abs', 'title', 'kwa', or 'kwp';\n",
    "#            stop_words        = A list of stopwords to clean the corpus. ['ar', 'bn', 'bg', 'cs', 'en', 'fi', 'fr', 'de', 'el', 'hi', 'he', 'hu', 'it', 'ja', 'ko',  'mr', 'fa', 'pl', 'pt-br', 'ro', 'ru', 'es', 'sv', 'sk', 'zh', 'th', 'uk'];\n",
    "#                                'ar' = Arabic; 'bn' = Bengali; 'bg' = Bulgarian; 'cs' = Czech; 'en' = English; 'fi' = Finnish; 'fr' = French; 'de' = German; 'el' = Greek; 'he' = Hebrew;'hi' = Hindi; 'hu' = Hungarian; 'it' = Italian;\n",
    "#                                'ja' = Japanese; 'ko' = Korean; 'mr' =  Marathi; 'fa' =  Persian; 'pl' =  Polish; 'pt-br' = Potuguese-Brazilian; 'ro' = Romanian; 'ru' = Russian; 'es' =  Spanish; 'sk' = Slovak; 'sv' = Swedish;\n",
    "#                                'zh' = Chinese; 'th' = Thai; 'uk' = Ukrainian\n",
    "#            rmv_custom_words  = A list of custom stopwords to clean the corpus;\n",
    "#            custom_label      = A list of custom labels for each document. The user can define each document cluster;\n",
    "#            custom_projection = A list of custom coordinates for each document. The user can define each document coordinate;\n",
    "#            n_components      = Number of Dimensions;\n",
    "#            n_clusters        = Number of Clusters;\n",
    "#            tf_idf            = True or False (True -> The Cluster Algorithm will use the DTM to calculate each document Label. False -> The Cluster Algorithm will use the Coordinates to calculate each document Label)\n",
    "#            embeddings        = True or False (True -> The Cluster Algorithm will use the Word Embeddings to calculate each document Label. False -> The Cluster Algorithm will use the Coordinates to calculate each document Label)\n",
    "#            method            = 'tsvd' or 'umap' ('tsvd' -> Truncated SVD projection method is used. 'umap' -> UMAP projection method is used)\n",
    "projection, labels = bibfile.docs_projection(view              = 'notebook',\n",
    "                                             corpus_type       = 'abs',\n",
    "                                             stop_words        = ['en'],\n",
    "                                             rmv_custom_words  = [],\n",
    "                                             custom_label      = [],\n",
    "                                             custom_projection = [],\n",
    "                                             n_components      = 2,\n",
    "                                             n_clusters        = 5,\n",
    "                                             tf_idf            = False,\n",
    "                                             embeddings        = False,\n",
    "                                             method            = 'umap')"
   ]
  },
  {
   "cell_type": "code",
   "execution_count": null,
   "metadata": {
    "id": "pvBkmPwk36MV"
   },
   "outputs": [],
   "source": [
    "# Check Table\n",
    "data_pr = pd.DataFrame(np.hstack([projection, labels.reshape(-1,1)]))\n",
    "data_table.DataTable(data_pr, num_rows_per_page = 15)"
   ]
  },
  {
   "cell_type": "code",
   "execution_count": null,
   "metadata": {
    "id": "FsLZD1zsDvDk"
   },
   "outputs": [],
   "source": [
    "# Check Articles per Cluster\n",
    "cluster      = 0\n",
    "idx_articles = [i for i in range(0, labels.shape[0]) if labels[i] == cluster]\n",
    "print(*idx_articles, sep = ', ')"
   ]
  },
  {
   "cell_type": "code",
   "execution_count": null,
   "metadata": {
    "id": "l11mKYgT1O5P"
   },
   "outputs": [],
   "source": [
    "# Arguments: view              = 'notebook', 'browser' ('notebook' -> To plot in your prefered Notebook App. 'browser' -> To plot in your prefered browser window);\n",
    "#            key               = 'abs', 'title', 'jou, 'kwa', or 'kwp';\n",
    "#            stop_words        = A list of stopwords to clean the corpus. ['ar', 'bn', 'bg', 'cs', 'en', 'fi', 'fr', 'de', 'el', 'hi', 'he', 'hu', 'it', 'ja', 'ko',  'mr', 'fa', 'pl', 'pt-br', 'ro', 'ru', 'es', 'sv', 'sk', 'zh', 'th', 'uk'];\n",
    "#                                'ar' = Arabic; 'bn' = Bengali; 'bg' = Bulgarian; 'cs' = Czech; 'en' = English; 'fi' = Finnish; 'fr' = French; 'de' = German; 'el' = Greek; 'he' = Hebrew;'hi' = Hindi; 'hu' = Hungarian; 'it' = Italian;\n",
    "#                                'ja' = Japanese; 'ko' = Korean; 'mr' =  Marathi; 'fa' =  Persian; 'pl' =  Polish; 'pt-br' = Potuguese-Brazilian; 'ro' = Romanian; 'ru' = Russian; 'es' =  Spanish; 'sk' = Slovak; 'sv' = Swedish;\n",
    "#                                'zh' = Chinese; 'th' = Thai; 'uk' = Ukrainian\n",
    "#            rmv_custom_words  = A list of custom stopwords to clean the corpus;\n",
    "#            topn              = Total number entities;\n",
    "#            start             = Start Year; -1 = all years\n",
    "#            end               = End Year;   -1 = all years\n",
    "bibfile.plot_evolution_year(view             = 'notebook',\n",
    "                            stop_words       = ['en'],\n",
    "                            rmv_custom_words = [],\n",
    "                            key              = 'abs',\n",
    "                            topn             = 10,\n",
    "                            start            = 2010,\n",
    "                            end              = 2021)"
   ]
  },
  {
   "cell_type": "code",
   "execution_count": null,
   "metadata": {
    "id": "IsEl4atk4Fwy"
   },
   "outputs": [],
   "source": [
    "# View Table\n",
    "data_ep = bibfile.ask_gpt_ep\n",
    "print(textwrap.fill(data_ep, 150))"
   ]
  },
  {
   "cell_type": "code",
   "execution_count": null,
   "metadata": {
    "id": "W1f5WMSd1Puu"
   },
   "outputs": [],
   "source": [
    "# Sankey Diagram (An interactive plot)\n",
    "# Arguments: view  = 'notebook', 'browser' ('notebook' -> To plot in your prefered Notebook App. 'browser' -> To plot in your prefered browser window);\n",
    "#            entry = a list of any length of the following keys -> 'aut', 'cout', 'inst', 'jou', 'kwa', 'kwp', 'lan';\n",
    "#            topn  = Total number entities\n",
    "bibfile.sankey_diagram(view = 'notebook', entry = ['aut', 'cout', 'inst', 'lan'], topn = 10)\n",
    "\n",
    "# PS: The white bars can be dragged"
   ]
  },
  {
   "cell_type": "code",
   "execution_count": null,
   "metadata": {
    "id": "LL2S7sCT4TBn"
   },
   "outputs": [],
   "source": [
    "# View Table\n",
    "data_sk = bibfile.ask_gpt_sk\n",
    "data_table.DataTable(data_sk, num_rows_per_page = 15)"
   ]
  },
  {
   "cell_type": "code",
   "execution_count": null,
   "metadata": {
    "id": "EesskT3t1Rtv"
   },
   "outputs": [],
   "source": [
    "# Tree Map\n",
    "# Arguments: entry = 'kwp', 'kwa', 'aut', 'jou', 'ctr', or 'inst';\n",
    "#            topn  = Total number entities\n",
    "bibfile.tree_map(entry = 'jou', topn = 20, size_x = 30, size_y = 10)"
   ]
  },
  {
   "cell_type": "code",
   "execution_count": null,
   "metadata": {
    "id": "FEP8AVp61W-Q"
   },
   "outputs": [],
   "source": [
    "# Authors Productivity Plot (An interactive plot). It informs for each year the documents (IDs) published for each author\n",
    "# Arguments: view = 'notebook', 'browser' ('notebook' -> To plot in your prefered Notebook App. 'browser' -> To plot in your prefered browser window);\n",
    "#            topn = Total number entities\n",
    "bibfile.authors_productivity(view = 'notebook', topn = 20)"
   ]
  },
  {
   "cell_type": "code",
   "execution_count": null,
   "metadata": {
    "id": "bcuNgfE34awJ"
   },
   "outputs": [],
   "source": [
    "# View Table\n",
    "data_ap = bibfile.ask_gpt_ap\n",
    "data_table.DataTable(data_ap, num_rows_per_page = 15)"
   ]
  },
  {
   "cell_type": "code",
   "execution_count": null,
   "metadata": {
    "id": "yb6ANMQQ1fGv"
   },
   "outputs": [],
   "source": [
    "# Bar Plots\n",
    "# Arguments: statistic = 'dpy', 'cpy', 'ppy', 'ltk', 'spd', 'spc', 'apd', 'apc', 'aph', 'bdf_1', 'bdf_2', 'bdf_3', 'ipd', 'ipc', 'cpd', 'cpc', 'lpd', 'kpd', 'kad'\n",
    "#                        'dpy' = Documents per Year\n",
    "#                         cpy' = Citations per Year\n",
    "#                        'ppy' = Past Citations per Year\n",
    "#                        'ltk' = Lotka's Law\n",
    "#                        'spd' = Sources per Documents\n",
    "#                        'spc' = Sources per Citations\n",
    "#                        'apd' = Authors per Documents\n",
    "#                        'apc' = Authors per Citations\n",
    "#                        'aph' = Authors per H-Index\n",
    "#                        'bdf_1', 'bdf_2', 'bdf_3' = Bradford's Law - Core Sources 1, 2 or 3\n",
    "#                        'ipd' = Institutions per Documents\n",
    "#                        'ipc' = Institutions per Citations\n",
    "#                        'cpd' = Countries per Documents\n",
    "#                        'cpc' = Countries per Citations\n",
    "#                        'lpd' = Language per Documents\n",
    "#                        'kpd' = Keywords Plus per Documents\n",
    "#                        'kad' = Authors' Keywords per Documents\n",
    "#            topn      = Total number entities\n",
    "bibfile.plot_bars(statistic = 'dpy', topn = 20, size_x = 15, size_y = 10)"
   ]
  },
  {
   "cell_type": "code",
   "execution_count": null,
   "metadata": {
    "id": "vH7uXNWI4igv"
   },
   "outputs": [],
   "source": [
    "# View Table\n",
    "data_bp = bibfile.ask_gpt_bp\n",
    "data_table.DataTable(data_bp, num_rows_per_page = 15)"
   ]
  },
  {
   "cell_type": "code",
   "execution_count": null,
   "metadata": {
    "id": "E4RgBTJ41htw"
   },
   "outputs": [],
   "source": [
    "# Network - Citation Analisys Between Documents (Blue Nodes) and Citations (Red Nodes).  (An interactive plot).\n",
    "# Arguments: view        = 'notebook', 'browser' ('notebook' -> To plot in your prefered Notebook App. 'browser' -> To plot in your prefered browser window);\n",
    "#            min_count   = Relationship between nodes that have been cited at least x times;\n",
    "#            node_labels = True or False (True -> The label IDs will be displayed, False -> Only the nodes will be displayed );\n",
    "#            local_nodes = True or False (True -> Only the blue will be displayed, False -> Red and Blue nodes will be displayed)\n",
    "bibfile.network_adj_dir(view = 'notebook', min_count = 10, node_labels = True, local_nodes = False)"
   ]
  },
  {
   "cell_type": "code",
   "execution_count": null,
   "metadata": {
    "id": "a8Se4gsd4pUG"
   },
   "outputs": [],
   "source": [
    "# View Table\n",
    "data_nad = bibfile.ask_gpt_nad\n",
    "data_table.DataTable(data_nad, num_rows_per_page = 15)"
   ]
  },
  {
   "cell_type": "code",
   "execution_count": null,
   "metadata": {
    "id": "l8Pwz7141kDE"
   },
   "outputs": [],
   "source": [
    "# Network - Highlight Citation Analysis Between Documents (Blue Nodes) and Citations (Red Nodes).  (An interactive plot).\n",
    "# Arguments: view        = 'notebook', 'browser' ('notebook' -> To plot in your prefered Notebook App. 'browser' -> To plot in your prefered browser window);\n",
    "#            article_ids = A list of Blue Nodes. It indicates the documents cited by them;\n",
    "#            ref_ids     = A list of Red Nodes. It indicates the documents that cites them\n",
    "bibfile.find_nodes_dir(view = 'notebook', article_ids = [], ref_ids = [])"
   ]
  },
  {
   "cell_type": "code",
   "execution_count": null,
   "metadata": {
    "id": "Xy8lhPNs1mpU"
   },
   "outputs": [],
   "source": [
    "# Network - Highlight Citation Analysis Between Documents (Blue Nodes) and Citations (Red Nodes).  (An interactive plot).\n",
    "# Arguments: view        = 'notebook', 'browser' ('notebook' -> To plot in your prefered Notebook App. 'browser' -> To plot in your prefered browser window);\n",
    "#            article_ids = A list of Blue Nodes. It indicates the documents cited by them;\n",
    "#            ref_ids     = A list of Red Nodes. It indicates the documents that cites them\n",
    "bibfile.find_nodes_dir(view = 'notebook', article_ids = [], ref_ids = ['r_1409'])"
   ]
  },
  {
   "cell_type": "code",
   "execution_count": null,
   "metadata": {
    "id": "Z5JH5Akx1pEn"
   },
   "outputs": [],
   "source": [
    "# Network - Local Documents (Only Blue Nodes) Citation History. (An interactive plot).\n",
    "# Arguments: view        = 'notebook', 'browser' ('notebook' -> To plot in your prefered Notebook App. 'browser' -> To plot in your prefered browser window);\n",
    "#            min_count   = Relationship between nodes that have connected at least x times;\n",
    "#            node_size   = -1. (If node_size = -1 then the default value will be used. If node_size > 0 then this new value will be used);\n",
    "#            node_labels = True or False (True -> The label IDs will be displayed, False -> Only the nodes will be displayed );\n",
    "#            back        = A list of documents. It shows the documents cited by them direct and indirectly;\n",
    "#            forward     = A list of documents. It shows the documents that cites them direct and indirectly\n",
    "bibfile.network_hist(view = 'notebook', min_count = 0, node_size = -1, node_labels = True, back = [], forward = [])"
   ]
  },
  {
   "cell_type": "code",
   "execution_count": null,
   "metadata": {
    "id": "tuTXkMwn43ph"
   },
   "outputs": [],
   "source": [
    "# View Table\n",
    "data_hist = bibfile.ask_gpt_hist\n",
    "data_table.DataTable(data_hist, num_rows_per_page = 15)"
   ]
  },
  {
   "cell_type": "code",
   "execution_count": null,
   "metadata": {
    "id": "E7ScfV1z1rl4"
   },
   "outputs": [],
   "source": [
    "# Network - Local Documents (Only Blue Nodes) Citation History. (An interactive plot).\n",
    "# Arguments: view        = 'notebook', 'browser' ('notebook' -> To plot in your prefered Notebook App. 'browser' -> To plot in your prefered browser window);\n",
    "#            min_count   = Relationship between nodes that have connected at least x times;\n",
    "#            node_size   = -1. (If node_size = -1 then the default value will be used. If node_size > 0 then this new value will be used);\n",
    "#            node_labels = True or False (True -> The label IDs will be displayed, False -> Only the nodes will be displayed );\n",
    "#            back        = A list of documents. It shows the documents cited by them direct and indirectly;\n",
    "#            forward     = A list of documents. It shows the documents that cites them direct and indirectly\n",
    "bibfile.network_hist(view = 'notebook', min_count = 0, node_size = -1, node_labels = True, back = [], forward = [])"
   ]
  },
  {
   "cell_type": "code",
   "execution_count": null,
   "metadata": {
    "id": "RwusBFYoyzZp"
   },
   "outputs": [],
   "source": [
    "# Network - Local Documents (Only Blue Nodes) Citation History. (An interactive plot).\n",
    "# Arguments: view        = 'notebook', 'browser' ('notebook' -> To plot in your prefered Notebook App. 'browser' -> To plot in your prefered browser window);\n",
    "#            min_count   = Relationship between nodes that have connected at least x times;\n",
    "#            node_size   = -1. (If node_size = -1 then the default value will be used. If node_size > 0 then this new value will be used);\n",
    "#            node_labels = True or False (True -> The label IDs will be displayed, False -> Only the nodes will be displayed );\n",
    "#            back        = A list of documents. It shows the documents cited by them direct and indirectly;\n",
    "#            forward     = A list of documents. It shows the documents that cites them direct and indirectly\n",
    "bibfile.network_hist(view = 'notebook', min_count = 0, node_size = -1, node_labels = True, back = ['176'], forward = [])"
   ]
  },
  {
   "cell_type": "code",
   "execution_count": null,
   "metadata": {
    "id": "81BFUom31uNQ"
   },
   "outputs": [],
   "source": [
    "# Network - Local Documents (Only Blue Nodes) Citation History. (An interactive plot).\n",
    "# Arguments: view        = 'notebook', 'browser' ('notebook' -> To plot in your prefered Notebook App. 'browser' -> To plot in your prefered browser window);\n",
    "#            min_count   = Relationship between nodes that have connected at least x times;\n",
    "#            node_size   = -1. (If node_size = -1 then the default value will be used. If node_size > 0 then this new value will be used);\n",
    "#            node_labels = True or False (True -> The label IDs will be displayed, False -> Only the nodes will be displayed );\n",
    "#            back        = A list of documents. It shows the documents cited by them direct and indirectly;\n",
    "#            forward     = A list of documents. It shows the documents that cites them direct and indirectly\n",
    "bibfile.network_hist(view = 'notebook', min_count = 0, node_size = -1, node_labels = True, back = [], forward = [])"
   ]
  },
  {
   "cell_type": "code",
   "execution_count": null,
   "metadata": {
    "id": "46ftusq91yFS"
   },
   "outputs": [],
   "source": [
    "# Network - Collaboration Analysis Between Authors, Countries, Intitutions Or Adjacency Analysis Between Authors' Keywords or Keywords Plus. (An interactive plot).\n",
    "# Arguments: view        = 'notebook', 'browser' ('notebook' -> To plot in your prefered Notebook App. 'browser' -> To plot in your prefered browser window);\n",
    "#            adj_type    = 'aut', 'cout', 'inst', 'kwa', or 'kwp'\n",
    "#            min_count   = Relationship between nodes that have connected at least x times;\n",
    "#            node_labels = True or False (True -> The label IDs will be displayed, False -> Only the nodes will be displayed );\n",
    "#            node_size   = -1. (If node_size = -1 then the default value will be used. If node_size > 0 then this new value will be used);\n",
    "#            label_type  = 'id', 'name' (Only meaningfull if node_labels = True. 'id' -> The ID will be displayed; 'name' -> The name will be displayed);\n",
    "#            centrality  = 'degree', 'load', 'betw', 'close', 'eigen', 'katz', 'harmonic', or None. Color nodes according to centrality criterion\n",
    "#                          'degree'   = Degree Centrality\n",
    "#                          'load'     = Load Centrality\n",
    "#                          'betw'     = Betweenness Centrality\n",
    "#                          'close'    = Closeness Centrality\n",
    "#                          'eigen'    = Eigenvector Centrality\n",
    "#                          'katz'     = Katz Centrality\n",
    "#                          'harmonic' = Harmonic Centrality\n",
    "#                           None      = The Community Algorithm, Girvan-Newman, will be used Instead of a Centrality Criterion\n",
    "bibfile.network_adj(view = 'notebook', adj_type = 'aut', min_count = 3, node_labels = True, label_type = 'name', centrality = None)\n",
    "\n",
    "# PS: If a centrality criterion is used then the values can be obtained by the following command:  bibfile.table_centr"
   ]
  },
  {
   "cell_type": "code",
   "execution_count": null,
   "metadata": {
    "id": "uXmh8vnA5KzO"
   },
   "outputs": [],
   "source": [
    "# View Table\n",
    "data_adj = bibfile.ask_gpt_adj\n",
    "data_table.DataTable(data_adj, num_rows_per_page = 15)"
   ]
  },
  {
   "cell_type": "code",
   "execution_count": null,
   "metadata": {
    "id": "IYn_wOZx1y72"
   },
   "outputs": [],
   "source": [
    "# Network - Highlight  Collaboration Analysis Between Authors, Countries, Intitutions Or Adjacency Analysis Between Authors' Keywords or Keywords Plus. (An interactive plot).\n",
    "# Arguments: view      = 'notebook', 'browser' ('notebook' -> To plot in your prefered Notebook App. 'browser' -> To plot in your prefered browser window);\n",
    "#            node_ids  = A list of IDs. Only meaningfull if label_type = 'id';\n",
    "#            node_name = A list of Names. Only meaningfull iflabel_type = 'name';\n",
    "#            node_only = True or False (True -> Only the Node will be Highlighted, False -> Node and its Connections will be Highlighted)\n",
    "bibfile.find_nodes(node_ids = [], node_name = [], node_only = False)"
   ]
  },
  {
   "cell_type": "code",
   "execution_count": null,
   "metadata": {
    "id": "PlQ1t9Qa15RI"
   },
   "outputs": [],
   "source": [
    "# Network - Similarity Analysis using coupling or cocitation methods. (An interactive plot).\n",
    "# Arguments: view        = 'notebook', 'browser' ('notebook' -> To plot in your prefered Notebook App. 'browser' -> To plot in your prefered browser window);\n",
    "#            sim_type    = 'coup', 'cocit' ('coup' -> Coupling Method, 'cocit' -> Cocitation Method)\n",
    "#            node_size   = -1. (If node_size = -1 then the default value will be used. If node_size > 0 then this new value will be used);\n",
    "#            node_labels = True or False (True -> The label IDs will be displayed, False -> Only the nodes will be displayed );\n",
    "#            cut_coup    = Cutoff value for Coupling Method. Only meaninfull if sim_type = 'coup';\n",
    "#            cut_cocit   = Cutoff value for Cocitation Method. Only meaninfull if sim_type = 'cocit'\n",
    "bibfile.network_sim(view = 'notebook', sim_type = 'cocit', node_size = 10, node_labels = True, cut_coup = 0.3, cut_cocit = 10)"
   ]
  },
  {
   "cell_type": "code",
   "execution_count": null,
   "metadata": {
    "id": "b1m58WT717ZC"
   },
   "outputs": [],
   "source": [
    "# Check Similarity Values\n",
    "data_table.DataTable(bibfile.sim_table, num_rows_per_page = 15)"
   ]
  },
  {
   "cell_type": "code",
   "execution_count": null,
   "metadata": {
    "id": "dxcYcj4519c3"
   },
   "outputs": [],
   "source": [
    "# Network - Collaboration Analysis Between Countries using a Map. (An interactive plot).\n",
    "# Arguments: view        = 'notebook', 'browser' ('notebook' -> To plot in your prefered Notebook App. 'browser' -> To plot in your prefered browser window);\n",
    "#            connections = True or False (True -> Countries connections will be displayed, False -> Countries connections will not be displayed);\n",
    "#            country_lst = Highlight the Connections Between a List of Countries\n",
    "bibfile.network_adj_map(view = 'notebook', connections = True, country_lst = [])"
   ]
  },
  {
   "cell_type": "code",
   "execution_count": null,
   "metadata": {
    "id": "_HVvJmkm5MtS"
   },
   "outputs": [],
   "source": [
    "# View Table\n",
    "data_map = bibfile.ask_gpt_map\n",
    "data_table.DataTable(data_map, num_rows_per_page = 15)"
   ]
  },
  {
   "cell_type": "code",
   "execution_count": null,
   "metadata": {
    "id": "fUYLR89T1_nl"
   },
   "outputs": [],
   "source": [
    "# Network - Collaboration Analysis Between Countries using a Map. (An interactive plot).\n",
    "# Arguments: view        = 'notebook', 'browser' ('notebook' -> To plot in your prefered Notebook App. 'browser' -> To plot in your prefered browser window);\n",
    "#            connections = True or False (True -> Countries connections will be displayed, False -> Countries connections will not be displayed);\n",
    "#            country_lst = Highlight the Connections Between a List of Countries\n",
    "bibfile.network_adj_map(view = 'notebook', connections = False, country_lst = [])"
   ]
  },
  {
   "cell_type": "code",
   "execution_count": null,
   "metadata": {
    "id": "bPyyfcLv-Npe"
   },
   "outputs": [],
   "source": [
    "# NLP\n",
    "# Arguments: corpus_type       = 'abs', 'title', 'kwa', or 'kwp';\n",
    "#            stop_words        = A list of stopwords to clean the corpus. ['ar', 'bn', 'bg', 'cs', 'en', 'fi', 'fr', 'de', 'el', 'hi', 'he', 'hu', 'it', 'ja', 'ko',  'mr', 'fa', 'pl', 'pt-br', 'ro', 'ru', 'es', 'sv', 'sk', 'zh', 'th', 'uk'];\n",
    "#                                'ar' = Arabic; 'bn' = Bengali; 'bg' = Bulgarian; 'cs' = Czech; 'en' = English; 'fi' = Finnish; 'fr' = French; 'de' = German; 'el' = Greek; 'he' = Hebrew;'hi' = Hindi; 'hu' = Hungarian; 'it' = Italian;\n",
    "#                                'ja' = Japanese; 'ko' = Korean; 'mr' =  Marathi; 'fa' =  Persian; 'pl' =  Polish; 'pt-br' = Potuguese-Brazilian; 'ro' = Romanian; 'ru' = Russian; 'es' =  Spanish; 'sk' = Slovak; 'sv' = Swedish;\n",
    "#                                'zh' = Chinese; 'th' = Thai; 'uk' = Ukrainian\n",
    "#            rmv_custom_words  = A list of custom stopwords to clean the corpus;\n",
    "bibfile.create_embeddings(stop_words = ['en'], rmv_custom_words = [], corpus_type = 'abs')\n",
    "emb = bibfile.embds"
   ]
  },
  {
   "cell_type": "code",
   "execution_count": null,
   "metadata": {
    "id": "MnwPF-8pInGa"
   },
   "outputs": [],
   "source": [
    "# NLP #-1 refers to all outliers and should typically be ignored.\n",
    "# Arguments: stop_words        = A list of stopwords to clean the corpus. ['ar', 'bn', 'bg', 'cs', 'en', 'fi', 'fr', 'de', 'el', 'hi', 'he', 'hu', 'it', 'ja', 'ko',  'mr', 'fa', 'pl', 'pt-br', 'ro', 'ru', 'es', 'sv', 'sk', 'zh', 'th', 'uk'];\n",
    "#                              'ar' = Arabic; 'bn' = Bengali; 'bg' = Bulgarian; 'cs' = Czech; 'en' = English; 'fi' = Finnish; 'fr' = French; 'de' = German; 'el' = Greek; 'he' = Hebrew;'hi' = Hindi; 'hu' = Hungarian; 'it' = Italian;\n",
    "#                              'ja' = Japanese; 'ko' = Korean; 'mr' =  Marathi; 'fa' =  Persian; 'pl' =  Polish; 'pt-br' = Potuguese-Brazilian; 'ro' = Romanian; 'ru' = Russian; 'es' =  Spanish; 'sk' = Slovak; 'sv' = Swedish;\n",
    "#                              'zh' = Chinese; 'th' = Thai; 'uk' = Ukrainian\n",
    "#            rmv_custom_words  = A list of custom stopwords to clean the corpus;\n",
    "#            embeddings        = True or False. If True then word embeddings are used to create the topics\n",
    "bibfile.topics_creation(stop_words = ['en'], rmv_custom_words = [], embeddings = False)"
   ]
  },
  {
   "cell_type": "code",
   "execution_count": null,
   "metadata": {
    "id": "mY_MhzS4Inw-"
   },
   "outputs": [],
   "source": [
    "# NLP\n",
    "# Each document Topic\n",
    "topics = bibfile.topics"
   ]
  },
  {
   "cell_type": "code",
   "execution_count": null,
   "metadata": {
    "id": "hvpyHGapIqf3"
   },
   "outputs": [],
   "source": [
    "# NLP\n",
    "# Each document Probability to belong a Topic\n",
    "probs = bibfile.probs"
   ]
  },
  {
   "cell_type": "code",
   "execution_count": null,
   "metadata": {
    "id": "dOcdN3ihIu0I"
   },
   "outputs": [],
   "source": [
    "# NLP\n",
    "# Arguments: view = 'notebook', 'browser' ('notebook' -> To plot in your prefered Notebook App. 'browser' -> To plot in your prefered browser window)\n",
    "bibfile.graph_topics_distribution(view = 'notebook')"
   ]
  },
  {
   "cell_type": "code",
   "execution_count": null,
   "metadata": {
    "id": "K2rYYbOlIyXk"
   },
   "outputs": [],
   "source": [
    "# NLP\n",
    "# Arguments: view = 'notebook', 'browser' ('notebook' -> To plot in your prefered Notebook App. 'browser' -> To plot in your prefered browser window)\n",
    "bibfile.graph_topics(view = 'notebook')"
   ]
  },
  {
   "cell_type": "code",
   "execution_count": null,
   "metadata": {
    "id": "fKyPK1LxIzD9"
   },
   "outputs": [],
   "source": [
    "# NLP\n",
    "# Arguments: view = 'notebook', 'browser' ('notebook' -> To plot in your prefered Notebook App. 'browser' -> To plot in your prefered browser window)\n",
    "bibfile.graph_topics_projection(view = 'notebook')"
   ]
  },
  {
   "cell_type": "code",
   "execution_count": null,
   "metadata": {
    "id": "DcmcjNDpI16_"
   },
   "outputs": [],
   "source": [
    "# NLP\n",
    "# Arguments: view = 'notebook', 'browser' ('notebook' -> To plot in your prefered Notebook App. 'browser' -> To plot in your prefered browser window)\n",
    "bibfile.graph_topics_heatmap(view = 'notebook')"
   ]
  },
  {
   "cell_type": "code",
   "execution_count": null,
   "metadata": {
    "id": "PGf8OBmZI60J"
   },
   "outputs": [],
   "source": [
    "# NLP\n",
    "bibfile.topics_representatives()"
   ]
  },
  {
   "cell_type": "code",
   "execution_count": null,
   "metadata": {
    "id": "B31eDPxLI9mB"
   },
   "outputs": [],
   "source": [
    "# NLP\n",
    "similar_topics, similarity = bibfile.topic_model.find_topics('electre', top_n = 10)\n",
    "for i in range(0, len(similar_topics)):\n",
    "  print('Topic: ', similar_topics[i], 'Correlation: ', round(similarity[i], 3))"
   ]
  },
  {
   "cell_type": "code",
   "execution_count": null,
   "metadata": {
    "id": "iM8cgpvlJABb"
   },
   "outputs": [],
   "source": [
    "# NLP\n",
    "bibfile.topic_model.save('my_topic_model')\n",
    "#loaded_topic_model = BERTopic.load('my_topic_model')"
   ]
  },
  {
   "cell_type": "code",
   "execution_count": null,
   "metadata": {
    "id": "KsGDrIlMhn3F"
   },
   "outputs": [],
   "source": [
    "# NLP - Abstractive Summarization\n",
    "# Arguments: article_ids = A list of documents to perform an abstractive summarization with the available abstracts. If the list is empty then all documents will be used\n",
    "#            model_name  = Available pre-trained models. Complete list is available at  https://huggingface.co/models?pipeline_tag=summarization&sort=downloads&search=pegasus\n",
    "abs_summary = bibfile.summarize_abst_peg(article_ids = [171, 184, 98], model_name = 'google/pegasus-xsum')"
   ]
  },
  {
   "cell_type": "code",
   "execution_count": null,
   "metadata": {
    "id": "62jUQ26IHpGQ"
   },
   "outputs": [],
   "source": [
    "# NLP - Check Abstractive Summarization\n",
    "print(textwrap.fill(abs_summary, 150))"
   ]
  },
  {
   "cell_type": "code",
   "execution_count": null,
   "metadata": {
    "id": "pdYsa7GxVsCo"
   },
   "outputs": [],
   "source": [
    "# NLP - Abstractive Summarization - chatGPT\n",
    "\n",
    "# OBS 1: Requires the user to have an **API key** (https://platform.openai.com/account/api-keys))\n",
    "# OBS 2: The limit of characters is 4097 per request\n",
    "\n",
    "# Arguments: article_ids   = A list of documents to perform an abstractive summarization with the available abstracts. If the list is empty then all documents will be used\n",
    "#            join_articles = If False then the abstracts will be analyzed separately. If True then the abstracts will be concate in a single text\n",
    "#            api_key       = 'your_api_key_here'. Insert your personal API key (https://platform.openai.com/account/api-keys)\n",
    "#            model         = Specifies the AI model used for text generation. The default value is \"text-davinci-003\"\n",
    "#            query         = Ask chatGPT what you want to do with the abstracts. The default query is: 'from the following scientific abstracts, summarize the main information in a single paragraph using around 250 words'\n",
    "abs_summary_chat = bibfile.summarize_abst_chatgpt(article_ids = [1,2], join_articles = True, api_key = 'your_api_key_here', query = 'from the following scientific abstracts, summarize the main information in a single paragraph using around 250 words', model = 'gpt-4')"
   ]
  },
  {
   "cell_type": "code",
   "execution_count": null,
   "metadata": {
    "id": "tmffgTX9VsNY"
   },
   "outputs": [],
   "source": [
    "# NLP - Check Abstractive Summarization\n",
    "print(textwrap.fill(abs_summary_chat, 250))"
   ]
  },
  {
   "cell_type": "code",
   "execution_count": null,
   "metadata": {
    "id": "vl3veyixhoRG"
   },
   "outputs": [],
   "source": [
    "# NLP - Extractive Summarization\n",
    "# Arguments: article_ids = A list of documents to perform an extractive summarization with the available abstracts. If the list is empty then all documents will be used\n",
    "ext_summary = bibfile.summarize_ext_bert(article_ids = [1, 2])"
   ]
  },
  {
   "cell_type": "code",
   "execution_count": null,
   "metadata": {
    "id": "6D7c8GQ5HoPM"
   },
   "outputs": [],
   "source": [
    "# NLP - Check Extractive Summarization\n",
    "print(textwrap.fill(ext_summary, 150))"
   ]
  },
  {
   "cell_type": "code",
   "execution_count": null,
   "metadata": {
    "id": "37Q8Hrq22ILh"
   },
   "outputs": [],
   "source": [
    "# Filter the .bib File\n",
    "# Arguments: document = A list of documents to retain. The other documents will be deleted\n",
    "#            doc_type = A list of doc types. Check the 'report' to select the available types;\n",
    "#            year_str = An integer the determines the starting year of collection -1 = All years;\n",
    "#            year_end = An integer the determines the ending year of collection   -1 = All years;\n",
    "#            sources  = A list of sources. Check the cell '# Check Sources IDs' to select the available types;\n",
    "#            core     = A integer (-1, 1, 2, 3, 12, or 23) -1 = All sources, 1 = Bradford core 1, 2 = Bradford core 2, 3 = Bradford core 3, 12 = Bradford core 1 and 2, 23 = Bradford core 2 and 3;\n",
    "#            country  = A list of countries. Check the cell '# Check Countries IDs' to select the available types;\n",
    "#            language = A list of languages. Check the 'report' to select the available types\n",
    "#            abstract = True or False. True removes UNKNOW values from the abstract.\n",
    "bibfile.filter_bib(documents = [], doc_type = [], year_str = -1, year_end = -1, sources = [], core = -1, country = [], language = [], abstract = False)"
   ]
  },
  {
   "cell_type": "code",
   "execution_count": null,
   "metadata": {
    "id": "w3CRHwQS2K9n"
   },
   "outputs": [],
   "source": [
    "# Correct the .bib File\n",
    "# Arguments: get         = A list of the current name(s);\n",
    "#            replace_for = A string. This string will replace all matchs from the 'get' argument list\n",
    "bibfile.merge_author(get = [], replace_for = 'name')\n",
    "bibfile.merge_institution(get = [], replace_for = 'name')\n",
    "bibfile.merge_country(get = [], replace_for = 'name')\n",
    "bibfile.merge_language(get = [], replace_for = 'name')\n",
    "bibfile.merge_source(get = [], replace_for = 'name')"
   ]
  }
 ],
 "metadata": {
  "colab": {
   "provenance": []
  },
  "kernelspec": {
   "display_name": "Python 3 (ipykernel)",
   "language": "python",
   "name": "python3"
  },
  "language_info": {
   "codemirror_mode": {
    "name": "ipython",
    "version": 3
   },
   "file_extension": ".py",
   "mimetype": "text/x-python",
   "name": "python",
   "nbconvert_exporter": "python",
   "pygments_lexer": "ipython3",
   "version": "3.9.17"
  }
 },
 "nbformat": 4,
 "nbformat_minor": 1
}
